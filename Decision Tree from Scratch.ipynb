{
 "cells": [
  {
   "cell_type": "code",
   "execution_count": 16,
   "metadata": {},
   "outputs": [],
   "source": [
    "import numpy as np\n",
    "import pandas as pd\n",
    "import matplotlib.pyplot as plt\n",
    "import seaborn as sns\n",
    "import os\n",
    "import math\n",
    "from statistics import mean"
   ]
  },
  {
   "cell_type": "code",
   "execution_count": 22,
   "metadata": {},
   "outputs": [],
   "source": [
    "import warnings\n",
    "warnings.filterwarnings(\"ignore\")"
   ]
  },
  {
   "cell_type": "code",
   "execution_count": 39,
   "metadata": {},
   "outputs": [
    {
     "data": {
      "text/html": [
       "<div>\n",
       "<style scoped>\n",
       "    .dataframe tbody tr th:only-of-type {\n",
       "        vertical-align: middle;\n",
       "    }\n",
       "\n",
       "    .dataframe tbody tr th {\n",
       "        vertical-align: top;\n",
       "    }\n",
       "\n",
       "    .dataframe thead th {\n",
       "        text-align: right;\n",
       "    }\n",
       "</style>\n",
       "<table border=\"1\" class=\"dataframe\">\n",
       "  <thead>\n",
       "    <tr style=\"text-align: right;\">\n",
       "      <th></th>\n",
       "      <th>temperature</th>\n",
       "      <th>density</th>\n",
       "      <th>colour</th>\n",
       "      <th>class</th>\n",
       "    </tr>\n",
       "  </thead>\n",
       "  <tbody>\n",
       "    <tr>\n",
       "      <th>0</th>\n",
       "      <td>55.5</td>\n",
       "      <td>Medium</td>\n",
       "      <td>black</td>\n",
       "      <td>Yes</td>\n",
       "    </tr>\n",
       "    <tr>\n",
       "      <th>1</th>\n",
       "      <td>20.0</td>\n",
       "      <td>Medium</td>\n",
       "      <td>blue</td>\n",
       "      <td>No</td>\n",
       "    </tr>\n",
       "    <tr>\n",
       "      <th>2</th>\n",
       "      <td>65.0</td>\n",
       "      <td>Low</td>\n",
       "      <td>blue</td>\n",
       "      <td>No</td>\n",
       "    </tr>\n",
       "    <tr>\n",
       "      <th>3</th>\n",
       "      <td>37.0</td>\n",
       "      <td>Medium</td>\n",
       "      <td>black</td>\n",
       "      <td>Yes</td>\n",
       "    </tr>\n",
       "    <tr>\n",
       "      <th>4</th>\n",
       "      <td>63.0</td>\n",
       "      <td>Low</td>\n",
       "      <td>black</td>\n",
       "      <td>Yes</td>\n",
       "    </tr>\n",
       "  </tbody>\n",
       "</table>\n",
       "</div>"
      ],
      "text/plain": [
       "   temperature density colour class\n",
       "0         55.5  Medium  black   Yes\n",
       "1         20.0  Medium   blue    No\n",
       "2         65.0     Low   blue    No\n",
       "3         37.0  Medium  black   Yes\n",
       "4         63.0     Low  black   Yes"
      ]
     },
     "execution_count": 39,
     "metadata": {},
     "output_type": "execute_result"
    }
   ],
   "source": [
    "df= pd.read_csv(\"Q7.csv\")\n",
    "df"
   ]
  },
  {
   "cell_type": "code",
   "execution_count": 5,
   "metadata": {},
   "outputs": [
    {
     "data": {
      "text/plain": [
       "(5, 4)"
      ]
     },
     "execution_count": 5,
     "metadata": {},
     "output_type": "execute_result"
    }
   ],
   "source": [
    "df.shape"
   ]
  },
  {
   "cell_type": "code",
   "execution_count": 6,
   "metadata": {},
   "outputs": [
    {
     "data": {
      "text/plain": [
       "temperature\n",
       "20.0    1\n",
       "37.0    1\n",
       "55.5    1\n",
       "63.0    1\n",
       "65.0    1\n",
       "dtype: int64"
      ]
     },
     "execution_count": 6,
     "metadata": {},
     "output_type": "execute_result"
    }
   ],
   "source": [
    "df.groupby(['temperature']).size()"
   ]
  },
  {
   "cell_type": "code",
   "execution_count": 7,
   "metadata": {},
   "outputs": [
    {
     "data": {
      "text/plain": [
       "density\n",
       "Low       2\n",
       "Medium    3\n",
       "dtype: int64"
      ]
     },
     "execution_count": 7,
     "metadata": {},
     "output_type": "execute_result"
    }
   ],
   "source": [
    "df.groupby(['density']).size()"
   ]
  },
  {
   "cell_type": "code",
   "execution_count": 8,
   "metadata": {},
   "outputs": [
    {
     "data": {
      "text/plain": [
       "colour\n",
       "black    3\n",
       "blue     2\n",
       "dtype: int64"
      ]
     },
     "execution_count": 8,
     "metadata": {},
     "output_type": "execute_result"
    }
   ],
   "source": [
    "df.groupby(['colour']).size()"
   ]
  },
  {
   "cell_type": "code",
   "execution_count": 9,
   "metadata": {},
   "outputs": [
    {
     "data": {
      "text/plain": [
       "class\n",
       "No     2\n",
       "Yes    3\n",
       "dtype: int64"
      ]
     },
     "execution_count": 9,
     "metadata": {},
     "output_type": "execute_result"
    }
   ],
   "source": [
    "df.groupby(['class']).size()"
   ]
  },
  {
   "cell_type": "code",
   "execution_count": null,
   "metadata": {},
   "outputs": [],
   "source": []
  },
  {
   "cell_type": "code",
   "execution_count": 40,
   "metadata": {},
   "outputs": [
    {
     "data": {
      "text/plain": [
       "temperature\n",
       "Cool    2\n",
       "Hot     3\n",
       "dtype: int64"
      ]
     },
     "execution_count": 40,
     "metadata": {},
     "output_type": "execute_result"
    }
   ],
   "source": [
    "# Converting temperature into a discrete attribute:\n",
    "temp_mean= mean(df['temperature'])\n",
    "for i in range(len(df['temperature'])):\n",
    "    if df['temperature'][i]<temp_mean:\n",
    "        df['temperature'][i]='Cool'\n",
    "    elif df['temperature'][i]>=temp_mean:  \n",
    "        df['temperature'][i]='Hot'\n",
    "        \n",
    "df.groupby(['temperature']).size()        "
   ]
  },
  {
   "cell_type": "code",
   "execution_count": 41,
   "metadata": {},
   "outputs": [
    {
     "data": {
      "text/html": [
       "<div>\n",
       "<style scoped>\n",
       "    .dataframe tbody tr th:only-of-type {\n",
       "        vertical-align: middle;\n",
       "    }\n",
       "\n",
       "    .dataframe tbody tr th {\n",
       "        vertical-align: top;\n",
       "    }\n",
       "\n",
       "    .dataframe thead th {\n",
       "        text-align: right;\n",
       "    }\n",
       "</style>\n",
       "<table border=\"1\" class=\"dataframe\">\n",
       "  <thead>\n",
       "    <tr style=\"text-align: right;\">\n",
       "      <th></th>\n",
       "      <th>temperature</th>\n",
       "      <th>density</th>\n",
       "      <th>colour</th>\n",
       "      <th>class</th>\n",
       "    </tr>\n",
       "  </thead>\n",
       "  <tbody>\n",
       "    <tr>\n",
       "      <th>0</th>\n",
       "      <td>Hot</td>\n",
       "      <td>Medium</td>\n",
       "      <td>black</td>\n",
       "      <td>Yes</td>\n",
       "    </tr>\n",
       "    <tr>\n",
       "      <th>1</th>\n",
       "      <td>Cool</td>\n",
       "      <td>Medium</td>\n",
       "      <td>blue</td>\n",
       "      <td>No</td>\n",
       "    </tr>\n",
       "    <tr>\n",
       "      <th>2</th>\n",
       "      <td>Hot</td>\n",
       "      <td>Low</td>\n",
       "      <td>blue</td>\n",
       "      <td>No</td>\n",
       "    </tr>\n",
       "    <tr>\n",
       "      <th>3</th>\n",
       "      <td>Cool</td>\n",
       "      <td>Medium</td>\n",
       "      <td>black</td>\n",
       "      <td>Yes</td>\n",
       "    </tr>\n",
       "    <tr>\n",
       "      <th>4</th>\n",
       "      <td>Hot</td>\n",
       "      <td>Low</td>\n",
       "      <td>black</td>\n",
       "      <td>Yes</td>\n",
       "    </tr>\n",
       "  </tbody>\n",
       "</table>\n",
       "</div>"
      ],
      "text/plain": [
       "  temperature density colour class\n",
       "0         Hot  Medium  black   Yes\n",
       "1        Cool  Medium   blue    No\n",
       "2         Hot     Low   blue    No\n",
       "3        Cool  Medium  black   Yes\n",
       "4         Hot     Low  black   Yes"
      ]
     },
     "execution_count": 41,
     "metadata": {},
     "output_type": "execute_result"
    }
   ],
   "source": [
    "df"
   ]
  },
  {
   "cell_type": "markdown",
   "metadata": {},
   "source": [
    "## Entropy:"
   ]
  },
  {
   "cell_type": "code",
   "execution_count": 10,
   "metadata": {},
   "outputs": [],
   "source": [
    "# Calculating Entropy:\n",
    "def entropy(p_pos, p_neg):\n",
    "    if p_pos== 0 or p_neg== 0:\n",
    "        return 0\n",
    "    else:\n",
    "        return (-(p_pos*(math.log2(p_pos)))-(p_neg*(math.log2(p_neg))))"
   ]
  },
  {
   "cell_type": "markdown",
   "metadata": {},
   "source": [
    "## Information gain:"
   ]
  },
  {
   "cell_type": "code",
   "execution_count": 54,
   "metadata": {},
   "outputs": [],
   "source": [
    "# calculating gain\n",
    "def gain_information(entropy1, entropy2):\n",
    "    return (entropy1 - entropy2)"
   ]
  },
  {
   "cell_type": "markdown",
   "metadata": {},
   "source": [
    "## Split information:"
   ]
  },
  {
   "cell_type": "code",
   "execution_count": 51,
   "metadata": {},
   "outputs": [],
   "source": [
    "# Calculating Split inforamation:\n",
    "def splitinfo(group1, group2):\n",
    "    return (-(group1*(math.log2(group1)))-(group2*(math.log2(group2))))"
   ]
  },
  {
   "cell_type": "markdown",
   "metadata": {},
   "source": [
    "## Gain ratio:"
   ]
  },
  {
   "cell_type": "code",
   "execution_count": 58,
   "metadata": {},
   "outputs": [],
   "source": [
    "# Calculating gain ratio:\n",
    "def gain_ratio(gain_info, split_info):\n",
    "    return gain_info/split_info"
   ]
  },
  {
   "cell_type": "markdown",
   "metadata": {},
   "source": [
    "## Entropy of classes:"
   ]
  },
  {
   "cell_type": "code",
   "execution_count": 13,
   "metadata": {},
   "outputs": [
    {
     "name": "stdout",
     "output_type": "stream",
     "text": [
      "p1:\t 0.6\n",
      "p0:\t 0.4\n"
     ]
    }
   ],
   "source": [
    "k= 0\n",
    "l= 0\n",
    "n= len(df[\"class\"])\n",
    "for i in range(n):\n",
    "    if df[\"class\"][i]== 'Yes':\n",
    "        k+=1\n",
    "    elif df[\"class\"][i]== 'No':\n",
    "        l+=1      \n",
    "p1= k/n\n",
    "p0= l/n\n",
    "print(\"p1:\\t\", p1)\n",
    "print(\"p0:\\t\", p0)"
   ]
  },
  {
   "cell_type": "code",
   "execution_count": 14,
   "metadata": {},
   "outputs": [
    {
     "name": "stdout",
     "output_type": "stream",
     "text": [
      "0.9709505944546686\n"
     ]
    }
   ],
   "source": [
    "entropy_y= entropy(p1, p0)\n",
    "print(entropy_y)"
   ]
  },
  {
   "cell_type": "markdown",
   "metadata": {},
   "source": [
    "## Entropy and Gain from Density:"
   ]
  },
  {
   "cell_type": "code",
   "execution_count": 17,
   "metadata": {},
   "outputs": [
    {
     "name": "stdout",
     "output_type": "stream",
     "text": [
      "class    No  Yes\n",
      "density         \n",
      "Low       1    1\n",
      "Medium    1    2\n"
     ]
    }
   ],
   "source": [
    "density1= pd.crosstab(df['density'],df['class'])\n",
    "print(density1)"
   ]
  },
  {
   "cell_type": "code",
   "execution_count": 25,
   "metadata": {},
   "outputs": [
    {
     "name": "stdout",
     "output_type": "stream",
     "text": [
      "Entropy of high humidity:\t 1.0\n"
     ]
    }
   ],
   "source": [
    "p1Lowden= 1/2\n",
    "p0Lowden= 1/2\n",
    "entropy_Lowden= entropy(p1Lowden, p0Lowden)\n",
    "print(\"Entropy of low density:\\t\", entropy_Lowden)"
   ]
  },
  {
   "cell_type": "code",
   "execution_count": 26,
   "metadata": {},
   "outputs": [
    {
     "name": "stdout",
     "output_type": "stream",
     "text": [
      "Entropy of medium density:\t 0.9182958340544896\n"
     ]
    }
   ],
   "source": [
    "p1Mediumden= 2/3\n",
    "p0Mediumden= 1/3\n",
    "entropy_Mediumden= entropy(p1Mediumden, p0Mediumden)\n",
    "print(\"Entropy of medium density:\\t\", entropy_Mediumden)"
   ]
  },
  {
   "cell_type": "code",
   "execution_count": 27,
   "metadata": {},
   "outputs": [
    {
     "name": "stdout",
     "output_type": "stream",
     "text": [
      "Entropy of density:\t 0.9591479170272448\n"
     ]
    }
   ],
   "source": [
    "entropy_density= (entropy_Lowden + entropy_Mediumden)/2\n",
    "print(\"Entropy of density:\\t\", entropy_density)"
   ]
  },
  {
   "cell_type": "code",
   "execution_count": 61,
   "metadata": {},
   "outputs": [
    {
     "name": "stdout",
     "output_type": "stream",
     "text": [
      "Gain information from density:\t 0.011802677427423802\n"
     ]
    }
   ],
   "source": [
    "gain_y_density= gain_information(entropy_y, entropy_density)\n",
    "print(\"Gain information from density:\\t\", gain_y_density)"
   ]
  },
  {
   "cell_type": "code",
   "execution_count": 63,
   "metadata": {},
   "outputs": [
    {
     "name": "stdout",
     "output_type": "stream",
     "text": [
      "p1:\t 0.4\n",
      "p0:\t 0.6\n"
     ]
    }
   ],
   "source": [
    "# If density is taken as root:\n",
    "k1= 0\n",
    "l1= 0\n",
    "n= len(df[\"density\"])\n",
    "for i in range(n):\n",
    "    if df[\"density\"][i]== 'Low':\n",
    "        k1+=1\n",
    "    elif df[\"density\"][i]== 'Medium':\n",
    "        l1+=1      \n",
    "p1= k1/n\n",
    "p0= l1/n\n",
    "print(\"p1:\\t\", p1)\n",
    "print(\"p0:\\t\", p0)"
   ]
  },
  {
   "cell_type": "code",
   "execution_count": 65,
   "metadata": {},
   "outputs": [
    {
     "name": "stdout",
     "output_type": "stream",
     "text": [
      "0.9709505944546686\n"
     ]
    }
   ],
   "source": [
    "entropy_density_as_root= entropy(p1, p0)\n",
    "print(entropy_density_as_root)"
   ]
  },
  {
   "cell_type": "markdown",
   "metadata": {},
   "source": [
    "## Entropy and Gain ratio from Colour:"
   ]
  },
  {
   "cell_type": "code",
   "execution_count": 30,
   "metadata": {},
   "outputs": [
    {
     "name": "stdout",
     "output_type": "stream",
     "text": [
      "class   No  Yes\n",
      "colour         \n",
      "black    0    3\n",
      "blue     2    0\n"
     ]
    }
   ],
   "source": [
    "colour1= pd.crosstab(df['colour'],df['class'])\n",
    "print(colour1)"
   ]
  },
  {
   "cell_type": "code",
   "execution_count": 31,
   "metadata": {},
   "outputs": [
    {
     "name": "stdout",
     "output_type": "stream",
     "text": [
      "Entropy of black colour:\t 0\n"
     ]
    }
   ],
   "source": [
    "p1_black_colour= 3/3\n",
    "p0_black_colour= 0/3\n",
    "entropy_black_colour= entropy(p1_black_colour, p0_black_colour)\n",
    "print(\"Entropy of black colour:\\t\", entropy_black_colour)"
   ]
  },
  {
   "cell_type": "code",
   "execution_count": 32,
   "metadata": {},
   "outputs": [
    {
     "name": "stdout",
     "output_type": "stream",
     "text": [
      "Entropy of blue colour:\t 0\n"
     ]
    }
   ],
   "source": [
    "p1_blue_colour= 0/2\n",
    "p0_blue_colour= 2/2\n",
    "entropy_blue_colour= entropy(p1_blue_colour, p0_blue_colour)\n",
    "print(\"Entropy of blue colour:\\t\", entropy_blue_colour)"
   ]
  },
  {
   "cell_type": "code",
   "execution_count": 33,
   "metadata": {},
   "outputs": [
    {
     "name": "stdout",
     "output_type": "stream",
     "text": [
      "Entropy of colour:\t 0.0\n"
     ]
    }
   ],
   "source": [
    "entropy_colour= (entropy_black_colour + entropy_blue_colour)/2\n",
    "print(\"Entropy of colour:\\t\", entropy_colour)"
   ]
  },
  {
   "cell_type": "code",
   "execution_count": 60,
   "metadata": {},
   "outputs": [
    {
     "name": "stdout",
     "output_type": "stream",
     "text": [
      "Gain information from colour:\t 0.9709505944546686\n"
     ]
    }
   ],
   "source": [
    "gain_y_colour= gain_information(entropy_y, entropy_colour)\n",
    "print(\"Gain information from colour:\\t\", gain_y_colour)"
   ]
  },
  {
   "cell_type": "code",
   "execution_count": 53,
   "metadata": {},
   "outputs": [
    {
     "name": "stdout",
     "output_type": "stream",
     "text": [
      "split information for attribute colour:\t 0.9709505944546686\n"
     ]
    }
   ],
   "source": [
    "# probability of being colour black:\n",
    "colour1= 3/5\n",
    "# probability of being colour blue:\n",
    "colour2= 2/5\n",
    "split_info_colour= splitinfo(colour1, colour2)\n",
    "print('split information for attribute colour:\\t', split_info_colour)"
   ]
  },
  {
   "cell_type": "code",
   "execution_count": 59,
   "metadata": {},
   "outputs": [
    {
     "name": "stdout",
     "output_type": "stream",
     "text": [
      "Gain ratio of colour:\t 1.0\n"
     ]
    }
   ],
   "source": [
    "print('Gain ratio of colour:\\t', gain_ratio(gain_y_colour, split_info_colour))"
   ]
  },
  {
   "cell_type": "code",
   "execution_count": 67,
   "metadata": {},
   "outputs": [
    {
     "name": "stdout",
     "output_type": "stream",
     "text": [
      "Gain information from colour when density is taken as root:\t 0.9709505944546686\n"
     ]
    }
   ],
   "source": [
    "# Density as root:\n",
    "gain_density_colour= gain_information(entropy_density_as_root, entropy_colour)\n",
    "print(\"Gain information from colour when density is taken as root:\\t\", gain_density_colour)"
   ]
  },
  {
   "cell_type": "markdown",
   "metadata": {},
   "source": [
    "## Entropy and Gain from Temperature:"
   ]
  },
  {
   "cell_type": "code",
   "execution_count": 42,
   "metadata": {},
   "outputs": [
    {
     "name": "stdout",
     "output_type": "stream",
     "text": [
      "class        No  Yes\n",
      "temperature         \n",
      "Cool          1    1\n",
      "Hot           1    2\n"
     ]
    }
   ],
   "source": [
    "temp1= pd.crosstab(df['temperature'],df['class'])\n",
    "print(temp1)"
   ]
  },
  {
   "cell_type": "code",
   "execution_count": 43,
   "metadata": {},
   "outputs": [
    {
     "name": "stdout",
     "output_type": "stream",
     "text": [
      "Entropy of cool:\t 1.0\n"
     ]
    }
   ],
   "source": [
    "p1cool= 1/2\n",
    "p0cool= 1/2\n",
    "entropy_cool= entropy(p1cool, p0cool)\n",
    "print(\"Entropy of cool:\\t\", entropy_cool)"
   ]
  },
  {
   "cell_type": "code",
   "execution_count": 44,
   "metadata": {},
   "outputs": [
    {
     "name": "stdout",
     "output_type": "stream",
     "text": [
      "Entropy of hot:\t 0.9182958340544896\n"
     ]
    }
   ],
   "source": [
    "p1hot= 2/3\n",
    "p0hot= 1/3\n",
    "entropy_hot= entropy(p1hot, p0hot)\n",
    "print(\"Entropy of hot:\\t\", entropy_hot)"
   ]
  },
  {
   "cell_type": "code",
   "execution_count": 45,
   "metadata": {},
   "outputs": [
    {
     "name": "stdout",
     "output_type": "stream",
     "text": [
      "Entropy of temp:\t 0.9591479170272448\n"
     ]
    }
   ],
   "source": [
    "entropy_temp= (entropy_cool + entropy_hot)/2\n",
    "print(\"Entropy of temp:\\t\", entropy_temp)"
   ]
  },
  {
   "cell_type": "code",
   "execution_count": 57,
   "metadata": {},
   "outputs": [
    {
     "name": "stdout",
     "output_type": "stream",
     "text": [
      "Gain from temp:\t 0.011802677427423802\n"
     ]
    }
   ],
   "source": [
    "gain_y_temp= gain_information(entropy_y, entropy_temp)\n",
    "print(\"Gain from temp:\\t\", gain_y_temp)"
   ]
  },
  {
   "cell_type": "code",
   "execution_count": 49,
   "metadata": {},
   "outputs": [
    {
     "name": "stdout",
     "output_type": "stream",
     "text": [
      "Maximum gain is when colour is considered, i.e gain of: 0.9709505944546686\n"
     ]
    }
   ],
   "source": [
    "root= max(gain_y_colour, gain_y_density, gain_y_temp)\n",
    "print(\"Maximum gain is when colour is considered, i.e gain of:\", root)"
   ]
  }
 ],
 "metadata": {
  "kernelspec": {
   "display_name": "Python 3 (ipykernel)",
   "language": "python",
   "name": "python3"
  },
  "language_info": {
   "codemirror_mode": {
    "name": "ipython",
    "version": 3
   },
   "file_extension": ".py",
   "mimetype": "text/x-python",
   "name": "python",
   "nbconvert_exporter": "python",
   "pygments_lexer": "ipython3",
   "version": "3.9.7"
  }
 },
 "nbformat": 4,
 "nbformat_minor": 2
}
