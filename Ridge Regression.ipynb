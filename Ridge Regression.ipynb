{
 "cells": [
  {
   "cell_type": "code",
   "execution_count": 2,
   "id": "b6d1af5e",
   "metadata": {},
   "outputs": [],
   "source": [
    "import os\n",
    "import numpy as np\n",
    "import pandas as pd\n",
    "import matplotlib.pyplot as plt\n",
    "import seaborn as sns\n",
    "from sklearn.metrics import classification_report, confusion_matrix\n",
    "from sklearn.model_selection import train_test_split"
   ]
  },
  {
   "cell_type": "code",
   "execution_count": 3,
   "id": "914cbd23",
   "metadata": {},
   "outputs": [],
   "source": [
    "import warnings\n",
    "warnings.filterwarnings('ignore')"
   ]
  },
  {
   "cell_type": "code",
   "execution_count": 5,
   "id": "5e028d55",
   "metadata": {},
   "outputs": [],
   "source": [
    "class RidgeRegression:\n",
    "\n",
    "    def __init__(self, learning_rate=0.001, n_iters=1000, alpha=1):\n",
    "        self.lr = learning_rate\n",
    "        self.alpha = alpha\n",
    "        self.n_iters = n_iters\n",
    "        self.weights = None\n",
    "        self.bias = None\n",
    "        self.cost_history= [ ]\n",
    "        self.w_list = [ ]\n",
    "\n",
    "    def fit(self, X, y):\n",
    "        n_samples, n_features = X.shape\n",
    "\n",
    "        # initializing the parameters:\n",
    "        self.weights = np.zeros(n_features)\n",
    "        self.bias = 0\n",
    "        eps=10**-10\n",
    "        \n",
    "        # Gradient descent:\n",
    "        \n",
    "        for _ in range(self.n_iters):\n",
    "            \n",
    "            # approximate y with linear combination of weights and x, plus bias:\n",
    "            y_predicted = np.dot(X, self.weights) + self.bias\n",
    "            \n",
    "            # compute gradients:\n",
    "            dw = (1 / n_samples) * np.dot(X.T, (y_predicted - y))\n",
    "            db = (1 / n_samples) * np.sum(y_predicted - y)\n",
    "            \n",
    "            # update parameters:\n",
    "            w_prev = self.weights\n",
    "            w0_prev = self.bias\n",
    "            self.weights = self.weights*(1 - self.alpha * self.lr/n_samples) - self.lr * dw\n",
    "            self.bias -= self.lr * db\n",
    "            \n",
    "            # appending cost and w values:\n",
    "            cost = np.sum(np.square(y- y_predicted)) +  self.alpha*np.sum(np.square(self.weights))\n",
    "            w=list(self.weights)\n",
    "            w.append(self.bias)\n",
    "            self.w_list.append(w)\n",
    "            self.cost_history.append(cost)\n",
    "            \n",
    "            if np.sum(np.square(w_prev-self.bias))<eps:\n",
    "                break\n",
    "\n",
    "    def predict(self, X):\n",
    "        linear_model = np.dot(X, self.weights) + self.bias\n",
    "        \n",
    "        return linear_model\n",
    "\n",
    "    \n",
    "    def error(self,x_test,y_test):\n",
    "        y_p = self.predict(x_test)\n",
    "        return np.sum(np.square(y_p-y_test))"
   ]
  },
  {
   "cell_type": "code",
   "execution_count": 6,
   "id": "b441c0b3",
   "metadata": {},
   "outputs": [
    {
     "data": {
      "text/html": [
       "<div>\n",
       "<style scoped>\n",
       "    .dataframe tbody tr th:only-of-type {\n",
       "        vertical-align: middle;\n",
       "    }\n",
       "\n",
       "    .dataframe tbody tr th {\n",
       "        vertical-align: top;\n",
       "    }\n",
       "\n",
       "    .dataframe thead th {\n",
       "        text-align: right;\n",
       "    }\n",
       "</style>\n",
       "<table border=\"1\" class=\"dataframe\">\n",
       "  <thead>\n",
       "    <tr style=\"text-align: right;\">\n",
       "      <th></th>\n",
       "      <th>0</th>\n",
       "      <th>1</th>\n",
       "      <th>2</th>\n",
       "    </tr>\n",
       "  </thead>\n",
       "  <tbody>\n",
       "    <tr>\n",
       "      <th>0</th>\n",
       "      <td>1.10500</td>\n",
       "      <td>-2.60510</td>\n",
       "      <td>34.2610</td>\n",
       "    </tr>\n",
       "    <tr>\n",
       "      <th>1</th>\n",
       "      <td>0.30463</td>\n",
       "      <td>1.55360</td>\n",
       "      <td>1.1477</td>\n",
       "    </tr>\n",
       "    <tr>\n",
       "      <th>2</th>\n",
       "      <td>2.67450</td>\n",
       "      <td>1.17810</td>\n",
       "      <td>15.6260</td>\n",
       "    </tr>\n",
       "    <tr>\n",
       "      <th>3</th>\n",
       "      <td>-3.54260</td>\n",
       "      <td>0.79471</td>\n",
       "      <td>-12.7760</td>\n",
       "    </tr>\n",
       "    <tr>\n",
       "      <th>4</th>\n",
       "      <td>-0.22632</td>\n",
       "      <td>4.44160</td>\n",
       "      <td>-21.7230</td>\n",
       "    </tr>\n",
       "  </tbody>\n",
       "</table>\n",
       "</div>"
      ],
      "text/plain": [
       "         0        1        2\n",
       "0  1.10500 -2.60510  34.2610\n",
       "1  0.30463  1.55360   1.1477\n",
       "2  2.67450  1.17810  15.6260\n",
       "3 -3.54260  0.79471 -12.7760\n",
       "4 -0.22632  4.44160 -21.7230"
      ]
     },
     "execution_count": 6,
     "metadata": {},
     "output_type": "execute_result"
    }
   ],
   "source": [
    "df= pd.read_csv('data1.csv', header= None)\n",
    "df.head()"
   ]
  },
  {
   "cell_type": "code",
   "execution_count": 8,
   "id": "1531fc9a",
   "metadata": {},
   "outputs": [
    {
     "data": {
      "text/plain": [
       "[]"
      ]
     },
     "execution_count": 8,
     "metadata": {},
     "output_type": "execute_result"
    },
    {
     "data": {
      "image/png": "[encoded data removed]",
      "text/plain": [
       "<Figure size 432x288 with 1 Axes>"
      ]
     },
     "metadata": {
      "needs_background": "light"
     },
     "output_type": "display_data"
    }
   ],
   "source": [
    "plt.scatter(df[0],df[1],c=df[2])\n",
    "plt.plot()"
   ]
  },
  {
   "cell_type": "code",
   "execution_count": 10,
   "id": "df844076",
   "metadata": {},
   "outputs": [],
   "source": [
    "X = df[[0,1]]\n",
    "y = df[2]\n",
    "X_train, X_test, y_train, y_test = train_test_split(X, y, test_size=0.33, random_state=2)"
   ]
  },
  {
   "cell_type": "code",
   "execution_count": 12,
   "id": "53b16263",
   "metadata": {},
   "outputs": [],
   "source": [
    "from sklearn.model_selection import KFold as kf"
   ]
  },
  {
   "cell_type": "code",
   "execution_count": 13,
   "id": "8c620d38",
   "metadata": {},
   "outputs": [
    {
     "name": "stdout",
     "output_type": "stream",
     "text": [
      "Learning rate: 1e-05 mean error is : 16053.576349839295\n",
      "Learning rate: 0.0001 mean error is : 14346.65714466027\n",
      "Learning rate: 0.001 mean error is : 5239.842510194481\n",
      "Learning rate: 0.01 mean error is : 724.2030630699966\n",
      "Learning rate: 0.1 mean error is : 489.66269001416094\n",
      "Learning rate: 1 mean error is : 1.0746131375738748e+183\n",
      "Learning rate: 10 mean error is : inf\n",
      "Learning rate: 100 mean error is : inf\n"
     ]
    }
   ],
   "source": [
    "k = kf(n_splits=5)\n",
    "X_train = np.array(X_train)\n",
    "y_train = np.array(y_train)\n",
    "lr_range = [10**i for i in range(-5,3)]\n",
    "for j in lr_range :\n",
    "    l=[ ]\n",
    "    for train_index, test_index in k.split(X_train, y_train):\n",
    "        reg = RidgeRegression(learning_rate=j, n_iters=100)\n",
    "        reg.fit(X_train[train_index], y_train[train_index])\n",
    "        y_p = reg.error(X_train[test_index], y_train[test_index])\n",
    "        l.append(y_p)\n",
    "    print(f\"Learning rate: {j} mean error is : {sum(l)/len(l)}\")"
   ]
  },
  {
   "cell_type": "code",
   "execution_count": 73,
   "id": "94e83738",
   "metadata": {},
   "outputs": [],
   "source": [
    "alpha_range = [i for i in range(70)]\n",
    "training_error = [ ]\n",
    "testing_error = [ ]\n",
    "cost = [ ]\n",
    "for i in alpha_range:\n",
    "    model = RidgeRegression(learning_rate=0.3, n_iters = 200, alpha=i)\n",
    "    model.fit(X_train, y_train)\n",
    "    training_error.append(model.error(X_train, y_train))\n",
    "    testing_error.append(model.error(X_test, y_test))"
   ]
  },
  {
   "cell_type": "code",
   "execution_count": 79,
   "id": "4da67957",
   "metadata": {},
   "outputs": [
    {
     "data": {
      "image/png": "[encoded data removed]",
      "text/plain": [
       "<Figure size 432x288 with 1 Axes>"
      ]
     },
     "metadata": {
      "needs_background": "light"
     },
     "output_type": "display_data"
    }
   ],
   "source": [
    "plt.scatter(alpha_range,training_error,marker=\"+\",label=\"training error\")\n",
    "plt.scatter(alpha_range,testing_error,marker=\"*\",label=\"testing error\")\n",
    "plt.legend()\n",
    "plt.show()"
   ]
  },
  {
   "cell_type": "code",
   "execution_count": 71,
   "id": "8393e6ac",
   "metadata": {},
   "outputs": [],
   "source": [
    "model = RidgeRegression(learning_rate=0.3,n_iters=200)\n",
    "model.fit(X_train,y_train)"
   ]
  },
  {
   "cell_type": "code",
   "execution_count": 80,
   "id": "f7175c1c",
   "metadata": {},
   "outputs": [
    {
     "data": {
      "image/png": "[encoded data removed]",
      "text/plain": [
       "<Figure size 432x288 with 1 Axes>"
      ]
     },
     "metadata": {
      "needs_background": "light"
     },
     "output_type": "display_data"
    }
   ],
   "source": [
    "k=list(range(len(model.cost_history)))\n",
    "plt.plot(k,model.cost_history)\n",
    "plt.show()"
   ]
  },
  {
   "cell_type": "code",
   "execution_count": 65,
   "id": "9237f19b",
   "metadata": {},
   "outputs": [],
   "source": [
    "model = RidgeRegression(learning_rate=0.3,n_iters=500)\n",
    "model.fit(X_train,y_train)"
   ]
  },
  {
   "cell_type": "code",
   "execution_count": 67,
   "id": "71932660",
   "metadata": {},
   "outputs": [
    {
     "data": {
      "text/plain": [
       "array([5.23924578e+77, 3.83462746e+77])"
      ]
     },
     "execution_count": 67,
     "metadata": {},
     "output_type": "execute_result"
    }
   ],
   "source": [
    "model.weights"
   ]
  },
  {
   "cell_type": "code",
   "execution_count": 68,
   "id": "c4940858",
   "metadata": {},
   "outputs": [
    {
     "data": {
      "text/plain": [
       "-2.986708337331362e+76"
      ]
     },
     "execution_count": 68,
     "metadata": {},
     "output_type": "execute_result"
    }
   ],
   "source": [
    "model.bias"
   ]
  },
  {
   "cell_type": "code",
   "execution_count": 66,
   "id": "334c65a5",
   "metadata": {},
   "outputs": [
    {
     "data": {
      "text/plain": [
       "3.1592013326074423e+158"
      ]
     },
     "execution_count": 66,
     "metadata": {},
     "output_type": "execute_result"
    }
   ],
   "source": [
    "model.error(X_test,y_test)"
   ]
  },
  {
   "cell_type": "markdown",
   "id": "b32ec6f0",
   "metadata": {},
   "source": [
    "##  Training error and Validation error:"
   ]
  },
  {
   "cell_type": "code",
   "execution_count": 82,
   "id": "9025b417",
   "metadata": {},
   "outputs": [
    {
     "data": {
      "text/html": [
       "<div>\n",
       "<style scoped>\n",
       "    .dataframe tbody tr th:only-of-type {\n",
       "        vertical-align: middle;\n",
       "    }\n",
       "\n",
       "    .dataframe tbody tr th {\n",
       "        vertical-align: top;\n",
       "    }\n",
       "\n",
       "    .dataframe thead th {\n",
       "        text-align: right;\n",
       "    }\n",
       "</style>\n",
       "<table border=\"1\" class=\"dataframe\">\n",
       "  <thead>\n",
       "    <tr style=\"text-align: right;\">\n",
       "      <th></th>\n",
       "      <th>0</th>\n",
       "      <th>1</th>\n",
       "      <th>2</th>\n",
       "      <th>3</th>\n",
       "    </tr>\n",
       "  </thead>\n",
       "  <tbody>\n",
       "    <tr>\n",
       "      <th>0</th>\n",
       "      <td>1</td>\n",
       "      <td>1.10500</td>\n",
       "      <td>-2.60510</td>\n",
       "      <td>34.2610</td>\n",
       "    </tr>\n",
       "    <tr>\n",
       "      <th>1</th>\n",
       "      <td>1</td>\n",
       "      <td>0.30463</td>\n",
       "      <td>1.55360</td>\n",
       "      <td>1.1477</td>\n",
       "    </tr>\n",
       "    <tr>\n",
       "      <th>2</th>\n",
       "      <td>1</td>\n",
       "      <td>2.67450</td>\n",
       "      <td>1.17810</td>\n",
       "      <td>15.6260</td>\n",
       "    </tr>\n",
       "    <tr>\n",
       "      <th>3</th>\n",
       "      <td>1</td>\n",
       "      <td>-3.54260</td>\n",
       "      <td>0.79471</td>\n",
       "      <td>-12.7760</td>\n",
       "    </tr>\n",
       "    <tr>\n",
       "      <th>4</th>\n",
       "      <td>1</td>\n",
       "      <td>-0.22632</td>\n",
       "      <td>4.44160</td>\n",
       "      <td>-21.7230</td>\n",
       "    </tr>\n",
       "  </tbody>\n",
       "</table>\n",
       "</div>"
      ],
      "text/plain": [
       "   0        1        2        3\n",
       "0  1  1.10500 -2.60510  34.2610\n",
       "1  1  0.30463  1.55360   1.1477\n",
       "2  1  2.67450  1.17810  15.6260\n",
       "3  1 -3.54260  0.79471 -12.7760\n",
       "4  1 -0.22632  4.44160 -21.7230"
      ]
     },
     "execution_count": 82,
     "metadata": {},
     "output_type": "execute_result"
    }
   ],
   "source": [
    "df.insert(0,'A1',1)\n",
    "df.columns = [0,1,2,3]\n",
    "df.head()"
   ]
  },
  {
   "cell_type": "code",
   "execution_count": 83,
   "id": "22f69d84",
   "metadata": {},
   "outputs": [],
   "source": [
    "X_train1, X_test1 = train_test_split(df, test_size=0.3, random_state=0)"
   ]
  },
  {
   "cell_type": "code",
   "execution_count": 90,
   "id": "9e7f5f78",
   "metadata": {},
   "outputs": [
    {
     "data": {
      "text/plain": [
       "4"
      ]
     },
     "execution_count": 90,
     "metadata": {},
     "output_type": "execute_result"
    }
   ],
   "source": [
    "X_train1.shape[1]"
   ]
  },
  {
   "cell_type": "code",
   "execution_count": 105,
   "id": "8c028b0c",
   "metadata": {},
   "outputs": [],
   "source": [
    "s = np.logspace(-1,1,10) # between 10^-1 to 10^1 there will be 10 no. (by default base is 10)\n",
    "\n",
    "training_error = []\n",
    "validation_error = []\n",
    "\n",
    "# Identity Matrix:\n",
    "I = np.zeros((X_train1.shape[1]-1,X_train1.shape[1]-1))\n",
    "I[1:,1:] = np.eye(X_train1.shape[1]-2) # creating an Identity matrix\n",
    "\n",
    "for k in s:\n",
    "    train_err = np.zeros(len(s))\n",
    "    val_err = np.zeros(len(s))\n",
    "    for j in range(len(s)):\n",
    "        train, test = train_test_split(X_train1, test_size=0.3)\n",
    "        # Training\n",
    "        X = np.array(train[[0,1,2]])\n",
    "        y = np.array(train[3])\n",
    "    \n",
    "        w = np.linalg.inv(X.T@X+k*I)@X.T@y # w= inverse of(X.T*X + s*I) * (X.T*y)\n",
    "        \n",
    "        # Training error\n",
    "        train_err[j] = ((X@w-y)**2).mean()\n",
    "        \n",
    "        # Validation error\n",
    "        X = np.array(test[[0,1,2]])\n",
    "        y = np.array(test[3])\n",
    "        val_err[j]= ((X@w-y)**2).mean()\n",
    "        \n",
    "    training_error.append(train_err.mean())\n",
    "    validation_error.append(val_err.mean())"
   ]
  },
  {
   "cell_type": "code",
   "execution_count": 106,
   "id": "9adfeb4a",
   "metadata": {},
   "outputs": [
    {
     "name": "stdout",
     "output_type": "stream",
     "text": [
      "[ 0.1         0.16681005  0.27825594  0.46415888  0.77426368  1.29154967\n",
      "  2.15443469  3.59381366  5.9948425  10.        ]\n",
      "\n",
      "Training error:\n",
      " [15.549285148240534, 16.046961817147974, 15.640737695987212, 15.415666944907054, 15.861039488358932, 15.723307245783806, 15.80668950715967, 15.775693732391511, 15.778298729706766, 15.91613502671998]\n",
      "\n",
      "Validation error:\n",
      " [17.357146924610067, 15.840734258717745, 17.059948214226466, 17.293084691465463, 16.35691966383616, 16.750674175841688, 16.353758927014844, 16.521120901400522, 16.855833486211612, 16.556727363927717]\n"
     ]
    }
   ],
   "source": [
    "# Printing Training and Validation error:\n",
    "print(s)\n",
    "print('\\nTraining error:\\n', training_error)\n",
    "print('\\nValidation error:\\n', validation_error)"
   ]
  },
  {
   "cell_type": "code",
   "execution_count": 109,
   "id": "9aca077d",
   "metadata": {},
   "outputs": [
    {
     "name": "stdout",
     "output_type": "stream",
     "text": [
      "Parameters are:\t [ 7.89225293  4.86343317 -6.82371888]\n"
     ]
    }
   ],
   "source": [
    "print('Parameters are:\\t', w)"
   ]
  },
  {
   "cell_type": "code",
   "execution_count": 112,
   "id": "9908b0ef",
   "metadata": {},
   "outputs": [
    {
     "data": {
      "image/png": "[encoded data removed]",
      "text/plain": [
       "<Figure size 432x288 with 2 Axes>"
      ]
     },
     "metadata": {
      "needs_background": "light"
     },
     "output_type": "display_data"
    }
   ],
   "source": [
    "ax1= plt.figure().gca()\n",
    "\n",
    "vmin = np.min(validation_error)\n",
    "mask = validation_error == vmin # make array with Vmin value as True other as Flase.\n",
    "color = np.where(mask, 'red', 'blue')\n",
    "\n",
    "ax1.plot(s,training_error,\"rx-\")\n",
    "ax1.set_xscale(\"log\")\n",
    "\n",
    "ax2 = ax1.twinx()\n",
    "ax2.plot(s,validation_error,\"b-\")\n",
    "ax2.scatter(s,validation_error,color=color)\n",
    "ax2.set_xscale(\"log\")\n",
    "\n",
    "plt.show()"
   ]
  },
  {
   "cell_type": "markdown",
   "id": "2ab4a7f0",
   "metadata": {},
   "source": [
    "## Hyperplane:"
   ]
  },
  {
   "cell_type": "code",
   "execution_count": 129,
   "id": "c1ab781b",
   "metadata": {},
   "outputs": [
    {
     "data": {
      "image/png": "[encoded data removed]",
      "text/plain": [
       "<Figure size 432x288 with 1 Axes>"
      ]
     },
     "metadata": {
      "needs_background": "light"
     },
     "output_type": "display_data"
    }
   ],
   "source": [
    "x1 = np.linspace(-2,2,50)\n",
    "x2 = np.linspace(-2,2,50)\n",
    "np.random.shuffle(x2)\n",
    "X1,X2 = np.meshgrid(x1,x2)\n",
    "\n",
    "f = (w[0] + w[1]*X1 + w[2]*X2)\n",
    "\n",
    "ax = plt.figure().gca(projection=\"3d\")\n",
    "ax.scatter3D(df[1],df[2],df[3],c=\"y\")\n",
    "ax.plot_surface(X1,X2,f,alpha=1,shade=False)\n",
    "plt.show()"
   ]
  },
  {
   "cell_type": "code",
   "execution_count": null,
   "id": "dea120fb",
   "metadata": {},
   "outputs": [],
   "source": []
  }
 ],
 "metadata": {
  "kernelspec": {
   "display_name": "Python 3 (ipykernel)",
   "language": "python",
   "name": "python3"
  },
  "language_info": {
   "codemirror_mode": {
    "name": "ipython",
    "version": 3
   },
   "file_extension": ".py",
   "mimetype": "text/x-python",
   "name": "python",
   "nbconvert_exporter": "python",
   "pygments_lexer": "ipython3",
   "version": "3.9.7"
  }
 },
 "nbformat": 4,
 "nbformat_minor": 5
}
