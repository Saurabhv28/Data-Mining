{
 "cells": [
  {
   "cell_type": "markdown",
   "metadata": {
    "id": "BcvOdbtJrjDd"
   },
   "source": [
    "# **Preprocessing Data:**"
   ]
  },
  {
   "cell_type": "code",
   "execution_count": 112,
   "metadata": {
    "executionInfo": {
     "elapsed": 453,
     "status": "ok",
     "timestamp": 1645017665721,
     "user": {
      "displayName": "saurabh verma",
      "photoUrl": "https://lh3.googleusercontent.com/a/default-user=s64",
      "userId": "12815769251055761787"
     },
     "user_tz": -330
    },
    "id": "q9QcEtUZrggO"
   },
   "outputs": [],
   "source": [
    "import numpy as np\n",
    "import pandas as pd\n",
    "import matplotlib.pyplot as plt\n",
    "from scipy.stats import multivariate_normal\n",
    "from scipy.io.arff import loadarff\n",
    "from sklearn.metrics import silhouette_score"
   ]
  },
  {
   "cell_type": "code",
   "execution_count": 113,
   "metadata": {
    "executionInfo": {
     "elapsed": 47,
     "status": "ok",
     "timestamp": 1645017665722,
     "user": {
      "displayName": "saurabh verma",
      "photoUrl": "https://lh3.googleusercontent.com/a/default-user=s64",
      "userId": "12815769251055761787"
     },
     "user_tz": -330
    },
    "id": "ITNb0eMzbutg"
   },
   "outputs": [],
   "source": [
    "data1 = pd.read_csv('/content/drive/MyDrive/Colab Notebooks/Sem 2/AML/Assignments/Data1.csv', header = None)\n",
    "data2 = pd.read_csv('/content/drive/MyDrive/Colab Notebooks/Sem 2/AML/Assignments/Data2.csv', header = None)"
   ]
  },
  {
   "cell_type": "code",
   "execution_count": 114,
   "metadata": {
    "executionInfo": {
     "elapsed": 47,
     "status": "ok",
     "timestamp": 1645017665723,
     "user": {
      "displayName": "saurabh verma",
      "photoUrl": "https://lh3.googleusercontent.com/a/default-user=s64",
      "userId": "12815769251055761787"
     },
     "user_tz": -330
    },
    "id": "J4FZ5snPbpN3"
   },
   "outputs": [],
   "source": [
    "def sigmoid(x):\n",
    "  return 1/(1+np.exp(-x))"
   ]
  },
  {
   "cell_type": "code",
   "execution_count": 115,
   "metadata": {
    "colab": {
     "base_uri": "https://localhost:8080/",
     "height": 270
    },
    "executionInfo": {
     "elapsed": 46,
     "status": "ok",
     "timestamp": 1645017665724,
     "user": {
      "displayName": "saurabh verma",
      "photoUrl": "https://lh3.googleusercontent.com/a/default-user=s64",
      "userId": "12815769251055761787"
     },
     "user_tz": -330
    },
    "id": "Fz_5OEEpbu04",
    "outputId": "a8e887c7-c7f2-4ca6-fcfc-f0555377d9bc"
   },
   "outputs": [
    {
     "data": {
      "text/html": [
       "\n",
       "  <div id=\"df-a1b22ac7-6e01-4632-ada8-4976361c8a83\">\n",
       "    <div class=\"colab-df-container\">\n",
       "      <div>\n",
       "<style scoped>\n",
       "    .dataframe tbody tr th:only-of-type {\n",
       "        vertical-align: middle;\n",
       "    }\n",
       "\n",
       "    .dataframe tbody tr th {\n",
       "        vertical-align: top;\n",
       "    }\n",
       "\n",
       "    .dataframe thead th {\n",
       "        text-align: right;\n",
       "    }\n",
       "</style>\n",
       "<table border=\"1\" class=\"dataframe\">\n",
       "  <thead>\n",
       "    <tr style=\"text-align: right;\">\n",
       "      <th></th>\n",
       "      <th>0</th>\n",
       "      <th>1</th>\n",
       "      <th>2</th>\n",
       "    </tr>\n",
       "  </thead>\n",
       "  <tbody>\n",
       "    <tr>\n",
       "      <th>0</th>\n",
       "      <td>NaN</td>\n",
       "      <td>0.000000</td>\n",
       "      <td>1.000000</td>\n",
       "    </tr>\n",
       "    <tr>\n",
       "      <th>1</th>\n",
       "      <td>0.0</td>\n",
       "      <td>1.004939</td>\n",
       "      <td>2.319887</td>\n",
       "    </tr>\n",
       "    <tr>\n",
       "      <th>2</th>\n",
       "      <td>1.0</td>\n",
       "      <td>3.412653</td>\n",
       "      <td>-1.637157</td>\n",
       "    </tr>\n",
       "    <tr>\n",
       "      <th>3</th>\n",
       "      <td>2.0</td>\n",
       "      <td>7.483318</td>\n",
       "      <td>-1.399250</td>\n",
       "    </tr>\n",
       "    <tr>\n",
       "      <th>4</th>\n",
       "      <td>3.0</td>\n",
       "      <td>0.702826</td>\n",
       "      <td>2.038150</td>\n",
       "    </tr>\n",
       "  </tbody>\n",
       "</table>\n",
       "</div>\n",
       "      <button class=\"colab-df-convert\" onclick=\"convertToInteractive('df-a1b22ac7-6e01-4632-ada8-4976361c8a83')\"\n",
       "              title=\"Convert this dataframe to an interactive table.\"\n",
       "              style=\"display:none;\">\n",
       "        \n",
       "  <svg xmlns=\"http://www.w3.org/2000/svg\" height=\"24px\"viewBox=\"0 0 24 24\"\n",
       "       width=\"24px\">\n",
       "    <path d=\"M0 0h24v24H0V0z\" fill=\"none\"/>\n",
       "    <path d=\"M18.56 5.44l.94 2.06.94-2.06 2.06-.94-2.06-.94-.94-2.06-.94 2.06-2.06.94zm-11 1L8.5 8.5l.94-2.06 2.06-.94-2.06-.94L8.5 2.5l-.94 2.06-2.06.94zm10 10l.94 2.06.94-2.06 2.06-.94-2.06-.94-.94-2.06-.94 2.06-2.06.94z\"/><path d=\"M17.41 7.96l-1.37-1.37c-.4-.4-.92-.59-1.43-.59-.52 0-1.04.2-1.43.59L10.3 9.45l-7.72 7.72c-.78.78-.78 2.05 0 2.83L4 21.41c.39.39.9.59 1.41.59.51 0 1.02-.2 1.41-.59l7.78-7.78 2.81-2.81c.8-.78.8-2.07 0-2.86zM5.41 20L4 18.59l7.72-7.72 1.47 1.35L5.41 20z\"/>\n",
       "  </svg>\n",
       "      </button>\n",
       "      \n",
       "  <style>\n",
       "    .colab-df-container {\n",
       "      display:flex;\n",
       "      flex-wrap:wrap;\n",
       "      gap: 12px;\n",
       "    }\n",
       "\n",
       "    .colab-df-convert {\n",
       "      background-color: #E8F0FE;\n",
       "      border: none;\n",
       "      border-radius: 50%;\n",
       "      cursor: pointer;\n",
       "      display: none;\n",
       "      fill: #1967D2;\n",
       "      height: 32px;\n",
       "      padding: 0 0 0 0;\n",
       "      width: 32px;\n",
       "    }\n",
       "\n",
       "    .colab-df-convert:hover {\n",
       "      background-color: #E2EBFA;\n",
       "      box-shadow: 0px 1px 2px rgba(60, 64, 67, 0.3), 0px 1px 3px 1px rgba(60, 64, 67, 0.15);\n",
       "      fill: #174EA6;\n",
       "    }\n",
       "\n",
       "    [theme=dark] .colab-df-convert {\n",
       "      background-color: #3B4455;\n",
       "      fill: #D2E3FC;\n",
       "    }\n",
       "\n",
       "    [theme=dark] .colab-df-convert:hover {\n",
       "      background-color: #434B5C;\n",
       "      box-shadow: 0px 1px 3px 1px rgba(0, 0, 0, 0.15);\n",
       "      filter: drop-shadow(0px 1px 2px rgba(0, 0, 0, 0.3));\n",
       "      fill: #FFFFFF;\n",
       "    }\n",
       "  </style>\n",
       "\n",
       "      <script>\n",
       "        const buttonEl =\n",
       "          document.querySelector('#df-a1b22ac7-6e01-4632-ada8-4976361c8a83 button.colab-df-convert');\n",
       "        buttonEl.style.display =\n",
       "          google.colab.kernel.accessAllowed ? 'block' : 'none';\n",
       "\n",
       "        async function convertToInteractive(key) {\n",
       "          const element = document.querySelector('#df-a1b22ac7-6e01-4632-ada8-4976361c8a83');\n",
       "          const dataTable =\n",
       "            await google.colab.kernel.invokeFunction('convertToInteractive',\n",
       "                                                     [key], {});\n",
       "          if (!dataTable) return;\n",
       "\n",
       "          const docLinkHtml = 'Like what you see? Visit the ' +\n",
       "            '<a target=\"_blank\" href=https://colab.research.google.com/notebooks/data_table.ipynb>data table notebook</a>'\n",
       "            + ' to learn more about interactive tables.';\n",
       "          element.innerHTML = '';\n",
       "          dataTable['output_type'] = 'display_data';\n",
       "          await google.colab.output.renderOutput(dataTable, element);\n",
       "          const docLink = document.createElement('div');\n",
       "          docLink.innerHTML = docLinkHtml;\n",
       "          element.appendChild(docLink);\n",
       "        }\n",
       "      </script>\n",
       "    </div>\n",
       "  </div>\n",
       "  "
      ],
      "text/plain": [
       "     0         1         2\n",
       "0  NaN  0.000000  1.000000\n",
       "1  0.0  1.004939  2.319887\n",
       "2  1.0  3.412653 -1.637157\n",
       "3  2.0  7.483318 -1.399250\n",
       "4  3.0  0.702826  2.038150"
      ]
     },
     "execution_count": 115,
     "metadata": {},
     "output_type": "execute_result"
    }
   ],
   "source": [
    "data1.head()"
   ]
  },
  {
   "cell_type": "code",
   "execution_count": 116,
   "metadata": {
    "colab": {
     "base_uri": "https://localhost:8080/"
    },
    "executionInfo": {
     "elapsed": 42,
     "status": "ok",
     "timestamp": 1645017665725,
     "user": {
      "displayName": "saurabh verma",
      "photoUrl": "https://lh3.googleusercontent.com/a/default-user=s64",
      "userId": "12815769251055761787"
     },
     "user_tz": -330
    },
    "id": "z_wpUKzdeB8W",
    "outputId": "ff2c4d6f-b843-4422-a05e-07d4746f4aa3"
   },
   "outputs": [
    {
     "data": {
      "text/plain": [
       "(1601, 3)"
      ]
     },
     "execution_count": 116,
     "metadata": {},
     "output_type": "execute_result"
    }
   ],
   "source": [
    "data1.shape"
   ]
  },
  {
   "cell_type": "code",
   "execution_count": 117,
   "metadata": {
    "executionInfo": {
     "elapsed": 38,
     "status": "ok",
     "timestamp": 1645017665725,
     "user": {
      "displayName": "saurabh verma",
      "photoUrl": "https://lh3.googleusercontent.com/a/default-user=s64",
      "userId": "12815769251055761787"
     },
     "user_tz": -330
    },
    "id": "S5hV7gbscNjh"
   },
   "outputs": [],
   "source": [
    "data1 = data1.drop(data1.columns[[0]], axis=1) "
   ]
  },
  {
   "cell_type": "code",
   "execution_count": 118,
   "metadata": {
    "executionInfo": {
     "elapsed": 38,
     "status": "ok",
     "timestamp": 1645017665727,
     "user": {
      "displayName": "saurabh verma",
      "photoUrl": "https://lh3.googleusercontent.com/a/default-user=s64",
      "userId": "12815769251055761787"
     },
     "user_tz": -330
    },
    "id": "KEEwJklvSo-t"
   },
   "outputs": [],
   "source": [
    "data1 = data1.drop(0, axis=0) "
   ]
  },
  {
   "cell_type": "code",
   "execution_count": 119,
   "metadata": {
    "colab": {
     "base_uri": "https://localhost:8080/"
    },
    "executionInfo": {
     "elapsed": 37,
     "status": "ok",
     "timestamp": 1645017665728,
     "user": {
      "displayName": "saurabh verma",
      "photoUrl": "https://lh3.googleusercontent.com/a/default-user=s64",
      "userId": "12815769251055761787"
     },
     "user_tz": -330
    },
    "id": "PKUtotDLcVxe",
    "outputId": "0ba34483-d06d-4b37-f45e-c8ce2303d2c2"
   },
   "outputs": [
    {
     "data": {
      "text/plain": [
       "(1600, 2)"
      ]
     },
     "execution_count": 119,
     "metadata": {},
     "output_type": "execute_result"
    }
   ],
   "source": [
    "data1.shape"
   ]
  },
  {
   "cell_type": "code",
   "execution_count": 120,
   "metadata": {
    "colab": {
     "base_uri": "https://localhost:8080/"
    },
    "executionInfo": {
     "elapsed": 35,
     "status": "ok",
     "timestamp": 1645017665728,
     "user": {
      "displayName": "saurabh verma",
      "photoUrl": "https://lh3.googleusercontent.com/a/default-user=s64",
      "userId": "12815769251055761787"
     },
     "user_tz": -330
    },
    "id": "TsEMR2KHeEY_",
    "outputId": "b257484d-63b0-45b0-bdd3-542251bb1ae9"
   },
   "outputs": [
    {
     "data": {
      "text/plain": [
       "1    0\n",
       "2    0\n",
       "dtype: int64"
      ]
     },
     "execution_count": 120,
     "metadata": {},
     "output_type": "execute_result"
    }
   ],
   "source": [
    "data1.isnull().sum()"
   ]
  },
  {
   "cell_type": "code",
   "execution_count": 121,
   "metadata": {
    "colab": {
     "base_uri": "https://localhost:8080/",
     "height": 270
    },
    "executionInfo": {
     "elapsed": 34,
     "status": "ok",
     "timestamp": 1645017665729,
     "user": {
      "displayName": "saurabh verma",
      "photoUrl": "https://lh3.googleusercontent.com/a/default-user=s64",
      "userId": "12815769251055761787"
     },
     "user_tz": -330
    },
    "id": "Vf7fG865Rmk9",
    "outputId": "447770e8-2fd8-431c-f0d7-4b053889bebd"
   },
   "outputs": [
    {
     "data": {
      "text/html": [
       "\n",
       "  <div id=\"df-bd1fc1d0-e7c2-4b55-867e-b35e6e3b2227\">\n",
       "    <div class=\"colab-df-container\">\n",
       "      <div>\n",
       "<style scoped>\n",
       "    .dataframe tbody tr th:only-of-type {\n",
       "        vertical-align: middle;\n",
       "    }\n",
       "\n",
       "    .dataframe tbody tr th {\n",
       "        vertical-align: top;\n",
       "    }\n",
       "\n",
       "    .dataframe thead th {\n",
       "        text-align: right;\n",
       "    }\n",
       "</style>\n",
       "<table border=\"1\" class=\"dataframe\">\n",
       "  <thead>\n",
       "    <tr style=\"text-align: right;\">\n",
       "      <th></th>\n",
       "      <th>0</th>\n",
       "      <th>1</th>\n",
       "      <th>2</th>\n",
       "      <th>3</th>\n",
       "    </tr>\n",
       "  </thead>\n",
       "  <tbody>\n",
       "    <tr>\n",
       "      <th>0</th>\n",
       "      <td>NaN</td>\n",
       "      <td>0.000000</td>\n",
       "      <td>1.000000</td>\n",
       "      <td>2.000000</td>\n",
       "    </tr>\n",
       "    <tr>\n",
       "      <th>1</th>\n",
       "      <td>0.0</td>\n",
       "      <td>-0.744863</td>\n",
       "      <td>-0.914015</td>\n",
       "      <td>-1.815700</td>\n",
       "    </tr>\n",
       "    <tr>\n",
       "      <th>2</th>\n",
       "      <td>1.0</td>\n",
       "      <td>0.039325</td>\n",
       "      <td>1.064930</td>\n",
       "      <td>-1.587150</td>\n",
       "    </tr>\n",
       "    <tr>\n",
       "      <th>3</th>\n",
       "      <td>2.0</td>\n",
       "      <td>-0.407660</td>\n",
       "      <td>0.397869</td>\n",
       "      <td>-1.909981</td>\n",
       "    </tr>\n",
       "    <tr>\n",
       "      <th>4</th>\n",
       "      <td>3.0</td>\n",
       "      <td>0.033789</td>\n",
       "      <td>0.967298</td>\n",
       "      <td>-1.014872</td>\n",
       "    </tr>\n",
       "  </tbody>\n",
       "</table>\n",
       "</div>\n",
       "      <button class=\"colab-df-convert\" onclick=\"convertToInteractive('df-bd1fc1d0-e7c2-4b55-867e-b35e6e3b2227')\"\n",
       "              title=\"Convert this dataframe to an interactive table.\"\n",
       "              style=\"display:none;\">\n",
       "        \n",
       "  <svg xmlns=\"http://www.w3.org/2000/svg\" height=\"24px\"viewBox=\"0 0 24 24\"\n",
       "       width=\"24px\">\n",
       "    <path d=\"M0 0h24v24H0V0z\" fill=\"none\"/>\n",
       "    <path d=\"M18.56 5.44l.94 2.06.94-2.06 2.06-.94-2.06-.94-.94-2.06-.94 2.06-2.06.94zm-11 1L8.5 8.5l.94-2.06 2.06-.94-2.06-.94L8.5 2.5l-.94 2.06-2.06.94zm10 10l.94 2.06.94-2.06 2.06-.94-2.06-.94-.94-2.06-.94 2.06-2.06.94z\"/><path d=\"M17.41 7.96l-1.37-1.37c-.4-.4-.92-.59-1.43-.59-.52 0-1.04.2-1.43.59L10.3 9.45l-7.72 7.72c-.78.78-.78 2.05 0 2.83L4 21.41c.39.39.9.59 1.41.59.51 0 1.02-.2 1.41-.59l7.78-7.78 2.81-2.81c.8-.78.8-2.07 0-2.86zM5.41 20L4 18.59l7.72-7.72 1.47 1.35L5.41 20z\"/>\n",
       "  </svg>\n",
       "      </button>\n",
       "      \n",
       "  <style>\n",
       "    .colab-df-container {\n",
       "      display:flex;\n",
       "      flex-wrap:wrap;\n",
       "      gap: 12px;\n",
       "    }\n",
       "\n",
       "    .colab-df-convert {\n",
       "      background-color: #E8F0FE;\n",
       "      border: none;\n",
       "      border-radius: 50%;\n",
       "      cursor: pointer;\n",
       "      display: none;\n",
       "      fill: #1967D2;\n",
       "      height: 32px;\n",
       "      padding: 0 0 0 0;\n",
       "      width: 32px;\n",
       "    }\n",
       "\n",
       "    .colab-df-convert:hover {\n",
       "      background-color: #E2EBFA;\n",
       "      box-shadow: 0px 1px 2px rgba(60, 64, 67, 0.3), 0px 1px 3px 1px rgba(60, 64, 67, 0.15);\n",
       "      fill: #174EA6;\n",
       "    }\n",
       "\n",
       "    [theme=dark] .colab-df-convert {\n",
       "      background-color: #3B4455;\n",
       "      fill: #D2E3FC;\n",
       "    }\n",
       "\n",
       "    [theme=dark] .colab-df-convert:hover {\n",
       "      background-color: #434B5C;\n",
       "      box-shadow: 0px 1px 3px 1px rgba(0, 0, 0, 0.15);\n",
       "      filter: drop-shadow(0px 1px 2px rgba(0, 0, 0, 0.3));\n",
       "      fill: #FFFFFF;\n",
       "    }\n",
       "  </style>\n",
       "\n",
       "      <script>\n",
       "        const buttonEl =\n",
       "          document.querySelector('#df-bd1fc1d0-e7c2-4b55-867e-b35e6e3b2227 button.colab-df-convert');\n",
       "        buttonEl.style.display =\n",
       "          google.colab.kernel.accessAllowed ? 'block' : 'none';\n",
       "\n",
       "        async function convertToInteractive(key) {\n",
       "          const element = document.querySelector('#df-bd1fc1d0-e7c2-4b55-867e-b35e6e3b2227');\n",
       "          const dataTable =\n",
       "            await google.colab.kernel.invokeFunction('convertToInteractive',\n",
       "                                                     [key], {});\n",
       "          if (!dataTable) return;\n",
       "\n",
       "          const docLinkHtml = 'Like what you see? Visit the ' +\n",
       "            '<a target=\"_blank\" href=https://colab.research.google.com/notebooks/data_table.ipynb>data table notebook</a>'\n",
       "            + ' to learn more about interactive tables.';\n",
       "          element.innerHTML = '';\n",
       "          dataTable['output_type'] = 'display_data';\n",
       "          await google.colab.output.renderOutput(dataTable, element);\n",
       "          const docLink = document.createElement('div');\n",
       "          docLink.innerHTML = docLinkHtml;\n",
       "          element.appendChild(docLink);\n",
       "        }\n",
       "      </script>\n",
       "    </div>\n",
       "  </div>\n",
       "  "
      ],
      "text/plain": [
       "     0         1         2         3\n",
       "0  NaN  0.000000  1.000000  2.000000\n",
       "1  0.0 -0.744863 -0.914015 -1.815700\n",
       "2  1.0  0.039325  1.064930 -1.587150\n",
       "3  2.0 -0.407660  0.397869 -1.909981\n",
       "4  3.0  0.033789  0.967298 -1.014872"
      ]
     },
     "execution_count": 121,
     "metadata": {},
     "output_type": "execute_result"
    }
   ],
   "source": [
    "data2.head()"
   ]
  },
  {
   "cell_type": "code",
   "execution_count": 122,
   "metadata": {
    "colab": {
     "base_uri": "https://localhost:8080/"
    },
    "executionInfo": {
     "elapsed": 32,
     "status": "ok",
     "timestamp": 1645017665729,
     "user": {
      "displayName": "saurabh verma",
      "photoUrl": "https://lh3.googleusercontent.com/a/default-user=s64",
      "userId": "12815769251055761787"
     },
     "user_tz": -330
    },
    "id": "B_cJJZ10RpP1",
    "outputId": "c7e264ff-ece4-4898-9d08-1d82ce9c9376"
   },
   "outputs": [
    {
     "data": {
      "text/plain": [
       "(2001, 4)"
      ]
     },
     "execution_count": 122,
     "metadata": {},
     "output_type": "execute_result"
    }
   ],
   "source": [
    "data2.shape"
   ]
  },
  {
   "cell_type": "code",
   "execution_count": 123,
   "metadata": {
    "executionInfo": {
     "elapsed": 30,
     "status": "ok",
     "timestamp": 1645017665729,
     "user": {
      "displayName": "saurabh verma",
      "photoUrl": "https://lh3.googleusercontent.com/a/default-user=s64",
      "userId": "12815769251055761787"
     },
     "user_tz": -330
    },
    "id": "lcBUqWSnRpSu"
   },
   "outputs": [],
   "source": [
    "data2 = data2.drop(data2.columns[[0]], axis=1) "
   ]
  },
  {
   "cell_type": "code",
   "execution_count": 124,
   "metadata": {
    "executionInfo": {
     "elapsed": 30,
     "status": "ok",
     "timestamp": 1645017665730,
     "user": {
      "displayName": "saurabh verma",
      "photoUrl": "https://lh3.googleusercontent.com/a/default-user=s64",
      "userId": "12815769251055761787"
     },
     "user_tz": -330
    },
    "id": "s4OAnJPxSJet"
   },
   "outputs": [],
   "source": [
    "data2 = data2.drop(0, axis=0) "
   ]
  },
  {
   "cell_type": "code",
   "execution_count": 125,
   "metadata": {
    "colab": {
     "base_uri": "https://localhost:8080/"
    },
    "executionInfo": {
     "elapsed": 29,
     "status": "ok",
     "timestamp": 1645017665731,
     "user": {
      "displayName": "saurabh verma",
      "photoUrl": "https://lh3.googleusercontent.com/a/default-user=s64",
      "userId": "12815769251055761787"
     },
     "user_tz": -330
    },
    "id": "CZ0eppNMRy3d",
    "outputId": "73a6bb2a-8e57-4657-8aee-6c782d7b3904"
   },
   "outputs": [
    {
     "data": {
      "text/plain": [
       "(2000, 3)"
      ]
     },
     "execution_count": 125,
     "metadata": {},
     "output_type": "execute_result"
    }
   ],
   "source": [
    "data2.shape"
   ]
  },
  {
   "cell_type": "code",
   "execution_count": 126,
   "metadata": {
    "colab": {
     "base_uri": "https://localhost:8080/"
    },
    "executionInfo": {
     "elapsed": 28,
     "status": "ok",
     "timestamp": 1645017665731,
     "user": {
      "displayName": "saurabh verma",
      "photoUrl": "https://lh3.googleusercontent.com/a/default-user=s64",
      "userId": "12815769251055761787"
     },
     "user_tz": -330
    },
    "id": "Vr82XamzR0uz",
    "outputId": "7ca4ed8f-0b34-4b75-915b-9b15f7c1c0b4"
   },
   "outputs": [
    {
     "data": {
      "text/plain": [
       "1    0\n",
       "2    0\n",
       "3    0\n",
       "dtype: int64"
      ]
     },
     "execution_count": 126,
     "metadata": {},
     "output_type": "execute_result"
    }
   ],
   "source": [
    "data2.isnull().sum()"
   ]
  },
  {
   "cell_type": "code",
   "execution_count": 127,
   "metadata": {
    "executionInfo": {
     "elapsed": 28,
     "status": "ok",
     "timestamp": 1645017665732,
     "user": {
      "displayName": "saurabh verma",
      "photoUrl": "https://lh3.googleusercontent.com/a/default-user=s64",
      "userId": "12815769251055761787"
     },
     "user_tz": -330
    },
    "id": "2L5-t9VGDIWn"
   },
   "outputs": [],
   "source": [
    "from sklearn.preprocessing import StandardScaler \n",
    "St_scaler  = StandardScaler()\n",
    "\n",
    "data1 = pd.DataFrame(St_scaler.fit_transform(data1),columns=['0','1'])"
   ]
  },
  {
   "cell_type": "code",
   "execution_count": 128,
   "metadata": {
    "executionInfo": {
     "elapsed": 27,
     "status": "ok",
     "timestamp": 1645017665733,
     "user": {
      "displayName": "saurabh verma",
      "photoUrl": "https://lh3.googleusercontent.com/a/default-user=s64",
      "userId": "12815769251055761787"
     },
     "user_tz": -330
    },
    "id": "cZqYpl-iDJFw"
   },
   "outputs": [],
   "source": [
    "data2 = pd.DataFrame(St_scaler.fit_transform(data2),columns=['0','1', '2'])"
   ]
  },
  {
   "cell_type": "markdown",
   "metadata": {
    "id": "IQR9f3VUMVqx"
   },
   "source": [
    "# **1. Apply model based clustering on Data 1**"
   ]
  },
  {
   "cell_type": "markdown",
   "metadata": {
    "id": "hU-XkOzHry6-"
   },
   "source": [
    "Gaussian Mixture Model is used to find the clusters in the given dataset.\n",
    "The value of Prior probabilities, means and variances are intialized first.\n",
    "Then for each dataset we predict its probability to for its cluster with the given value of mean, variance and prior probability. Then we keep updating our parameters for each datset. I got the optimal result for 4 clusters and 150 iterations. Classified clusters are shown below."
   ]
  },
  {
   "cell_type": "code",
   "execution_count": 129,
   "metadata": {
    "colab": {
     "base_uri": "https://localhost:8080/",
     "height": 265
    },
    "executionInfo": {
     "elapsed": 11,
     "status": "ok",
     "timestamp": 1645017667273,
     "user": {
      "displayName": "saurabh verma",
      "photoUrl": "https://lh3.googleusercontent.com/a/default-user=s64",
      "userId": "12815769251055761787"
     },
     "user_tz": -330
    },
    "id": "L6C2iS-qBAzY",
    "outputId": "d7bea150-85f9-469f-ef22-cff315b55c12"
   },
   "outputs": [
    {
     "data": {
      "image/png": "[encoded data removed]",
      "text/plain": [
       "<Figure size 432x288 with 1 Axes>"
      ]
     },
     "metadata": {
      "needs_background": "light"
     },
     "output_type": "display_data"
    }
   ],
   "source": [
    "plt.scatter(data1.iloc[:,:1], data1.iloc[:,1:2])\n",
    "plt.show()"
   ]
  },
  {
   "cell_type": "code",
   "execution_count": 130,
   "metadata": {
    "executionInfo": {
     "elapsed": 7,
     "status": "ok",
     "timestamp": 1645017671181,
     "user": {
      "displayName": "saurabh verma",
      "photoUrl": "https://lh3.googleusercontent.com/a/default-user=s64",
      "userId": "12815769251055761787"
     },
     "user_tz": -330
    },
    "id": "YiaHpbnaVB_j"
   },
   "outputs": [],
   "source": [
    "class Gaussian_Mixture:\n",
    "    def __init__(self, k, max_iter = 150):\n",
    "        self.k = k\n",
    "        self.max_iter = int(max_iter)\n",
    "\n",
    "    def initialize(self, X):\n",
    "        self.shape = X.shape\n",
    "        self.n, self.m = self.shape\n",
    "\n",
    "        # phi is an array that stores prob. of selecting each class = \n",
    "        # sum of weights for all the datapoints\n",
    "        self.phi = np.full(shape=self.k, fill_value=1/self.k) \n",
    "        # array of 1*k length with all having same value (1/k).\n",
    "\n",
    "        # weight = (prob. of Xi belong to class c) / (sum of prob. of Xi \n",
    "        # belongs to class c1, c2,.... ck)\n",
    "        self.weights = np.full( shape=(self.n, self.k), fill_value=1/self.k) \n",
    "        # array of n*m length with all having same value (1/k).\n",
    "        \n",
    "        random_row = np.random.randint(low=0, high=self.n, size=self.k) \n",
    "        # array of 1*k length with having random integer values.\n",
    "        self.mu = [  X.iloc[row_index,:] for row_index in random_row ]\n",
    "        self.sigma = [ np.cov(X.T) for _ in range(self.k) ] \n",
    "        # covariance matrix of dataset.\n",
    "\n",
    "    def e_step(self, X):\n",
    "        # E-Step: update weights and phi holding mu and sigma constant\n",
    "        self.weights = self.predict_proba(X)\n",
    "        self.phi = self.weights.mean(axis=0)\n",
    "    \n",
    "    def m_step(self, X):\n",
    "        # M-Step: update mu and sigma holding phi and weights constant\n",
    "        for i in range(self.k):\n",
    "            weight = self.weights[:, [i]]\n",
    "            total_weight = weight.sum()\n",
    "\n",
    "            # Updating mean of each class:\n",
    "            self.mu[i] = (X * weight).sum(axis=0) / total_weight\n",
    "\n",
    "            # Updating variance of each class:\n",
    "            self.sigma[i] = np.cov(X.T, aweights=(\n",
    "                weight/total_weight).flatten(), \n",
    "                bias=True)\n",
    "\n",
    "    def fit(self, X):\n",
    "        self.initialize(X)\n",
    "        \n",
    "        for iteration in range(self.max_iter):\n",
    "            self.e_step(X)\n",
    "            self.m_step(X)\n",
    "\n",
    "        return self.mu, self.sigma, self.phi    \n",
    "            \n",
    "    def predict_proba(self, X):\n",
    "        likelihood = np.zeros((self.n, self.k)) \n",
    "        # array of size n*k to store prob. of Xi to be in each class.\n",
    "        for i in range(self.k):\n",
    "            distribution = multivariate_normal(mean=self.mu[i], \n",
    "                                               cov=self.sigma[i])\n",
    "            likelihood[:,i] = distribution.pdf(X)\n",
    "        \n",
    "        numerator = likelihood * self.phi\n",
    "        denominator = numerator.sum(axis=1)[:, np.newaxis]\n",
    "        weights = numerator / denominator \n",
    "        # weight = (prob. of Xi belong to class c) / (sum of prob. of Xi \n",
    "        # belongs to class c1, c2,.... ck)\n",
    "        return weights\n",
    "    \n",
    "    def predict(self, X):\n",
    "        weights = self.predict_proba(X)\n",
    "        return np.argmax(weights, axis=1)"
   ]
  },
  {
   "cell_type": "code",
   "execution_count": 131,
   "metadata": {
    "executionInfo": {
     "elapsed": 350,
     "status": "ok",
     "timestamp": 1645017673965,
     "user": {
      "displayName": "saurabh verma",
      "photoUrl": "https://lh3.googleusercontent.com/a/default-user=s64",
      "userId": "12815769251055761787"
     },
     "user_tz": -330
    },
    "id": "_gWifBlVbg8g"
   },
   "outputs": [],
   "source": [
    "model = Gaussian_Mixture(4)"
   ]
  },
  {
   "cell_type": "code",
   "execution_count": 132,
   "metadata": {
    "executionInfo": {
     "elapsed": 1490,
     "status": "ok",
     "timestamp": 1645017676272,
     "user": {
      "displayName": "saurabh verma",
      "photoUrl": "https://lh3.googleusercontent.com/a/default-user=s64",
      "userId": "12815769251055761787"
     },
     "user_tz": -330
    },
    "id": "VnriwZ4ibt7p"
   },
   "outputs": [],
   "source": [
    "mean, variance, prob = model.fit(data1)"
   ]
  },
  {
   "cell_type": "code",
   "execution_count": 134,
   "metadata": {
    "colab": {
     "base_uri": "https://localhost:8080/"
    },
    "executionInfo": {
     "elapsed": 376,
     "status": "ok",
     "timestamp": 1645017774798,
     "user": {
      "displayName": "saurabh verma",
      "photoUrl": "https://lh3.googleusercontent.com/a/default-user=s64",
      "userId": "12815769251055761787"
     },
     "user_tz": -330
    },
    "id": "ltNHCtqgsekW",
    "outputId": "915658b8-c4f6-4961-871e-33cd416e0455"
   },
   "outputs": [
    {
     "name": "stdout",
     "output_type": "stream",
     "text": [
      "Mean of clusters:\n",
      " [0    0.109905\n",
      "1    0.532872\n",
      "dtype: float64, 0    1.485429\n",
      "1   -0.814910\n",
      "dtype: float64, 0   -1.185729\n",
      "1    1.251880\n",
      "dtype: float64, 0   -0.411128\n",
      "1   -0.987155\n",
      "dtype: float64]\n",
      "Variance is:\n",
      " [array([[0.05473293, 0.00325903],\n",
      "       [0.00325903, 0.1341623 ]]), array([[0.04993541, 0.00590034],\n",
      "       [0.00590034, 0.12675402]]), array([[ 0.050648  , -0.00327039],\n",
      "       [-0.00327039,  0.12713224]]), array([[ 0.04959038, -0.00274184],\n",
      "       [-0.00274184,  0.12584083]])]\n",
      "Prior probabilities:\n",
      " [0.25190665 0.24993969 0.25064336 0.2475103 ]\n"
     ]
    }
   ],
   "source": [
    "print('Mean of clusters:\\n', mean)\n",
    "print('Variance is:\\n', variance)\n",
    "print('Prior probabilities:\\n', prob)"
   ]
  },
  {
   "cell_type": "code",
   "execution_count": 65,
   "metadata": {
    "executionInfo": {
     "elapsed": 1066,
     "status": "ok",
     "timestamp": 1645016540333,
     "user": {
      "displayName": "saurabh verma",
      "photoUrl": "https://lh3.googleusercontent.com/a/default-user=s64",
      "userId": "12815769251055761787"
     },
     "user_tz": -330
    },
    "id": "BZyrla6PR6nt"
   },
   "outputs": [],
   "source": [
    "y_pred = model.predict(data1)"
   ]
  },
  {
   "cell_type": "code",
   "execution_count": 66,
   "metadata": {
    "executionInfo": {
     "elapsed": 5,
     "status": "ok",
     "timestamp": 1645016540727,
     "user": {
      "displayName": "saurabh verma",
      "photoUrl": "https://lh3.googleusercontent.com/a/default-user=s64",
      "userId": "12815769251055761787"
     },
     "user_tz": -330
    },
    "id": "GxVnbAph-xBx"
   },
   "outputs": [],
   "source": [
    "data1['Predicted_class'] = model.predict(data1)"
   ]
  },
  {
   "cell_type": "code",
   "execution_count": 67,
   "metadata": {
    "colab": {
     "base_uri": "https://localhost:8080/",
     "height": 206
    },
    "executionInfo": {
     "elapsed": 12,
     "status": "ok",
     "timestamp": 1645016542198,
     "user": {
      "displayName": "saurabh verma",
      "photoUrl": "https://lh3.googleusercontent.com/a/default-user=s64",
      "userId": "12815769251055761787"
     },
     "user_tz": -330
    },
    "id": "M293yT6O_Mj6",
    "outputId": "cb128d80-ca06-49a2-ef98-5098e0dcba35"
   },
   "outputs": [
    {
     "data": {
      "text/html": [
       "\n",
       "  <div id=\"df-3acc8653-f4e4-46f1-be48-a48b07ea306c\">\n",
       "    <div class=\"colab-df-container\">\n",
       "      <div>\n",
       "<style scoped>\n",
       "    .dataframe tbody tr th:only-of-type {\n",
       "        vertical-align: middle;\n",
       "    }\n",
       "\n",
       "    .dataframe tbody tr th {\n",
       "        vertical-align: top;\n",
       "    }\n",
       "\n",
       "    .dataframe thead th {\n",
       "        text-align: right;\n",
       "    }\n",
       "</style>\n",
       "<table border=\"1\" class=\"dataframe\">\n",
       "  <thead>\n",
       "    <tr style=\"text-align: right;\">\n",
       "      <th></th>\n",
       "      <th>0</th>\n",
       "      <th>1</th>\n",
       "      <th>Predicted_class</th>\n",
       "    </tr>\n",
       "  </thead>\n",
       "  <tbody>\n",
       "    <tr>\n",
       "      <th>0</th>\n",
       "      <td>-1.154036</td>\n",
       "      <td>1.399954</td>\n",
       "      <td>1</td>\n",
       "    </tr>\n",
       "    <tr>\n",
       "      <th>1</th>\n",
       "      <td>-0.219916</td>\n",
       "      <td>-1.022500</td>\n",
       "      <td>0</td>\n",
       "    </tr>\n",
       "    <tr>\n",
       "      <th>2</th>\n",
       "      <td>1.359377</td>\n",
       "      <td>-0.876855</td>\n",
       "      <td>3</td>\n",
       "    </tr>\n",
       "    <tr>\n",
       "      <th>3</th>\n",
       "      <td>-1.271247</td>\n",
       "      <td>1.227478</td>\n",
       "      <td>1</td>\n",
       "    </tr>\n",
       "    <tr>\n",
       "      <th>4</th>\n",
       "      <td>-1.432333</td>\n",
       "      <td>1.321481</td>\n",
       "      <td>1</td>\n",
       "    </tr>\n",
       "  </tbody>\n",
       "</table>\n",
       "</div>\n",
       "      <button class=\"colab-df-convert\" onclick=\"convertToInteractive('df-3acc8653-f4e4-46f1-be48-a48b07ea306c')\"\n",
       "              title=\"Convert this dataframe to an interactive table.\"\n",
       "              style=\"display:none;\">\n",
       "        \n",
       "  <svg xmlns=\"http://www.w3.org/2000/svg\" height=\"24px\"viewBox=\"0 0 24 24\"\n",
       "       width=\"24px\">\n",
       "    <path d=\"M0 0h24v24H0V0z\" fill=\"none\"/>\n",
       "    <path d=\"M18.56 5.44l.94 2.06.94-2.06 2.06-.94-2.06-.94-.94-2.06-.94 2.06-2.06.94zm-11 1L8.5 8.5l.94-2.06 2.06-.94-2.06-.94L8.5 2.5l-.94 2.06-2.06.94zm10 10l.94 2.06.94-2.06 2.06-.94-2.06-.94-.94-2.06-.94 2.06-2.06.94z\"/><path d=\"M17.41 7.96l-1.37-1.37c-.4-.4-.92-.59-1.43-.59-.52 0-1.04.2-1.43.59L10.3 9.45l-7.72 7.72c-.78.78-.78 2.05 0 2.83L4 21.41c.39.39.9.59 1.41.59.51 0 1.02-.2 1.41-.59l7.78-7.78 2.81-2.81c.8-.78.8-2.07 0-2.86zM5.41 20L4 18.59l7.72-7.72 1.47 1.35L5.41 20z\"/>\n",
       "  </svg>\n",
       "      </button>\n",
       "      \n",
       "  <style>\n",
       "    .colab-df-container {\n",
       "      display:flex;\n",
       "      flex-wrap:wrap;\n",
       "      gap: 12px;\n",
       "    }\n",
       "\n",
       "    .colab-df-convert {\n",
       "      background-color: #E8F0FE;\n",
       "      border: none;\n",
       "      border-radius: 50%;\n",
       "      cursor: pointer;\n",
       "      display: none;\n",
       "      fill: #1967D2;\n",
       "      height: 32px;\n",
       "      padding: 0 0 0 0;\n",
       "      width: 32px;\n",
       "    }\n",
       "\n",
       "    .colab-df-convert:hover {\n",
       "      background-color: #E2EBFA;\n",
       "      box-shadow: 0px 1px 2px rgba(60, 64, 67, 0.3), 0px 1px 3px 1px rgba(60, 64, 67, 0.15);\n",
       "      fill: #174EA6;\n",
       "    }\n",
       "\n",
       "    [theme=dark] .colab-df-convert {\n",
       "      background-color: #3B4455;\n",
       "      fill: #D2E3FC;\n",
       "    }\n",
       "\n",
       "    [theme=dark] .colab-df-convert:hover {\n",
       "      background-color: #434B5C;\n",
       "      box-shadow: 0px 1px 3px 1px rgba(0, 0, 0, 0.15);\n",
       "      filter: drop-shadow(0px 1px 2px rgba(0, 0, 0, 0.3));\n",
       "      fill: #FFFFFF;\n",
       "    }\n",
       "  </style>\n",
       "\n",
       "      <script>\n",
       "        const buttonEl =\n",
       "          document.querySelector('#df-3acc8653-f4e4-46f1-be48-a48b07ea306c button.colab-df-convert');\n",
       "        buttonEl.style.display =\n",
       "          google.colab.kernel.accessAllowed ? 'block' : 'none';\n",
       "\n",
       "        async function convertToInteractive(key) {\n",
       "          const element = document.querySelector('#df-3acc8653-f4e4-46f1-be48-a48b07ea306c');\n",
       "          const dataTable =\n",
       "            await google.colab.kernel.invokeFunction('convertToInteractive',\n",
       "                                                     [key], {});\n",
       "          if (!dataTable) return;\n",
       "\n",
       "          const docLinkHtml = 'Like what you see? Visit the ' +\n",
       "            '<a target=\"_blank\" href=https://colab.research.google.com/notebooks/data_table.ipynb>data table notebook</a>'\n",
       "            + ' to learn more about interactive tables.';\n",
       "          element.innerHTML = '';\n",
       "          dataTable['output_type'] = 'display_data';\n",
       "          await google.colab.output.renderOutput(dataTable, element);\n",
       "          const docLink = document.createElement('div');\n",
       "          docLink.innerHTML = docLinkHtml;\n",
       "          element.appendChild(docLink);\n",
       "        }\n",
       "      </script>\n",
       "    </div>\n",
       "  </div>\n",
       "  "
      ],
      "text/plain": [
       "          0         1  Predicted_class\n",
       "0 -1.154036  1.399954                1\n",
       "1 -0.219916 -1.022500                0\n",
       "2  1.359377 -0.876855                3\n",
       "3 -1.271247  1.227478                1\n",
       "4 -1.432333  1.321481                1"
      ]
     },
     "execution_count": 67,
     "metadata": {},
     "output_type": "execute_result"
    }
   ],
   "source": [
    "data1.head()"
   ]
  },
  {
   "cell_type": "code",
   "execution_count": 68,
   "metadata": {
    "colab": {
     "base_uri": "https://localhost:8080/"
    },
    "executionInfo": {
     "elapsed": 9,
     "status": "ok",
     "timestamp": 1645016543652,
     "user": {
      "displayName": "saurabh verma",
      "photoUrl": "https://lh3.googleusercontent.com/a/default-user=s64",
      "userId": "12815769251055761787"
     },
     "user_tz": -330
    },
    "id": "_apClrqjCeoo",
    "outputId": "6f28ef5c-2e70-45fb-f351-21f926a6f1ff"
   },
   "outputs": [
    {
     "data": {
      "text/plain": [
       "2    404\n",
       "1    400\n",
       "3    400\n",
       "0    396\n",
       "Name: Predicted_class, dtype: int64"
      ]
     },
     "execution_count": 68,
     "metadata": {},
     "output_type": "execute_result"
    }
   ],
   "source": [
    "data1['Predicted_class'].value_counts()"
   ]
  },
  {
   "cell_type": "code",
   "execution_count": 69,
   "metadata": {
    "colab": {
     "base_uri": "https://localhost:8080/",
     "height": 265
    },
    "executionInfo": {
     "elapsed": 10,
     "status": "ok",
     "timestamp": 1645016547228,
     "user": {
      "displayName": "saurabh verma",
      "photoUrl": "https://lh3.googleusercontent.com/a/default-user=s64",
      "userId": "12815769251055761787"
     },
     "user_tz": -330
    },
    "id": "pJAGiBOYR6qb",
    "outputId": "feeaa389-0a13-4c81-cfed-a330dc7d85a6"
   },
   "outputs": [
    {
     "data": {
      "image/png": "[encoded data removed]",
      "text/plain": [
       "<Figure size 432x288 with 1 Axes>"
      ]
     },
     "metadata": {
      "needs_background": "light"
     },
     "output_type": "display_data"
    }
   ],
   "source": [
    "plt.scatter(data1.iloc[:,:1], data1.iloc[:,1:2], c = y_pred)\n",
    "plt.show()"
   ]
  },
  {
   "cell_type": "markdown",
   "metadata": {
    "id": "7KX0oLbAfG3A"
   },
   "source": [
    "# **3. Analyse Data 2 using ICA.**"
   ]
  },
  {
   "cell_type": "code",
   "execution_count": 70,
   "metadata": {
    "executionInfo": {
     "elapsed": 356,
     "status": "ok",
     "timestamp": 1645016553074,
     "user": {
      "displayName": "saurabh verma",
      "photoUrl": "https://lh3.googleusercontent.com/a/default-user=s64",
      "userId": "12815769251055761787"
     },
     "user_tz": -330
    },
    "id": "XPluieaxR6zT"
   },
   "outputs": [],
   "source": [
    "def Independent_component_analysis(X, alpha, max_iter = 500, tolerance = 10**-2):\n",
    "    weight = np.random.random((X.shape[1], X.shape[1]))\n",
    "    j = 0\n",
    "    while j < max_iter:\n",
    "        weight_update = weight.copy()\n",
    "        np.random.shuffle(X)\n",
    "        for i in range(X.shape[0]):\n",
    "            temp = weight_update@X[i].T\n",
    "            temp = 1 - 2*sigmoid(temp)\n",
    "            temp = temp@X[i]\n",
    "            delta = temp + np.linalg.inv(weight_update.T)\n",
    "        weight_update = weight_update + alpha*delta\n",
    "        if np.isclose(weight_update, weight, atol = tolerance).all():\n",
    "            break \n",
    "        weight = weight_update.copy()\n",
    "        j += 1\n",
    "    print(f\"Total no. of iterations completed: {j}\")\n",
    "    return weight"
   ]
  },
  {
   "cell_type": "code",
   "execution_count": 71,
   "metadata": {
    "colab": {
     "base_uri": "https://localhost:8080/"
    },
    "executionInfo": {
     "elapsed": 26669,
     "status": "ok",
     "timestamp": 1645016579735,
     "user": {
      "displayName": "saurabh verma",
      "photoUrl": "https://lh3.googleusercontent.com/a/default-user=s64",
      "userId": "12815769251055761787"
     },
     "user_tz": -330
    },
    "id": "LKQyQQtsR62H",
    "outputId": "bfe991e7-a829-4515-e769-c7f59ce02bd5"
   },
   "outputs": [
    {
     "name": "stdout",
     "output_type": "stream",
     "text": [
      "Total no. of iterations completed: 249\n"
     ]
    }
   ],
   "source": [
    "Weight = Independent_component_analysis(data2.values, 0.05)"
   ]
  },
  {
   "cell_type": "code",
   "execution_count": 72,
   "metadata": {
    "colab": {
     "base_uri": "https://localhost:8080/"
    },
    "executionInfo": {
     "elapsed": 29,
     "status": "ok",
     "timestamp": 1645016579738,
     "user": {
      "displayName": "saurabh verma",
      "photoUrl": "https://lh3.googleusercontent.com/a/default-user=s64",
      "userId": "12815769251055761787"
     },
     "user_tz": -330
    },
    "id": "G0lXvkHceo2-",
    "outputId": "53cfa7d4-1b10-43b1-b76f-388c9d21352d"
   },
   "outputs": [
    {
     "name": "stdout",
     "output_type": "stream",
     "text": [
      "Values of the parameters are: \n",
      " [[-1.72382439 -6.28199743 -0.13870576]\n",
      " [ 0.33549086 -0.69043571  4.07465746]\n",
      " [ 4.04180625 -1.44000067 -2.11973926]]\n"
     ]
    }
   ],
   "source": [
    "print('Values of the parameters are: \\n', Weight)"
   ]
  },
  {
   "cell_type": "code",
   "execution_count": 73,
   "metadata": {
    "colab": {
     "base_uri": "https://localhost:8080/"
    },
    "executionInfo": {
     "elapsed": 24,
     "status": "ok",
     "timestamp": 1645016579739,
     "user": {
      "displayName": "saurabh verma",
      "photoUrl": "https://lh3.googleusercontent.com/a/default-user=s64",
      "userId": "12815769251055761787"
     },
     "user_tz": -330
    },
    "id": "U9j3TcF_ew0V",
    "outputId": "11d7c40d-0eb4-4194-e5b6-e42613d8d7d6"
   },
   "outputs": [
    {
     "name": "stdout",
     "output_type": "stream",
     "text": [
      "Source signals are: \n",
      " [[ 1.65156759 -5.34879954  3.18779174]\n",
      " [ 1.99201539 -6.35972502  3.05376479]\n",
      " [-0.7461019   3.4055194  -3.00057319]\n",
      " ...\n",
      " [ 0.55329266  0.15452793 -3.32900427]\n",
      " [-0.33182842 -2.75762402  2.36096083]\n",
      " [ 1.07635075 -6.13131101  2.8315044 ]]\n"
     ]
    }
   ],
   "source": [
    "source = data2.values@Weight\n",
    "print('Source signals are: \\n', source)"
   ]
  },
  {
   "cell_type": "markdown",
   "metadata": {
    "id": "QRIO18odt-qs"
   },
   "source": [
    "# **6. Apply model based clustering on ECG data [UCR Time Series Classification and Clustering website].**"
   ]
  },
  {
   "cell_type": "code",
   "execution_count": 74,
   "metadata": {
    "executionInfo": {
     "elapsed": 21,
     "status": "ok",
     "timestamp": 1645016579741,
     "user": {
      "displayName": "saurabh verma",
      "photoUrl": "https://lh3.googleusercontent.com/a/default-user=s64",
      "userId": "12815769251055761787"
     },
     "user_tz": -330
    },
    "id": "EhUSBZTDjOQd"
   },
   "outputs": [],
   "source": [
    "ecg, meta = loadarff('/content/drive/MyDrive/Colab Notebooks/Sem 2/AML/Assignments/ECG200_TRAIN.arff') "
   ]
  },
  {
   "cell_type": "code",
   "execution_count": 75,
   "metadata": {
    "executionInfo": {
     "elapsed": 20,
     "status": "ok",
     "timestamp": 1645016579742,
     "user": {
      "displayName": "saurabh verma",
      "photoUrl": "https://lh3.googleusercontent.com/a/default-user=s64",
      "userId": "12815769251055761787"
     },
     "user_tz": -330
    },
    "id": "nJWUaVESjsdD"
   },
   "outputs": [],
   "source": [
    "df_ecg = pd.DataFrame(ecg)"
   ]
  },
  {
   "cell_type": "code",
   "execution_count": 76,
   "metadata": {
    "colab": {
     "base_uri": "https://localhost:8080/",
     "height": 300
    },
    "executionInfo": {
     "elapsed": 968,
     "status": "ok",
     "timestamp": 1645016580693,
     "user": {
      "displayName": "saurabh verma",
      "photoUrl": "https://lh3.googleusercontent.com/a/default-user=s64",
      "userId": "12815769251055761787"
     },
     "user_tz": -330
    },
    "id": "0CinDwJawc9T",
    "outputId": "9609d7d8-00c3-4d82-a93c-5cf9ba697762"
   },
   "outputs": [
    {
     "data": {
      "text/html": [
       "\n",
       "  <div id=\"df-7c1799e7-2fc8-4a6a-8a12-85c29b4656fa\">\n",
       "    <div class=\"colab-df-container\">\n",
       "      <div>\n",
       "<style scoped>\n",
       "    .dataframe tbody tr th:only-of-type {\n",
       "        vertical-align: middle;\n",
       "    }\n",
       "\n",
       "    .dataframe tbody tr th {\n",
       "        vertical-align: top;\n",
       "    }\n",
       "\n",
       "    .dataframe thead th {\n",
       "        text-align: right;\n",
       "    }\n",
       "</style>\n",
       "<table border=\"1\" class=\"dataframe\">\n",
       "  <thead>\n",
       "    <tr style=\"text-align: right;\">\n",
       "      <th></th>\n",
       "      <th>att1</th>\n",
       "      <th>att2</th>\n",
       "      <th>att3</th>\n",
       "      <th>att4</th>\n",
       "      <th>att5</th>\n",
       "      <th>att6</th>\n",
       "      <th>att7</th>\n",
       "      <th>att8</th>\n",
       "      <th>att9</th>\n",
       "      <th>att10</th>\n",
       "      <th>att11</th>\n",
       "      <th>att12</th>\n",
       "      <th>att13</th>\n",
       "      <th>att14</th>\n",
       "      <th>att15</th>\n",
       "      <th>att16</th>\n",
       "      <th>att17</th>\n",
       "      <th>att18</th>\n",
       "      <th>att19</th>\n",
       "      <th>att20</th>\n",
       "      <th>att21</th>\n",
       "      <th>att22</th>\n",
       "      <th>att23</th>\n",
       "      <th>att24</th>\n",
       "      <th>att25</th>\n",
       "      <th>att26</th>\n",
       "      <th>att27</th>\n",
       "      <th>att28</th>\n",
       "      <th>att29</th>\n",
       "      <th>att30</th>\n",
       "      <th>att31</th>\n",
       "      <th>att32</th>\n",
       "      <th>att33</th>\n",
       "      <th>att34</th>\n",
       "      <th>att35</th>\n",
       "      <th>att36</th>\n",
       "      <th>att37</th>\n",
       "      <th>att38</th>\n",
       "      <th>att39</th>\n",
       "      <th>att40</th>\n",
       "      <th>...</th>\n",
       "      <th>att58</th>\n",
       "      <th>att59</th>\n",
       "      <th>att60</th>\n",
       "      <th>att61</th>\n",
       "      <th>att62</th>\n",
       "      <th>att63</th>\n",
       "      <th>att64</th>\n",
       "      <th>att65</th>\n",
       "      <th>att66</th>\n",
       "      <th>att67</th>\n",
       "      <th>att68</th>\n",
       "      <th>att69</th>\n",
       "      <th>att70</th>\n",
       "      <th>att71</th>\n",
       "      <th>att72</th>\n",
       "      <th>att73</th>\n",
       "      <th>att74</th>\n",
       "      <th>att75</th>\n",
       "      <th>att76</th>\n",
       "      <th>att77</th>\n",
       "      <th>att78</th>\n",
       "      <th>att79</th>\n",
       "      <th>att80</th>\n",
       "      <th>att81</th>\n",
       "      <th>att82</th>\n",
       "      <th>att83</th>\n",
       "      <th>att84</th>\n",
       "      <th>att85</th>\n",
       "      <th>att86</th>\n",
       "      <th>att87</th>\n",
       "      <th>att88</th>\n",
       "      <th>att89</th>\n",
       "      <th>att90</th>\n",
       "      <th>att91</th>\n",
       "      <th>att92</th>\n",
       "      <th>att93</th>\n",
       "      <th>att94</th>\n",
       "      <th>att95</th>\n",
       "      <th>att96</th>\n",
       "      <th>target</th>\n",
       "    </tr>\n",
       "  </thead>\n",
       "  <tbody>\n",
       "    <tr>\n",
       "      <th>0</th>\n",
       "      <td>0.502055</td>\n",
       "      <td>0.542163</td>\n",
       "      <td>0.722383</td>\n",
       "      <td>1.428885</td>\n",
       "      <td>2.136516</td>\n",
       "      <td>2.281149</td>\n",
       "      <td>1.936274</td>\n",
       "      <td>1.468890</td>\n",
       "      <td>1.008845</td>\n",
       "      <td>0.380282</td>\n",
       "      <td>-0.296780</td>\n",
       "      <td>-0.513929</td>\n",
       "      <td>-0.255645</td>\n",
       "      <td>-0.107203</td>\n",
       "      <td>-0.287827</td>\n",
       "      <td>-0.418009</td>\n",
       "      <td>-0.319163</td>\n",
       "      <td>-0.260379</td>\n",
       "      <td>-0.350357</td>\n",
       "      <td>-0.505486</td>\n",
       "      <td>-0.710887</td>\n",
       "      <td>-0.823920</td>\n",
       "      <td>-0.899702</td>\n",
       "      <td>-1.153950</td>\n",
       "      <td>-1.229831</td>\n",
       "      <td>-1.044091</td>\n",
       "      <td>-1.202031</td>\n",
       "      <td>-1.392195</td>\n",
       "      <td>-1.130108</td>\n",
       "      <td>-1.179867</td>\n",
       "      <td>-1.649272</td>\n",
       "      <td>-1.726575</td>\n",
       "      <td>-1.608370</td>\n",
       "      <td>-1.662802</td>\n",
       "      <td>-1.650672</td>\n",
       "      <td>-1.697309</td>\n",
       "      <td>-1.838697</td>\n",
       "      <td>-1.802596</td>\n",
       "      <td>-1.780536</td>\n",
       "      <td>-1.825166</td>\n",
       "      <td>...</td>\n",
       "      <td>0.474995</td>\n",
       "      <td>0.532797</td>\n",
       "      <td>0.723550</td>\n",
       "      <td>0.664420</td>\n",
       "      <td>0.647936</td>\n",
       "      <td>0.757054</td>\n",
       "      <td>0.732072</td>\n",
       "      <td>0.620215</td>\n",
       "      <td>0.606297</td>\n",
       "      <td>0.677950</td>\n",
       "      <td>0.689084</td>\n",
       "      <td>0.598807</td>\n",
       "      <td>0.542647</td>\n",
       "      <td>0.581807</td>\n",
       "      <td>0.630631</td>\n",
       "      <td>0.664420</td>\n",
       "      <td>0.686318</td>\n",
       "      <td>0.657383</td>\n",
       "      <td>0.650889</td>\n",
       "      <td>0.721738</td>\n",
       "      <td>0.739706</td>\n",
       "      <td>0.691481</td>\n",
       "      <td>0.695229</td>\n",
       "      <td>0.750115</td>\n",
       "      <td>0.853845</td>\n",
       "      <td>0.916019</td>\n",
       "      <td>0.827750</td>\n",
       "      <td>0.880906</td>\n",
       "      <td>1.088831</td>\n",
       "      <td>0.931043</td>\n",
       "      <td>0.610298</td>\n",
       "      <td>0.638894</td>\n",
       "      <td>0.684679</td>\n",
       "      <td>0.583238</td>\n",
       "      <td>0.640522</td>\n",
       "      <td>0.708585</td>\n",
       "      <td>0.705011</td>\n",
       "      <td>0.713815</td>\n",
       "      <td>0.433765</td>\n",
       "      <td>b'-1'</td>\n",
       "    </tr>\n",
       "    <tr>\n",
       "      <th>1</th>\n",
       "      <td>0.147647</td>\n",
       "      <td>0.804668</td>\n",
       "      <td>0.367771</td>\n",
       "      <td>0.243894</td>\n",
       "      <td>0.026614</td>\n",
       "      <td>-0.274402</td>\n",
       "      <td>0.096731</td>\n",
       "      <td>-0.747731</td>\n",
       "      <td>-1.609777</td>\n",
       "      <td>-1.179593</td>\n",
       "      <td>-1.055926</td>\n",
       "      <td>-1.128777</td>\n",
       "      <td>-0.686039</td>\n",
       "      <td>-0.798789</td>\n",
       "      <td>-1.714279</td>\n",
       "      <td>-1.649858</td>\n",
       "      <td>-1.032699</td>\n",
       "      <td>-1.423918</td>\n",
       "      <td>-1.782433</td>\n",
       "      <td>-1.025126</td>\n",
       "      <td>-1.798909</td>\n",
       "      <td>-1.793614</td>\n",
       "      <td>-1.085478</td>\n",
       "      <td>-1.574390</td>\n",
       "      <td>-1.036059</td>\n",
       "      <td>-2.130021</td>\n",
       "      <td>-2.038621</td>\n",
       "      <td>-0.055013</td>\n",
       "      <td>-1.140195</td>\n",
       "      <td>-0.704275</td>\n",
       "      <td>0.048723</td>\n",
       "      <td>-0.475854</td>\n",
       "      <td>0.525865</td>\n",
       "      <td>0.244778</td>\n",
       "      <td>0.679932</td>\n",
       "      <td>0.928601</td>\n",
       "      <td>0.573041</td>\n",
       "      <td>1.231607</td>\n",
       "      <td>1.043324</td>\n",
       "      <td>1.580228</td>\n",
       "      <td>...</td>\n",
       "      <td>0.694075</td>\n",
       "      <td>0.515071</td>\n",
       "      <td>0.559229</td>\n",
       "      <td>0.555712</td>\n",
       "      <td>0.469694</td>\n",
       "      <td>0.388821</td>\n",
       "      <td>0.343129</td>\n",
       "      <td>0.535598</td>\n",
       "      <td>0.900708</td>\n",
       "      <td>0.656846</td>\n",
       "      <td>0.690033</td>\n",
       "      <td>0.952596</td>\n",
       "      <td>0.547770</td>\n",
       "      <td>-0.167693</td>\n",
       "      <td>0.011532</td>\n",
       "      <td>-0.176488</td>\n",
       "      <td>-0.277706</td>\n",
       "      <td>-0.224836</td>\n",
       "      <td>-0.910723</td>\n",
       "      <td>-0.037932</td>\n",
       "      <td>0.071668</td>\n",
       "      <td>-1.048920</td>\n",
       "      <td>-0.636218</td>\n",
       "      <td>-0.386637</td>\n",
       "      <td>-0.507512</td>\n",
       "      <td>-0.716656</td>\n",
       "      <td>-0.463758</td>\n",
       "      <td>-0.460442</td>\n",
       "      <td>-0.770792</td>\n",
       "      <td>-0.533503</td>\n",
       "      <td>-0.400228</td>\n",
       "      <td>0.176084</td>\n",
       "      <td>1.111768</td>\n",
       "      <td>2.438428</td>\n",
       "      <td>2.734889</td>\n",
       "      <td>1.736054</td>\n",
       "      <td>0.036857</td>\n",
       "      <td>-1.265074</td>\n",
       "      <td>-0.208024</td>\n",
       "      <td>b'1'</td>\n",
       "    </tr>\n",
       "    <tr>\n",
       "      <th>2</th>\n",
       "      <td>0.316646</td>\n",
       "      <td>0.243199</td>\n",
       "      <td>0.370471</td>\n",
       "      <td>1.063738</td>\n",
       "      <td>1.678187</td>\n",
       "      <td>1.759558</td>\n",
       "      <td>1.697717</td>\n",
       "      <td>1.612159</td>\n",
       "      <td>1.168188</td>\n",
       "      <td>0.499957</td>\n",
       "      <td>-0.022363</td>\n",
       "      <td>-0.235318</td>\n",
       "      <td>-0.118273</td>\n",
       "      <td>-0.071027</td>\n",
       "      <td>-0.322986</td>\n",
       "      <td>-0.433562</td>\n",
       "      <td>-0.318660</td>\n",
       "      <td>-0.295655</td>\n",
       "      <td>-0.417733</td>\n",
       "      <td>-0.682480</td>\n",
       "      <td>-0.881840</td>\n",
       "      <td>-0.843320</td>\n",
       "      <td>-0.883652</td>\n",
       "      <td>-1.030018</td>\n",
       "      <td>-1.055265</td>\n",
       "      <td>-1.168637</td>\n",
       "      <td>-1.363991</td>\n",
       "      <td>-1.337611</td>\n",
       "      <td>-1.261294</td>\n",
       "      <td>-1.409782</td>\n",
       "      <td>-1.634504</td>\n",
       "      <td>-1.703238</td>\n",
       "      <td>-1.677025</td>\n",
       "      <td>-1.782628</td>\n",
       "      <td>-1.996872</td>\n",
       "      <td>-2.056372</td>\n",
       "      <td>-1.937881</td>\n",
       "      <td>-1.879412</td>\n",
       "      <td>-1.915427</td>\n",
       "      <td>-1.845507</td>\n",
       "      <td>...</td>\n",
       "      <td>0.699885</td>\n",
       "      <td>0.732561</td>\n",
       "      <td>0.771665</td>\n",
       "      <td>0.738129</td>\n",
       "      <td>0.723700</td>\n",
       "      <td>0.806876</td>\n",
       "      <td>0.878984</td>\n",
       "      <td>0.855791</td>\n",
       "      <td>0.806384</td>\n",
       "      <td>0.792501</td>\n",
       "      <td>0.803814</td>\n",
       "      <td>0.781938</td>\n",
       "      <td>0.700439</td>\n",
       "      <td>0.735960</td>\n",
       "      <td>0.864162</td>\n",
       "      <td>0.707670</td>\n",
       "      <td>0.458756</td>\n",
       "      <td>0.600146</td>\n",
       "      <td>0.825136</td>\n",
       "      <td>0.800034</td>\n",
       "      <td>0.762821</td>\n",
       "      <td>0.755443</td>\n",
       "      <td>0.653766</td>\n",
       "      <td>0.526441</td>\n",
       "      <td>0.477339</td>\n",
       "      <td>0.574946</td>\n",
       "      <td>0.698425</td>\n",
       "      <td>0.722414</td>\n",
       "      <td>0.771598</td>\n",
       "      <td>0.764229</td>\n",
       "      <td>0.610621</td>\n",
       "      <td>0.552900</td>\n",
       "      <td>0.566786</td>\n",
       "      <td>0.604002</td>\n",
       "      <td>0.777068</td>\n",
       "      <td>0.812345</td>\n",
       "      <td>0.748848</td>\n",
       "      <td>0.818042</td>\n",
       "      <td>0.539347</td>\n",
       "      <td>b'-1'</td>\n",
       "    </tr>\n",
       "    <tr>\n",
       "      <th>3</th>\n",
       "      <td>1.168874</td>\n",
       "      <td>2.075901</td>\n",
       "      <td>1.760141</td>\n",
       "      <td>1.606446</td>\n",
       "      <td>1.949046</td>\n",
       "      <td>1.302842</td>\n",
       "      <td>0.459332</td>\n",
       "      <td>0.516412</td>\n",
       "      <td>0.852180</td>\n",
       "      <td>0.989227</td>\n",
       "      <td>0.821253</td>\n",
       "      <td>0.576448</td>\n",
       "      <td>0.743089</td>\n",
       "      <td>0.852970</td>\n",
       "      <td>0.307458</td>\n",
       "      <td>-0.130391</td>\n",
       "      <td>-0.062200</td>\n",
       "      <td>-0.100727</td>\n",
       "      <td>-0.232818</td>\n",
       "      <td>-0.234465</td>\n",
       "      <td>-0.214756</td>\n",
       "      <td>-0.230413</td>\n",
       "      <td>-0.227551</td>\n",
       "      <td>-0.231002</td>\n",
       "      <td>-0.463479</td>\n",
       "      <td>-0.724215</td>\n",
       "      <td>-0.787885</td>\n",
       "      <td>-0.986687</td>\n",
       "      <td>-1.224672</td>\n",
       "      <td>-1.288142</td>\n",
       "      <td>-1.364148</td>\n",
       "      <td>-1.428221</td>\n",
       "      <td>-1.501767</td>\n",
       "      <td>-1.648084</td>\n",
       "      <td>-1.705836</td>\n",
       "      <td>-1.686791</td>\n",
       "      <td>-1.705719</td>\n",
       "      <td>-1.777683</td>\n",
       "      <td>-1.869313</td>\n",
       "      <td>-1.858376</td>\n",
       "      <td>...</td>\n",
       "      <td>0.464974</td>\n",
       "      <td>0.434163</td>\n",
       "      <td>0.486807</td>\n",
       "      <td>0.439388</td>\n",
       "      <td>0.369611</td>\n",
       "      <td>0.413149</td>\n",
       "      <td>0.397895</td>\n",
       "      <td>0.318764</td>\n",
       "      <td>0.263717</td>\n",
       "      <td>0.288863</td>\n",
       "      <td>0.358244</td>\n",
       "      <td>0.326737</td>\n",
       "      <td>0.229215</td>\n",
       "      <td>0.204418</td>\n",
       "      <td>0.244386</td>\n",
       "      <td>0.262632</td>\n",
       "      <td>0.243885</td>\n",
       "      <td>0.227502</td>\n",
       "      <td>0.245785</td>\n",
       "      <td>0.232959</td>\n",
       "      <td>0.164611</td>\n",
       "      <td>0.171538</td>\n",
       "      <td>0.166690</td>\n",
       "      <td>0.099141</td>\n",
       "      <td>0.146937</td>\n",
       "      <td>0.133414</td>\n",
       "      <td>0.125294</td>\n",
       "      <td>0.202713</td>\n",
       "      <td>0.186409</td>\n",
       "      <td>0.419006</td>\n",
       "      <td>0.723888</td>\n",
       "      <td>1.323947</td>\n",
       "      <td>2.136488</td>\n",
       "      <td>1.746597</td>\n",
       "      <td>1.470220</td>\n",
       "      <td>1.893512</td>\n",
       "      <td>1.256949</td>\n",
       "      <td>0.800407</td>\n",
       "      <td>0.731540</td>\n",
       "      <td>b'-1'</td>\n",
       "    </tr>\n",
       "    <tr>\n",
       "      <th>4</th>\n",
       "      <td>0.648658</td>\n",
       "      <td>0.752026</td>\n",
       "      <td>2.636231</td>\n",
       "      <td>3.455716</td>\n",
       "      <td>2.118157</td>\n",
       "      <td>0.520620</td>\n",
       "      <td>-0.188627</td>\n",
       "      <td>0.780818</td>\n",
       "      <td>0.933775</td>\n",
       "      <td>0.701402</td>\n",
       "      <td>1.006133</td>\n",
       "      <td>0.395784</td>\n",
       "      <td>-0.369703</td>\n",
       "      <td>-0.738202</td>\n",
       "      <td>-0.729084</td>\n",
       "      <td>-0.906940</td>\n",
       "      <td>-0.870962</td>\n",
       "      <td>-1.060217</td>\n",
       "      <td>-1.197958</td>\n",
       "      <td>-0.981602</td>\n",
       "      <td>-1.272497</td>\n",
       "      <td>-1.287380</td>\n",
       "      <td>-1.276698</td>\n",
       "      <td>-1.539702</td>\n",
       "      <td>-1.346610</td>\n",
       "      <td>-1.535217</td>\n",
       "      <td>-1.763418</td>\n",
       "      <td>-1.688821</td>\n",
       "      <td>-1.809368</td>\n",
       "      <td>-1.863891</td>\n",
       "      <td>-1.994453</td>\n",
       "      <td>-1.889810</td>\n",
       "      <td>-1.925713</td>\n",
       "      <td>-1.833629</td>\n",
       "      <td>-1.661830</td>\n",
       "      <td>-1.342510</td>\n",
       "      <td>-1.011317</td>\n",
       "      <td>-0.672717</td>\n",
       "      <td>-0.216157</td>\n",
       "      <td>0.052872</td>\n",
       "      <td>...</td>\n",
       "      <td>0.453148</td>\n",
       "      <td>0.485785</td>\n",
       "      <td>0.440679</td>\n",
       "      <td>0.539153</td>\n",
       "      <td>0.369571</td>\n",
       "      <td>0.377316</td>\n",
       "      <td>0.470113</td>\n",
       "      <td>0.321448</td>\n",
       "      <td>0.325513</td>\n",
       "      <td>0.251259</td>\n",
       "      <td>0.270571</td>\n",
       "      <td>0.277161</td>\n",
       "      <td>0.155171</td>\n",
       "      <td>0.120954</td>\n",
       "      <td>0.326395</td>\n",
       "      <td>0.473952</td>\n",
       "      <td>0.594736</td>\n",
       "      <td>0.698199</td>\n",
       "      <td>0.826781</td>\n",
       "      <td>0.575166</td>\n",
       "      <td>0.401196</td>\n",
       "      <td>0.349966</td>\n",
       "      <td>0.148053</td>\n",
       "      <td>-0.033206</td>\n",
       "      <td>-0.114266</td>\n",
       "      <td>0.120345</td>\n",
       "      <td>-0.220102</td>\n",
       "      <td>-0.151226</td>\n",
       "      <td>-0.077445</td>\n",
       "      <td>-0.097869</td>\n",
       "      <td>-0.136787</td>\n",
       "      <td>-0.340237</td>\n",
       "      <td>-0.089441</td>\n",
       "      <td>-0.080297</td>\n",
       "      <td>-0.192584</td>\n",
       "      <td>-0.304704</td>\n",
       "      <td>-0.454556</td>\n",
       "      <td>0.314590</td>\n",
       "      <td>0.582190</td>\n",
       "      <td>b'1'</td>\n",
       "    </tr>\n",
       "  </tbody>\n",
       "</table>\n",
       "<p>5 rows × 97 columns</p>\n",
       "</div>\n",
       "      <button class=\"colab-df-convert\" onclick=\"convertToInteractive('df-7c1799e7-2fc8-4a6a-8a12-85c29b4656fa')\"\n",
       "              title=\"Convert this dataframe to an interactive table.\"\n",
       "              style=\"display:none;\">\n",
       "        \n",
       "  <svg xmlns=\"http://www.w3.org/2000/svg\" height=\"24px\"viewBox=\"0 0 24 24\"\n",
       "       width=\"24px\">\n",
       "    <path d=\"M0 0h24v24H0V0z\" fill=\"none\"/>\n",
       "    <path d=\"M18.56 5.44l.94 2.06.94-2.06 2.06-.94-2.06-.94-.94-2.06-.94 2.06-2.06.94zm-11 1L8.5 8.5l.94-2.06 2.06-.94-2.06-.94L8.5 2.5l-.94 2.06-2.06.94zm10 10l.94 2.06.94-2.06 2.06-.94-2.06-.94-.94-2.06-.94 2.06-2.06.94z\"/><path d=\"M17.41 7.96l-1.37-1.37c-.4-.4-.92-.59-1.43-.59-.52 0-1.04.2-1.43.59L10.3 9.45l-7.72 7.72c-.78.78-.78 2.05 0 2.83L4 21.41c.39.39.9.59 1.41.59.51 0 1.02-.2 1.41-.59l7.78-7.78 2.81-2.81c.8-.78.8-2.07 0-2.86zM5.41 20L4 18.59l7.72-7.72 1.47 1.35L5.41 20z\"/>\n",
       "  </svg>\n",
       "      </button>\n",
       "      \n",
       "  <style>\n",
       "    .colab-df-container {\n",
       "      display:flex;\n",
       "      flex-wrap:wrap;\n",
       "      gap: 12px;\n",
       "    }\n",
       "\n",
       "    .colab-df-convert {\n",
       "      background-color: #E8F0FE;\n",
       "      border: none;\n",
       "      border-radius: 50%;\n",
       "      cursor: pointer;\n",
       "      display: none;\n",
       "      fill: #1967D2;\n",
       "      height: 32px;\n",
       "      padding: 0 0 0 0;\n",
       "      width: 32px;\n",
       "    }\n",
       "\n",
       "    .colab-df-convert:hover {\n",
       "      background-color: #E2EBFA;\n",
       "      box-shadow: 0px 1px 2px rgba(60, 64, 67, 0.3), 0px 1px 3px 1px rgba(60, 64, 67, 0.15);\n",
       "      fill: #174EA6;\n",
       "    }\n",
       "\n",
       "    [theme=dark] .colab-df-convert {\n",
       "      background-color: #3B4455;\n",
       "      fill: #D2E3FC;\n",
       "    }\n",
       "\n",
       "    [theme=dark] .colab-df-convert:hover {\n",
       "      background-color: #434B5C;\n",
       "      box-shadow: 0px 1px 3px 1px rgba(0, 0, 0, 0.15);\n",
       "      filter: drop-shadow(0px 1px 2px rgba(0, 0, 0, 0.3));\n",
       "      fill: #FFFFFF;\n",
       "    }\n",
       "  </style>\n",
       "\n",
       "      <script>\n",
       "        const buttonEl =\n",
       "          document.querySelector('#df-7c1799e7-2fc8-4a6a-8a12-85c29b4656fa button.colab-df-convert');\n",
       "        buttonEl.style.display =\n",
       "          google.colab.kernel.accessAllowed ? 'block' : 'none';\n",
       "\n",
       "        async function convertToInteractive(key) {\n",
       "          const element = document.querySelector('#df-7c1799e7-2fc8-4a6a-8a12-85c29b4656fa');\n",
       "          const dataTable =\n",
       "            await google.colab.kernel.invokeFunction('convertToInteractive',\n",
       "                                                     [key], {});\n",
       "          if (!dataTable) return;\n",
       "\n",
       "          const docLinkHtml = 'Like what you see? Visit the ' +\n",
       "            '<a target=\"_blank\" href=https://colab.research.google.com/notebooks/data_table.ipynb>data table notebook</a>'\n",
       "            + ' to learn more about interactive tables.';\n",
       "          element.innerHTML = '';\n",
       "          dataTable['output_type'] = 'display_data';\n",
       "          await google.colab.output.renderOutput(dataTable, element);\n",
       "          const docLink = document.createElement('div');\n",
       "          docLink.innerHTML = docLinkHtml;\n",
       "          element.appendChild(docLink);\n",
       "        }\n",
       "      </script>\n",
       "    </div>\n",
       "  </div>\n",
       "  "
      ],
      "text/plain": [
       "       att1      att2      att3      att4  ...     att94     att95     att96  target\n",
       "0  0.502055  0.542163  0.722383  1.428885  ...  0.705011  0.713815  0.433765   b'-1'\n",
       "1  0.147647  0.804668  0.367771  0.243894  ...  0.036857 -1.265074 -0.208024    b'1'\n",
       "2  0.316646  0.243199  0.370471  1.063738  ...  0.748848  0.818042  0.539347   b'-1'\n",
       "3  1.168874  2.075901  1.760141  1.606446  ...  1.256949  0.800407  0.731540   b'-1'\n",
       "4  0.648658  0.752026  2.636231  3.455716  ... -0.454556  0.314590  0.582190    b'1'\n",
       "\n",
       "[5 rows x 97 columns]"
      ]
     },
     "execution_count": 76,
     "metadata": {},
     "output_type": "execute_result"
    }
   ],
   "source": [
    "df_ecg.head()"
   ]
  },
  {
   "cell_type": "code",
   "execution_count": 77,
   "metadata": {
    "executionInfo": {
     "elapsed": 36,
     "status": "ok",
     "timestamp": 1645016580693,
     "user": {
      "displayName": "saurabh verma",
      "photoUrl": "https://lh3.googleusercontent.com/a/default-user=s64",
      "userId": "12815769251055761787"
     },
     "user_tz": -330
    },
    "id": "jVPMU8I3wryj"
   },
   "outputs": [],
   "source": [
    "df_ecg['target']= df_ecg['target'].astype(\"int64\")"
   ]
  },
  {
   "cell_type": "code",
   "execution_count": 78,
   "metadata": {
    "colab": {
     "base_uri": "https://localhost:8080/"
    },
    "executionInfo": {
     "elapsed": 35,
     "status": "ok",
     "timestamp": 1645016580695,
     "user": {
      "displayName": "saurabh verma",
      "photoUrl": "https://lh3.googleusercontent.com/a/default-user=s64",
      "userId": "12815769251055761787"
     },
     "user_tz": -330
    },
    "id": "ebhOuu19wZK8",
    "outputId": "fef9bf9a-ee9b-4670-ff37-076a2af14c0e"
   },
   "outputs": [
    {
     "data": {
      "text/plain": [
       " 1    69\n",
       "-1    31\n",
       "Name: target, dtype: int64"
      ]
     },
     "execution_count": 78,
     "metadata": {},
     "output_type": "execute_result"
    }
   ],
   "source": [
    "df_ecg['target'].value_counts()"
   ]
  },
  {
   "cell_type": "code",
   "execution_count": 79,
   "metadata": {
    "executionInfo": {
     "elapsed": 33,
     "status": "ok",
     "timestamp": 1645016580696,
     "user": {
      "displayName": "saurabh verma",
      "photoUrl": "https://lh3.googleusercontent.com/a/default-user=s64",
      "userId": "12815769251055761787"
     },
     "user_tz": -330
    },
    "id": "3CsuF4bDj1BK"
   },
   "outputs": [],
   "source": [
    "X = df_ecg.drop(columns=['target'])\n",
    "y = df_ecg[\"target\"].astype(\"int64\")"
   ]
  },
  {
   "cell_type": "code",
   "execution_count": 80,
   "metadata": {
    "executionInfo": {
     "elapsed": 32,
     "status": "ok",
     "timestamp": 1645016580696,
     "user": {
      "displayName": "saurabh verma",
      "photoUrl": "https://lh3.googleusercontent.com/a/default-user=s64",
      "userId": "12815769251055761787"
     },
     "user_tz": -330
    },
    "id": "lRKuAZHqkiKa"
   },
   "outputs": [],
   "source": [
    "scale = StandardScaler()\n",
    "X = pd.DataFrame(scale.fit_transform(X))"
   ]
  },
  {
   "cell_type": "code",
   "execution_count": 81,
   "metadata": {
    "executionInfo": {
     "elapsed": 32,
     "status": "ok",
     "timestamp": 1645016580697,
     "user": {
      "displayName": "saurabh verma",
      "photoUrl": "https://lh3.googleusercontent.com/a/default-user=s64",
      "userId": "12815769251055761787"
     },
     "user_tz": -330
    },
    "id": "krcGLLNAzqFQ"
   },
   "outputs": [],
   "source": [
    "y = y.replace(-1,0)"
   ]
  },
  {
   "cell_type": "code",
   "execution_count": 82,
   "metadata": {
    "colab": {
     "base_uri": "https://localhost:8080/"
    },
    "executionInfo": {
     "elapsed": 32,
     "status": "ok",
     "timestamp": 1645016580698,
     "user": {
      "displayName": "saurabh verma",
      "photoUrl": "https://lh3.googleusercontent.com/a/default-user=s64",
      "userId": "12815769251055761787"
     },
     "user_tz": -330
    },
    "id": "3kwnnBD9kE6D",
    "outputId": "8ee13f9c-cd2f-436a-da11-1f4b3c2340f6"
   },
   "outputs": [
    {
     "data": {
      "text/plain": [
       "1    69\n",
       "0    31\n",
       "Name: target, dtype: int64"
      ]
     },
     "execution_count": 82,
     "metadata": {},
     "output_type": "execute_result"
    }
   ],
   "source": [
    "y.value_counts()"
   ]
  },
  {
   "cell_type": "code",
   "execution_count": 83,
   "metadata": {
    "colab": {
     "base_uri": "https://localhost:8080/",
     "height": 300
    },
    "executionInfo": {
     "elapsed": 30,
     "status": "ok",
     "timestamp": 1645016580699,
     "user": {
      "displayName": "saurabh verma",
      "photoUrl": "https://lh3.googleusercontent.com/a/default-user=s64",
      "userId": "12815769251055761787"
     },
     "user_tz": -330
    },
    "id": "4O9o1mcxkOsT",
    "outputId": "61d022ec-6d32-4561-eebd-2b107c0d6981"
   },
   "outputs": [
    {
     "data": {
      "text/html": [
       "\n",
       "  <div id=\"df-bf113ba5-b30e-457c-8c57-db56825ece98\">\n",
       "    <div class=\"colab-df-container\">\n",
       "      <div>\n",
       "<style scoped>\n",
       "    .dataframe tbody tr th:only-of-type {\n",
       "        vertical-align: middle;\n",
       "    }\n",
       "\n",
       "    .dataframe tbody tr th {\n",
       "        vertical-align: top;\n",
       "    }\n",
       "\n",
       "    .dataframe thead th {\n",
       "        text-align: right;\n",
       "    }\n",
       "</style>\n",
       "<table border=\"1\" class=\"dataframe\">\n",
       "  <thead>\n",
       "    <tr style=\"text-align: right;\">\n",
       "      <th></th>\n",
       "      <th>0</th>\n",
       "      <th>1</th>\n",
       "      <th>2</th>\n",
       "      <th>3</th>\n",
       "      <th>4</th>\n",
       "      <th>5</th>\n",
       "      <th>6</th>\n",
       "      <th>7</th>\n",
       "      <th>8</th>\n",
       "      <th>9</th>\n",
       "      <th>10</th>\n",
       "      <th>11</th>\n",
       "      <th>12</th>\n",
       "      <th>13</th>\n",
       "      <th>14</th>\n",
       "      <th>15</th>\n",
       "      <th>16</th>\n",
       "      <th>17</th>\n",
       "      <th>18</th>\n",
       "      <th>19</th>\n",
       "      <th>20</th>\n",
       "      <th>21</th>\n",
       "      <th>22</th>\n",
       "      <th>23</th>\n",
       "      <th>24</th>\n",
       "      <th>25</th>\n",
       "      <th>26</th>\n",
       "      <th>27</th>\n",
       "      <th>28</th>\n",
       "      <th>29</th>\n",
       "      <th>30</th>\n",
       "      <th>31</th>\n",
       "      <th>32</th>\n",
       "      <th>33</th>\n",
       "      <th>34</th>\n",
       "      <th>35</th>\n",
       "      <th>36</th>\n",
       "      <th>37</th>\n",
       "      <th>38</th>\n",
       "      <th>39</th>\n",
       "      <th>...</th>\n",
       "      <th>56</th>\n",
       "      <th>57</th>\n",
       "      <th>58</th>\n",
       "      <th>59</th>\n",
       "      <th>60</th>\n",
       "      <th>61</th>\n",
       "      <th>62</th>\n",
       "      <th>63</th>\n",
       "      <th>64</th>\n",
       "      <th>65</th>\n",
       "      <th>66</th>\n",
       "      <th>67</th>\n",
       "      <th>68</th>\n",
       "      <th>69</th>\n",
       "      <th>70</th>\n",
       "      <th>71</th>\n",
       "      <th>72</th>\n",
       "      <th>73</th>\n",
       "      <th>74</th>\n",
       "      <th>75</th>\n",
       "      <th>76</th>\n",
       "      <th>77</th>\n",
       "      <th>78</th>\n",
       "      <th>79</th>\n",
       "      <th>80</th>\n",
       "      <th>81</th>\n",
       "      <th>82</th>\n",
       "      <th>83</th>\n",
       "      <th>84</th>\n",
       "      <th>85</th>\n",
       "      <th>86</th>\n",
       "      <th>87</th>\n",
       "      <th>88</th>\n",
       "      <th>89</th>\n",
       "      <th>90</th>\n",
       "      <th>91</th>\n",
       "      <th>92</th>\n",
       "      <th>93</th>\n",
       "      <th>94</th>\n",
       "      <th>95</th>\n",
       "    </tr>\n",
       "  </thead>\n",
       "  <tbody>\n",
       "    <tr>\n",
       "      <th>0</th>\n",
       "      <td>-0.349482</td>\n",
       "      <td>-0.953069</td>\n",
       "      <td>-1.264137</td>\n",
       "      <td>-0.638072</td>\n",
       "      <td>0.615717</td>\n",
       "      <td>1.585020</td>\n",
       "      <td>1.515399</td>\n",
       "      <td>1.300054</td>\n",
       "      <td>0.838954</td>\n",
       "      <td>0.230480</td>\n",
       "      <td>-0.498925</td>\n",
       "      <td>-0.586209</td>\n",
       "      <td>0.146608</td>\n",
       "      <td>0.937357</td>\n",
       "      <td>0.807697</td>\n",
       "      <td>0.736763</td>\n",
       "      <td>1.101256</td>\n",
       "      <td>1.481779</td>\n",
       "      <td>1.489032</td>\n",
       "      <td>1.326902</td>\n",
       "      <td>1.014038</td>\n",
       "      <td>0.932042</td>\n",
       "      <td>0.914535</td>\n",
       "      <td>0.514816</td>\n",
       "      <td>0.474201</td>\n",
       "      <td>1.026123</td>\n",
       "      <td>0.813375</td>\n",
       "      <td>0.340872</td>\n",
       "      <td>0.902744</td>\n",
       "      <td>0.657958</td>\n",
       "      <td>-0.167662</td>\n",
       "      <td>-0.338888</td>\n",
       "      <td>-0.296904</td>\n",
       "      <td>-0.491393</td>\n",
       "      <td>-0.651679</td>\n",
       "      <td>-0.882983</td>\n",
       "      <td>-1.240728</td>\n",
       "      <td>-1.411836</td>\n",
       "      <td>-1.558116</td>\n",
       "      <td>-1.745374</td>\n",
       "      <td>...</td>\n",
       "      <td>0.604079</td>\n",
       "      <td>-0.231666</td>\n",
       "      <td>0.101386</td>\n",
       "      <td>0.813827</td>\n",
       "      <td>0.610508</td>\n",
       "      <td>0.679101</td>\n",
       "      <td>1.300137</td>\n",
       "      <td>1.215311</td>\n",
       "      <td>0.759715</td>\n",
       "      <td>0.705037</td>\n",
       "      <td>0.993472</td>\n",
       "      <td>1.000111</td>\n",
       "      <td>0.834178</td>\n",
       "      <td>0.622042</td>\n",
       "      <td>0.716680</td>\n",
       "      <td>0.916004</td>\n",
       "      <td>0.851548</td>\n",
       "      <td>0.474482</td>\n",
       "      <td>0.188675</td>\n",
       "      <td>0.147039</td>\n",
       "      <td>0.395905</td>\n",
       "      <td>0.676975</td>\n",
       "      <td>0.714293</td>\n",
       "      <td>0.877416</td>\n",
       "      <td>1.107023</td>\n",
       "      <td>1.362650</td>\n",
       "      <td>1.599020</td>\n",
       "      <td>1.480052</td>\n",
       "      <td>1.623973</td>\n",
       "      <td>2.274330</td>\n",
       "      <td>1.843279</td>\n",
       "      <td>1.009694</td>\n",
       "      <td>0.959458</td>\n",
       "      <td>0.678445</td>\n",
       "      <td>0.222294</td>\n",
       "      <td>0.209011</td>\n",
       "      <td>0.384878</td>\n",
       "      <td>0.637480</td>\n",
       "      <td>0.861023</td>\n",
       "      <td>0.629058</td>\n",
       "    </tr>\n",
       "    <tr>\n",
       "      <th>1</th>\n",
       "      <td>-0.949627</td>\n",
       "      <td>-0.668763</td>\n",
       "      <td>-1.604575</td>\n",
       "      <td>-1.721992</td>\n",
       "      <td>-1.605352</td>\n",
       "      <td>-1.081781</td>\n",
       "      <td>-0.170376</td>\n",
       "      <td>-1.238330</td>\n",
       "      <td>-2.615990</td>\n",
       "      <td>-1.890414</td>\n",
       "      <td>-1.663838</td>\n",
       "      <td>-1.623974</td>\n",
       "      <td>-0.639384</td>\n",
       "      <td>-0.404853</td>\n",
       "      <td>-2.142936</td>\n",
       "      <td>-1.807948</td>\n",
       "      <td>-0.402557</td>\n",
       "      <td>-1.073970</td>\n",
       "      <td>-1.638673</td>\n",
       "      <td>0.104033</td>\n",
       "      <td>-1.402680</td>\n",
       "      <td>-1.183867</td>\n",
       "      <td>0.489107</td>\n",
       "      <td>-0.424786</td>\n",
       "      <td>0.906532</td>\n",
       "      <td>-1.337166</td>\n",
       "      <td>-1.137901</td>\n",
       "      <td>3.116213</td>\n",
       "      <td>0.883413</td>\n",
       "      <td>1.494333</td>\n",
       "      <td>2.388339</td>\n",
       "      <td>1.435582</td>\n",
       "      <td>2.330749</td>\n",
       "      <td>1.877372</td>\n",
       "      <td>2.122580</td>\n",
       "      <td>2.219654</td>\n",
       "      <td>1.615620</td>\n",
       "      <td>2.082650</td>\n",
       "      <td>1.630849</td>\n",
       "      <td>2.012890</td>\n",
       "      <td>...</td>\n",
       "      <td>0.389974</td>\n",
       "      <td>0.677821</td>\n",
       "      <td>0.023538</td>\n",
       "      <td>0.132826</td>\n",
       "      <td>0.155871</td>\n",
       "      <td>-0.124172</td>\n",
       "      <td>-0.361909</td>\n",
       "      <td>-0.450558</td>\n",
       "      <td>0.381713</td>\n",
       "      <td>1.874221</td>\n",
       "      <td>0.907605</td>\n",
       "      <td>1.003695</td>\n",
       "      <td>2.216293</td>\n",
       "      <td>0.641794</td>\n",
       "      <td>-1.988210</td>\n",
       "      <td>-1.284521</td>\n",
       "      <td>-1.981219</td>\n",
       "      <td>-2.599415</td>\n",
       "      <td>-2.441062</td>\n",
       "      <td>-4.138341</td>\n",
       "      <td>-1.752020</td>\n",
       "      <td>-1.353675</td>\n",
       "      <td>-4.167697</td>\n",
       "      <td>-2.687926</td>\n",
       "      <td>-1.788971</td>\n",
       "      <td>-1.920336</td>\n",
       "      <td>-2.263979</td>\n",
       "      <td>-1.534527</td>\n",
       "      <td>-1.517870</td>\n",
       "      <td>-2.437274</td>\n",
       "      <td>-1.801677</td>\n",
       "      <td>-1.330427</td>\n",
       "      <td>-0.064193</td>\n",
       "      <td>1.406122</td>\n",
       "      <td>2.637173</td>\n",
       "      <td>2.625553</td>\n",
       "      <td>1.625572</td>\n",
       "      <td>-0.371494</td>\n",
       "      <td>-2.347856</td>\n",
       "      <td>-0.930309</td>\n",
       "    </tr>\n",
       "    <tr>\n",
       "      <th>2</th>\n",
       "      <td>-0.663448</td>\n",
       "      <td>-1.276861</td>\n",
       "      <td>-1.601983</td>\n",
       "      <td>-0.972075</td>\n",
       "      <td>0.133240</td>\n",
       "      <td>1.040722</td>\n",
       "      <td>1.296784</td>\n",
       "      <td>1.464119</td>\n",
       "      <td>1.049186</td>\n",
       "      <td>0.393197</td>\n",
       "      <td>-0.077831</td>\n",
       "      <td>-0.115960</td>\n",
       "      <td>0.397479</td>\n",
       "      <td>1.007565</td>\n",
       "      <td>0.734969</td>\n",
       "      <td>0.704634</td>\n",
       "      <td>1.102317</td>\n",
       "      <td>1.404294</td>\n",
       "      <td>1.341882</td>\n",
       "      <td>0.910382</td>\n",
       "      <td>0.634317</td>\n",
       "      <td>0.889709</td>\n",
       "      <td>0.951289</td>\n",
       "      <td>0.791778</td>\n",
       "      <td>0.863680</td>\n",
       "      <td>0.755077</td>\n",
       "      <td>0.435618</td>\n",
       "      <td>0.454161</td>\n",
       "      <td>0.651335</td>\n",
       "      <td>0.253629</td>\n",
       "      <td>-0.145432</td>\n",
       "      <td>-0.305778</td>\n",
       "      <td>-0.381431</td>\n",
       "      <td>-0.640188</td>\n",
       "      <td>-1.063780</td>\n",
       "      <td>-1.307232</td>\n",
       "      <td>-1.358197</td>\n",
       "      <td>-1.500304</td>\n",
       "      <td>-1.710447</td>\n",
       "      <td>-1.767822</td>\n",
       "      <td>...</td>\n",
       "      <td>0.570780</td>\n",
       "      <td>0.701942</td>\n",
       "      <td>0.978678</td>\n",
       "      <td>1.013233</td>\n",
       "      <td>0.918777</td>\n",
       "      <td>1.020543</td>\n",
       "      <td>1.525012</td>\n",
       "      <td>1.844550</td>\n",
       "      <td>1.812083</td>\n",
       "      <td>1.499636</td>\n",
       "      <td>1.459543</td>\n",
       "      <td>1.433352</td>\n",
       "      <td>1.549600</td>\n",
       "      <td>1.230356</td>\n",
       "      <td>1.273005</td>\n",
       "      <td>1.746066</td>\n",
       "      <td>0.997245</td>\n",
       "      <td>-0.251123</td>\n",
       "      <td>0.018062</td>\n",
       "      <td>0.625208</td>\n",
       "      <td>0.617282</td>\n",
       "      <td>0.747238</td>\n",
       "      <td>0.893714</td>\n",
       "      <td>0.766385</td>\n",
       "      <td>0.537191</td>\n",
       "      <td>0.454686</td>\n",
       "      <td>0.792022</td>\n",
       "      <td>1.178187</td>\n",
       "      <td>1.252739</td>\n",
       "      <td>1.470578</td>\n",
       "      <td>1.428114</td>\n",
       "      <td>1.010442</td>\n",
       "      <td>0.769255</td>\n",
       "      <td>0.477580</td>\n",
       "      <td>0.249323</td>\n",
       "      <td>0.366562</td>\n",
       "      <td>0.510171</td>\n",
       "      <td>0.703678</td>\n",
       "      <td>1.030033</td>\n",
       "      <td>0.885593</td>\n",
       "    </tr>\n",
       "    <tr>\n",
       "      <th>3</th>\n",
       "      <td>0.779690</td>\n",
       "      <td>0.708042</td>\n",
       "      <td>-0.267857</td>\n",
       "      <td>-0.475656</td>\n",
       "      <td>0.418369</td>\n",
       "      <td>0.564125</td>\n",
       "      <td>0.161915</td>\n",
       "      <td>0.209315</td>\n",
       "      <td>0.632253</td>\n",
       "      <td>1.058436</td>\n",
       "      <td>1.216702</td>\n",
       "      <td>1.254170</td>\n",
       "      <td>1.970512</td>\n",
       "      <td>2.800831</td>\n",
       "      <td>2.039051</td>\n",
       "      <td>1.330915</td>\n",
       "      <td>1.642819</td>\n",
       "      <td>1.832459</td>\n",
       "      <td>1.745742</td>\n",
       "      <td>1.964697</td>\n",
       "      <td>2.116047</td>\n",
       "      <td>2.227098</td>\n",
       "      <td>2.453757</td>\n",
       "      <td>2.577423</td>\n",
       "      <td>2.184040</td>\n",
       "      <td>1.722264</td>\n",
       "      <td>1.779336</td>\n",
       "      <td>1.182510</td>\n",
       "      <td>0.721518</td>\n",
       "      <td>0.467545</td>\n",
       "      <td>0.261536</td>\n",
       "      <td>0.084404</td>\n",
       "      <td>-0.165654</td>\n",
       "      <td>-0.473116</td>\n",
       "      <td>-0.717343</td>\n",
       "      <td>-0.870555</td>\n",
       "      <td>-1.083236</td>\n",
       "      <td>-1.383143</td>\n",
       "      <td>-1.658371</td>\n",
       "      <td>-1.782025</td>\n",
       "      <td>...</td>\n",
       "      <td>-0.527595</td>\n",
       "      <td>-0.273265</td>\n",
       "      <td>-0.331783</td>\n",
       "      <td>-0.167317</td>\n",
       "      <td>-0.330621</td>\n",
       "      <td>-0.575213</td>\n",
       "      <td>-0.252105</td>\n",
       "      <td>-0.215994</td>\n",
       "      <td>-0.586930</td>\n",
       "      <td>-0.655433</td>\n",
       "      <td>-0.589601</td>\n",
       "      <td>-0.249193</td>\n",
       "      <td>-0.228693</td>\n",
       "      <td>-0.586282</td>\n",
       "      <td>-0.645291</td>\n",
       "      <td>-0.456865</td>\n",
       "      <td>-0.501955</td>\n",
       "      <td>-0.936264</td>\n",
       "      <td>-1.092722</td>\n",
       "      <td>-0.964650</td>\n",
       "      <td>-0.986091</td>\n",
       "      <td>-1.071154</td>\n",
       "      <td>-0.744196</td>\n",
       "      <td>-0.537904</td>\n",
       "      <td>-0.551400</td>\n",
       "      <td>-0.342098</td>\n",
       "      <td>-0.252666</td>\n",
       "      <td>-0.159588</td>\n",
       "      <td>0.035442</td>\n",
       "      <td>-0.012076</td>\n",
       "      <td>0.568925</td>\n",
       "      <td>1.272738</td>\n",
       "      <td>2.474668</td>\n",
       "      <td>3.152044</td>\n",
       "      <td>1.736624</td>\n",
       "      <td>1.166342</td>\n",
       "      <td>1.815707</td>\n",
       "      <td>1.470956</td>\n",
       "      <td>1.001436</td>\n",
       "      <td>1.352567</td>\n",
       "    </tr>\n",
       "    <tr>\n",
       "      <th>4</th>\n",
       "      <td>-0.101230</td>\n",
       "      <td>-0.725777</td>\n",
       "      <td>0.573218</td>\n",
       "      <td>1.215884</td>\n",
       "      <td>0.596391</td>\n",
       "      <td>-0.252149</td>\n",
       "      <td>-0.431880</td>\n",
       "      <td>0.512102</td>\n",
       "      <td>0.739908</td>\n",
       "      <td>0.667093</td>\n",
       "      <td>1.500400</td>\n",
       "      <td>0.949239</td>\n",
       "      <td>-0.061687</td>\n",
       "      <td>-0.287268</td>\n",
       "      <td>-0.105049</td>\n",
       "      <td>-0.273253</td>\n",
       "      <td>-0.061689</td>\n",
       "      <td>-0.275090</td>\n",
       "      <td>-0.362159</td>\n",
       "      <td>0.206457</td>\n",
       "      <td>-0.233413</td>\n",
       "      <td>-0.079246</td>\n",
       "      <td>0.051215</td>\n",
       "      <td>-0.347265</td>\n",
       "      <td>0.213650</td>\n",
       "      <td>-0.042705</td>\n",
       "      <td>-0.496013</td>\n",
       "      <td>-0.274780</td>\n",
       "      <td>-0.399017</td>\n",
       "      <td>-0.544967</td>\n",
       "      <td>-0.687266</td>\n",
       "      <td>-0.570479</td>\n",
       "      <td>-0.687613</td>\n",
       "      <td>-0.703520</td>\n",
       "      <td>-0.664960</td>\n",
       "      <td>-0.463772</td>\n",
       "      <td>-0.260819</td>\n",
       "      <td>-0.110555</td>\n",
       "      <td>0.208527</td>\n",
       "      <td>0.327268</td>\n",
       "      <td>...</td>\n",
       "      <td>0.032322</td>\n",
       "      <td>-0.322362</td>\n",
       "      <td>-0.105077</td>\n",
       "      <td>-0.358488</td>\n",
       "      <td>0.086619</td>\n",
       "      <td>-0.575390</td>\n",
       "      <td>-0.413840</td>\n",
       "      <td>0.093324</td>\n",
       "      <td>-0.574939</td>\n",
       "      <td>-0.410025</td>\n",
       "      <td>-0.742601</td>\n",
       "      <td>-0.580261</td>\n",
       "      <td>-0.422366</td>\n",
       "      <td>-0.871734</td>\n",
       "      <td>-0.946505</td>\n",
       "      <td>-0.165372</td>\n",
       "      <td>0.209918</td>\n",
       "      <td>0.182464</td>\n",
       "      <td>0.310344</td>\n",
       "      <td>0.629721</td>\n",
       "      <td>-0.018519</td>\n",
       "      <td>-0.352001</td>\n",
       "      <td>-0.243688</td>\n",
       "      <td>-0.587811</td>\n",
       "      <td>-0.888570</td>\n",
       "      <td>-0.972003</td>\n",
       "      <td>-0.283588</td>\n",
       "      <td>-0.965796</td>\n",
       "      <td>-0.793592</td>\n",
       "      <td>-0.680585</td>\n",
       "      <td>-0.717472</td>\n",
       "      <td>-0.720365</td>\n",
       "      <td>-1.206200</td>\n",
       "      <td>-0.640503</td>\n",
       "      <td>-0.641421</td>\n",
       "      <td>-0.752252</td>\n",
       "      <td>-0.838695</td>\n",
       "      <td>-1.113571</td>\n",
       "      <td>0.213657</td>\n",
       "      <td>0.989688</td>\n",
       "    </tr>\n",
       "  </tbody>\n",
       "</table>\n",
       "<p>5 rows × 96 columns</p>\n",
       "</div>\n",
       "      <button class=\"colab-df-convert\" onclick=\"convertToInteractive('df-bf113ba5-b30e-457c-8c57-db56825ece98')\"\n",
       "              title=\"Convert this dataframe to an interactive table.\"\n",
       "              style=\"display:none;\">\n",
       "        \n",
       "  <svg xmlns=\"http://www.w3.org/2000/svg\" height=\"24px\"viewBox=\"0 0 24 24\"\n",
       "       width=\"24px\">\n",
       "    <path d=\"M0 0h24v24H0V0z\" fill=\"none\"/>\n",
       "    <path d=\"M18.56 5.44l.94 2.06.94-2.06 2.06-.94-2.06-.94-.94-2.06-.94 2.06-2.06.94zm-11 1L8.5 8.5l.94-2.06 2.06-.94-2.06-.94L8.5 2.5l-.94 2.06-2.06.94zm10 10l.94 2.06.94-2.06 2.06-.94-2.06-.94-.94-2.06-.94 2.06-2.06.94z\"/><path d=\"M17.41 7.96l-1.37-1.37c-.4-.4-.92-.59-1.43-.59-.52 0-1.04.2-1.43.59L10.3 9.45l-7.72 7.72c-.78.78-.78 2.05 0 2.83L4 21.41c.39.39.9.59 1.41.59.51 0 1.02-.2 1.41-.59l7.78-7.78 2.81-2.81c.8-.78.8-2.07 0-2.86zM5.41 20L4 18.59l7.72-7.72 1.47 1.35L5.41 20z\"/>\n",
       "  </svg>\n",
       "      </button>\n",
       "      \n",
       "  <style>\n",
       "    .colab-df-container {\n",
       "      display:flex;\n",
       "      flex-wrap:wrap;\n",
       "      gap: 12px;\n",
       "    }\n",
       "\n",
       "    .colab-df-convert {\n",
       "      background-color: #E8F0FE;\n",
       "      border: none;\n",
       "      border-radius: 50%;\n",
       "      cursor: pointer;\n",
       "      display: none;\n",
       "      fill: #1967D2;\n",
       "      height: 32px;\n",
       "      padding: 0 0 0 0;\n",
       "      width: 32px;\n",
       "    }\n",
       "\n",
       "    .colab-df-convert:hover {\n",
       "      background-color: #E2EBFA;\n",
       "      box-shadow: 0px 1px 2px rgba(60, 64, 67, 0.3), 0px 1px 3px 1px rgba(60, 64, 67, 0.15);\n",
       "      fill: #174EA6;\n",
       "    }\n",
       "\n",
       "    [theme=dark] .colab-df-convert {\n",
       "      background-color: #3B4455;\n",
       "      fill: #D2E3FC;\n",
       "    }\n",
       "\n",
       "    [theme=dark] .colab-df-convert:hover {\n",
       "      background-color: #434B5C;\n",
       "      box-shadow: 0px 1px 3px 1px rgba(0, 0, 0, 0.15);\n",
       "      filter: drop-shadow(0px 1px 2px rgba(0, 0, 0, 0.3));\n",
       "      fill: #FFFFFF;\n",
       "    }\n",
       "  </style>\n",
       "\n",
       "      <script>\n",
       "        const buttonEl =\n",
       "          document.querySelector('#df-bf113ba5-b30e-457c-8c57-db56825ece98 button.colab-df-convert');\n",
       "        buttonEl.style.display =\n",
       "          google.colab.kernel.accessAllowed ? 'block' : 'none';\n",
       "\n",
       "        async function convertToInteractive(key) {\n",
       "          const element = document.querySelector('#df-bf113ba5-b30e-457c-8c57-db56825ece98');\n",
       "          const dataTable =\n",
       "            await google.colab.kernel.invokeFunction('convertToInteractive',\n",
       "                                                     [key], {});\n",
       "          if (!dataTable) return;\n",
       "\n",
       "          const docLinkHtml = 'Like what you see? Visit the ' +\n",
       "            '<a target=\"_blank\" href=https://colab.research.google.com/notebooks/data_table.ipynb>data table notebook</a>'\n",
       "            + ' to learn more about interactive tables.';\n",
       "          element.innerHTML = '';\n",
       "          dataTable['output_type'] = 'display_data';\n",
       "          await google.colab.output.renderOutput(dataTable, element);\n",
       "          const docLink = document.createElement('div');\n",
       "          docLink.innerHTML = docLinkHtml;\n",
       "          element.appendChild(docLink);\n",
       "        }\n",
       "      </script>\n",
       "    </div>\n",
       "  </div>\n",
       "  "
      ],
      "text/plain": [
       "         0         1         2   ...        93        94        95\n",
       "0 -0.349482 -0.953069 -1.264137  ...  0.637480  0.861023  0.629058\n",
       "1 -0.949627 -0.668763 -1.604575  ... -0.371494 -2.347856 -0.930309\n",
       "2 -0.663448 -1.276861 -1.601983  ...  0.703678  1.030033  0.885593\n",
       "3  0.779690  0.708042 -0.267857  ...  1.470956  1.001436  1.352567\n",
       "4 -0.101230 -0.725777  0.573218  ... -1.113571  0.213657  0.989688\n",
       "\n",
       "[5 rows x 96 columns]"
      ]
     },
     "execution_count": 83,
     "metadata": {},
     "output_type": "execute_result"
    }
   ],
   "source": [
    "X.head()"
   ]
  },
  {
   "cell_type": "code",
   "execution_count": 84,
   "metadata": {
    "colab": {
     "base_uri": "https://localhost:8080/"
    },
    "executionInfo": {
     "elapsed": 28,
     "status": "ok",
     "timestamp": 1645016580700,
     "user": {
      "displayName": "saurabh verma",
      "photoUrl": "https://lh3.googleusercontent.com/a/default-user=s64",
      "userId": "12815769251055761787"
     },
     "user_tz": -330
    },
    "id": "ZnGTfZWVlOli",
    "outputId": "6bee8a14-f27c-41b0-9390-64e309d0f99c"
   },
   "outputs": [
    {
     "data": {
      "text/plain": [
       "(100, 96)"
      ]
     },
     "execution_count": 84,
     "metadata": {},
     "output_type": "execute_result"
    }
   ],
   "source": [
    "X.shape"
   ]
  },
  {
   "cell_type": "code",
   "execution_count": 85,
   "metadata": {
    "executionInfo": {
     "elapsed": 27,
     "status": "ok",
     "timestamp": 1645016580701,
     "user": {
      "displayName": "saurabh verma",
      "photoUrl": "https://lh3.googleusercontent.com/a/default-user=s64",
      "userId": "12815769251055761787"
     },
     "user_tz": -330
    },
    "id": "ld9HMTjskv1r"
   },
   "outputs": [],
   "source": [
    "from sklearn.neighbors import LocalOutlierFactor \n",
    "clf = LocalOutlierFactor(n_neighbors = 7) \n",
    "outliers = clf.fit_predict(X)"
   ]
  },
  {
   "cell_type": "code",
   "execution_count": 86,
   "metadata": {
    "executionInfo": {
     "elapsed": 27,
     "status": "ok",
     "timestamp": 1645016580702,
     "user": {
      "displayName": "saurabh verma",
      "photoUrl": "https://lh3.googleusercontent.com/a/default-user=s64",
      "userId": "12815769251055761787"
     },
     "user_tz": -330
    },
    "id": "BIPwdINIkcjT"
   },
   "outputs": [],
   "source": [
    "# Removing the outliers:\n",
    "X = X.drop(index = np.where(outliers == -1)[0])\n",
    "y = y.drop(index = np.where(outliers == -1)[0])"
   ]
  },
  {
   "cell_type": "code",
   "execution_count": 87,
   "metadata": {
    "executionInfo": {
     "elapsed": 26,
     "status": "ok",
     "timestamp": 1645016580702,
     "user": {
      "displayName": "saurabh verma",
      "photoUrl": "https://lh3.googleusercontent.com/a/default-user=s64",
      "userId": "12815769251055761787"
     },
     "user_tz": -330
    },
    "id": "-ubIPH3PlAm6"
   },
   "outputs": [],
   "source": [
    "means = dict()\n",
    "means[0] = X.values[np.where(y == 1)[0][0]]\n",
    "means[1] = X.values[np.where(y == 0)[0][0]]"
   ]
  },
  {
   "cell_type": "code",
   "execution_count": 88,
   "metadata": {
    "colab": {
     "base_uri": "https://localhost:8080/"
    },
    "executionInfo": {
     "elapsed": 26,
     "status": "ok",
     "timestamp": 1645016580703,
     "user": {
      "displayName": "saurabh verma",
      "photoUrl": "https://lh3.googleusercontent.com/a/default-user=s64",
      "userId": "12815769251055761787"
     },
     "user_tz": -330
    },
    "id": "ZvcwuNeAlkep",
    "outputId": "2afe06db-9913-4346-8144-f42abd993d58"
   },
   "outputs": [
    {
     "data": {
      "text/plain": [
       "{0: array([-0.94962693, -0.66876315, -1.60457523, -1.72199219, -1.6053524 ,\n",
       "        -1.08178136, -0.17037579, -1.2383295 , -2.61599002, -1.89041412,\n",
       "        -1.66383828, -1.62397427, -0.63938441, -0.40485251, -2.14293628,\n",
       "        -1.80794808, -0.40255727, -1.07396984, -1.63867345,  0.1040326 ,\n",
       "        -1.40268035, -1.18386686,  0.48910698, -0.42478604,  0.90653173,\n",
       "        -1.33716569, -1.13790098,  3.11621344,  0.88341326,  1.49433277,\n",
       "         2.38833932,  1.43558179,  2.33074858,  1.87737164,  2.12257982,\n",
       "         2.21965378,  1.61562048,  2.08264987,  1.63084923,  2.0128905 ,\n",
       "         1.5114608 ,  0.7982311 ,  0.90204222,  1.04183052,  1.43136602,\n",
       "         0.64779716,  0.55594959,  0.27066416,  1.16031806,  1.1835474 ,\n",
       "         0.16988138,  1.25138908, -0.039197  ,  2.25502421,  1.32687834,\n",
       "        -2.57662381,  0.38997447,  0.6778206 ,  0.02353845,  0.13282563,\n",
       "         0.15587066, -0.12417212, -0.36190882, -0.45055832,  0.38171321,\n",
       "         1.87422137,  0.90760496,  1.00369548,  2.21629284,  0.64179374,\n",
       "        -1.98821024, -1.28452145, -1.98121884, -2.5994153 , -2.44106231,\n",
       "        -4.13834142, -1.75202041, -1.35367491, -4.16769656, -2.68792612,\n",
       "        -1.78897128, -1.92033629, -2.26397921, -1.5345272 , -1.51786955,\n",
       "        -2.43727382, -1.80167749, -1.3304273 , -0.06419316,  1.40612209,\n",
       "         2.63717258,  2.62555329,  1.6255724 , -0.37149353, -2.34785604,\n",
       "        -0.93030893]),\n",
       " 1: array([-0.34948155, -0.95306936, -1.26413655, -0.63807202,  0.61571703,\n",
       "         1.58502015,  1.51539944,  1.30005353,  0.83895359,  0.2304804 ,\n",
       "        -0.49892467, -0.58620903,  0.14660805,  0.93735685,  0.80769748,\n",
       "         0.73676306,  1.10125616,  1.48177884,  1.48903245,  1.32690211,\n",
       "         1.01403815,  0.93204223,  0.91453534,  0.51481583,  0.47420107,\n",
       "         1.02612321,  0.81337481,  0.34087168,  0.90274361,  0.65795816,\n",
       "        -0.16766202, -0.3388885 , -0.2969037 , -0.49139318, -0.65167865,\n",
       "        -0.88298332, -1.24072849, -1.41183555, -1.55811566, -1.74537379,\n",
       "        -1.70690074, -1.5205202 , -1.59135209, -1.75928875, -1.71418687,\n",
       "        -1.46739043, -1.32016186, -1.49093465, -1.43751914, -0.90758143,\n",
       "        -0.75532219, -0.85245298, -0.61972498, -0.91177278, -1.34836335,\n",
       "        -0.01866936,  0.60407856, -0.23166631,  0.1013856 ,  0.81382686,\n",
       "         0.61050838,  0.6791015 ,  1.30013725,  1.21531059,  0.75971537,\n",
       "         0.70503742,  0.99347167,  1.00011073,  0.83417837,  0.62204245,\n",
       "         0.71668021,  0.91600355,  0.85154815,  0.47448217,  0.18867538,\n",
       "         0.14703902,  0.39590511,  0.67697545,  0.71429312,  0.87741562,\n",
       "         1.10702306,  1.36264968,  1.59901982,  1.48005195,  1.62397299,\n",
       "         2.27432959,  1.84327943,  1.0096941 ,  0.95945765,  0.67844536,\n",
       "         0.22229395,  0.2090106 ,  0.38487769,  0.63747963,  0.86102338,\n",
       "         0.62905761])}"
      ]
     },
     "execution_count": 88,
     "metadata": {},
     "output_type": "execute_result"
    }
   ],
   "source": [
    "means"
   ]
  },
  {
   "cell_type": "code",
   "execution_count": 89,
   "metadata": {
    "executionInfo": {
     "elapsed": 521,
     "status": "ok",
     "timestamp": 1645016581199,
     "user": {
      "displayName": "saurabh verma",
      "photoUrl": "https://lh3.googleusercontent.com/a/default-user=s64",
      "userId": "12815769251055761787"
     },
     "user_tz": -330
    },
    "id": "uyUHAxOOsEHW"
   },
   "outputs": [],
   "source": [
    "from sklearn.mixture import GaussianMixture \n",
    "gm = GaussianMixture(n_components = 2, random_state= 0 ).fit(X)"
   ]
  },
  {
   "cell_type": "code",
   "execution_count": 135,
   "metadata": {
    "colab": {
     "base_uri": "https://localhost:8080/"
    },
    "executionInfo": {
     "elapsed": 431,
     "status": "ok",
     "timestamp": 1645018301986,
     "user": {
      "displayName": "saurabh verma",
      "photoUrl": "https://lh3.googleusercontent.com/a/default-user=s64",
      "userId": "12815769251055761787"
     },
     "user_tz": -330
    },
    "id": "JfueomHTtCP1",
    "outputId": "3d385df4-6c72-4862-99d1-78e577d3d40b"
   },
   "outputs": [
    {
     "name": "stdout",
     "output_type": "stream",
     "text": [
      "The classified clusters for given datsets are:\n",
      " [1 0 1 1 1 1 1 1 1 1 1 1 0 1 1 1 1 1 1 1 0 1 0 1 1 1 1 1 1 1 1 0 0 1 1 1 1\n",
      " 1 1 1 1 0 1 1 0 1 1 1 1 1 0 1 1 1 1 0 1 1 1 0 1 1 1 1 1 1 1 1 1 1 1 1 1 1\n",
      " 1 0 1 1 1 0 1 0 0 1 1 1 1 1 1 0 1 1 1]\n"
     ]
    }
   ],
   "source": [
    "y_pred = gm.fit_predict(X.values)\n",
    "print('The classified clusters for given datsets are:\\n', y_pred)"
   ]
  },
  {
   "cell_type": "markdown",
   "metadata": {
    "id": "ecSSixZcw4gq"
   },
   "source": [
    "# **7. Apply ICA on MEG data. Explain the experimental results obtained.**\n",
    "\n",
    "\n"
   ]
  },
  {
   "cell_type": "code",
   "execution_count": 91,
   "metadata": {
    "colab": {
     "base_uri": "https://localhost:8080/"
    },
    "executionInfo": {
     "elapsed": 4484,
     "status": "ok",
     "timestamp": 1645016597083,
     "user": {
      "displayName": "saurabh verma",
      "photoUrl": "https://lh3.googleusercontent.com/a/default-user=s64",
      "userId": "12815769251055761787"
     },
     "user_tz": -330
    },
    "id": "3QdA2IegnDUI",
    "outputId": "a1f6cff5-d348-4673-c7ae-4a194fefb2aa"
   },
   "outputs": [
    {
     "name": "stdout",
     "output_type": "stream",
     "text": [
      "Drive already mounted at /content/drive; to attempt to forcibly remount, call drive.mount(\"/content/drive\", force_remount=True).\n"
     ]
    }
   ],
   "source": [
    "from google.colab import drive\n",
    "drive.mount('/content/drive')"
   ]
  },
  {
   "cell_type": "code",
   "execution_count": 92,
   "metadata": {
    "colab": {
     "base_uri": "https://localhost:8080/"
    },
    "executionInfo": {
     "elapsed": 2757,
     "status": "ok",
     "timestamp": 1645016602196,
     "user": {
      "displayName": "saurabh verma",
      "photoUrl": "https://lh3.googleusercontent.com/a/default-user=s64",
      "userId": "12815769251055761787"
     },
     "user_tz": -330
    },
    "id": "MT_m-hitvzE9",
    "outputId": "16903084-3558-4fb0-ecf9-4683a3eec18f"
   },
   "outputs": [
    {
     "name": "stderr",
     "output_type": "stream",
     "text": [
      "/usr/local/lib/python3.7/dist-packages/pandas/util/_decorators.py:311: ParserWarning: Falling back to the 'python' engine because the 'c' engine does not support regex separators (separators > 1 char and different from '\\s+' are interpreted as regex); you can avoid this warning by specifying engine='python'.\n",
      "  return func(*args, **kwargs)\n"
     ]
    }
   ],
   "source": [
    "import pandas as pd\n",
    "meg = pd.read_csv('/content/drive/MyDrive/Colab Notebooks/Sem 2/AML/Assignments/MEG_art.csv', header=None, sep=\"  \")"
   ]
  },
  {
   "cell_type": "code",
   "execution_count": 93,
   "metadata": {
    "colab": {
     "base_uri": "https://localhost:8080/",
     "height": 300
    },
    "executionInfo": {
     "elapsed": 398,
     "status": "ok",
     "timestamp": 1645016604271,
     "user": {
      "displayName": "saurabh verma",
      "photoUrl": "https://lh3.googleusercontent.com/a/default-user=s64",
      "userId": "12815769251055761787"
     },
     "user_tz": -330
    },
    "id": "klrd-IDC0Kb-",
    "outputId": "baee4d62-242f-4bea-ec4e-1c994ae2ab6b"
   },
   "outputs": [
    {
     "data": {
      "text/html": [
       "\n",
       "  <div id=\"df-8fd86e40-0c2f-45cf-9e10-f24582900a37\">\n",
       "    <div class=\"colab-df-container\">\n",
       "      <div>\n",
       "<style scoped>\n",
       "    .dataframe tbody tr th:only-of-type {\n",
       "        vertical-align: middle;\n",
       "    }\n",
       "\n",
       "    .dataframe tbody tr th {\n",
       "        vertical-align: top;\n",
       "    }\n",
       "\n",
       "    .dataframe thead th {\n",
       "        text-align: right;\n",
       "    }\n",
       "</style>\n",
       "<table border=\"1\" class=\"dataframe\">\n",
       "  <thead>\n",
       "    <tr style=\"text-align: right;\">\n",
       "      <th></th>\n",
       "      <th>0</th>\n",
       "      <th>1</th>\n",
       "      <th>2</th>\n",
       "      <th>3</th>\n",
       "      <th>4</th>\n",
       "      <th>5</th>\n",
       "      <th>6</th>\n",
       "      <th>7</th>\n",
       "      <th>8</th>\n",
       "      <th>9</th>\n",
       "      <th>10</th>\n",
       "      <th>11</th>\n",
       "      <th>12</th>\n",
       "      <th>13</th>\n",
       "      <th>14</th>\n",
       "      <th>15</th>\n",
       "      <th>16</th>\n",
       "      <th>17</th>\n",
       "      <th>18</th>\n",
       "      <th>19</th>\n",
       "      <th>20</th>\n",
       "      <th>21</th>\n",
       "      <th>22</th>\n",
       "      <th>23</th>\n",
       "      <th>24</th>\n",
       "      <th>25</th>\n",
       "      <th>26</th>\n",
       "      <th>27</th>\n",
       "      <th>28</th>\n",
       "      <th>29</th>\n",
       "      <th>30</th>\n",
       "      <th>31</th>\n",
       "      <th>32</th>\n",
       "      <th>33</th>\n",
       "      <th>34</th>\n",
       "      <th>35</th>\n",
       "      <th>36</th>\n",
       "      <th>37</th>\n",
       "      <th>38</th>\n",
       "      <th>39</th>\n",
       "      <th>...</th>\n",
       "      <th>17690</th>\n",
       "      <th>17691</th>\n",
       "      <th>17692</th>\n",
       "      <th>17693</th>\n",
       "      <th>17694</th>\n",
       "      <th>17695</th>\n",
       "      <th>17696</th>\n",
       "      <th>17697</th>\n",
       "      <th>17698</th>\n",
       "      <th>17699</th>\n",
       "      <th>17700</th>\n",
       "      <th>17701</th>\n",
       "      <th>17702</th>\n",
       "      <th>17703</th>\n",
       "      <th>17704</th>\n",
       "      <th>17705</th>\n",
       "      <th>17706</th>\n",
       "      <th>17707</th>\n",
       "      <th>17708</th>\n",
       "      <th>17709</th>\n",
       "      <th>17710</th>\n",
       "      <th>17711</th>\n",
       "      <th>17712</th>\n",
       "      <th>17713</th>\n",
       "      <th>17714</th>\n",
       "      <th>17715</th>\n",
       "      <th>17716</th>\n",
       "      <th>17717</th>\n",
       "      <th>17718</th>\n",
       "      <th>17719</th>\n",
       "      <th>17720</th>\n",
       "      <th>17721</th>\n",
       "      <th>17722</th>\n",
       "      <th>17723</th>\n",
       "      <th>17724</th>\n",
       "      <th>17725</th>\n",
       "      <th>17726</th>\n",
       "      <th>17727</th>\n",
       "      <th>17728</th>\n",
       "      <th>17729</th>\n",
       "    </tr>\n",
       "  </thead>\n",
       "  <tbody>\n",
       "    <tr>\n",
       "      <th>0</th>\n",
       "      <td>-48.1010</td>\n",
       "      <td>8.9292</td>\n",
       "      <td>-15.4601</td>\n",
       "      <td>-101.8247</td>\n",
       "      <td>-134.0560</td>\n",
       "      <td>-65.4968</td>\n",
       "      <td>32.9820</td>\n",
       "      <td>63.1649</td>\n",
       "      <td>-4.5310</td>\n",
       "      <td>-93.0902</td>\n",
       "      <td>-97.2453</td>\n",
       "      <td>-19.5713</td>\n",
       "      <td>50.0559</td>\n",
       "      <td>76.1131</td>\n",
       "      <td>71.4751</td>\n",
       "      <td>16.0397</td>\n",
       "      <td>-72.4903</td>\n",
       "      <td>-104.0193</td>\n",
       "      <td>-66.7258</td>\n",
       "      <td>-48.0279</td>\n",
       "      <td>-67.3257</td>\n",
       "      <td>-81.3418</td>\n",
       "      <td>-97.1575</td>\n",
       "      <td>-103.7998</td>\n",
       "      <td>-48.4961</td>\n",
       "      <td>15.6885</td>\n",
       "      <td>-5.4820</td>\n",
       "      <td>-47.8084</td>\n",
       "      <td>-25.2333</td>\n",
       "      <td>-19.1909</td>\n",
       "      <td>-76.4552</td>\n",
       "      <td>-77.3769</td>\n",
       "      <td>13.4647</td>\n",
       "      <td>80.0487</td>\n",
       "      <td>85.2718</td>\n",
       "      <td>61.0728</td>\n",
       "      <td>-18.9714</td>\n",
       "      <td>-111.3493</td>\n",
       "      <td>-91.9198</td>\n",
       "      <td>-5.5551</td>\n",
       "      <td>...</td>\n",
       "      <td>30.0985</td>\n",
       "      <td>12.2137</td>\n",
       "      <td>-7.1508</td>\n",
       "      <td>12.3413</td>\n",
       "      <td>24.0008</td>\n",
       "      <td>7.2387</td>\n",
       "      <td>15.8111</td>\n",
       "      <td>71.3533</td>\n",
       "      <td>141.5146</td>\n",
       "      <td>201.8533</td>\n",
       "      <td>225.3764</td>\n",
       "      <td>180.9324</td>\n",
       "      <td>91.9169</td>\n",
       "      <td>12.4178</td>\n",
       "      <td>-49.0179</td>\n",
       "      <td>-101.7792</td>\n",
       "      <td>-122.8021</td>\n",
       "      <td>-99.6871</td>\n",
       "      <td>-56.4678</td>\n",
       "      <td>-12.9423</td>\n",
       "      <td>14.5099</td>\n",
       "      <td>3.8454</td>\n",
       "      <td>-23.4027</td>\n",
       "      <td>-19.6267</td>\n",
       "      <td>-0.6959</td>\n",
       "      <td>-5.4414</td>\n",
       "      <td>3.0035</td>\n",
       "      <td>53.8513</td>\n",
       "      <td>74.2108</td>\n",
       "      <td>25.5571</td>\n",
       "      <td>-7.9927</td>\n",
       "      <td>7.8765</td>\n",
       "      <td>-10.8757</td>\n",
       "      <td>-79.0469</td>\n",
       "      <td>-106.5246</td>\n",
       "      <td>-78.9449</td>\n",
       "      <td>-59.9121</td>\n",
       "      <td>-49.5792</td>\n",
       "      <td>-21.2851</td>\n",
       "      <td>-5.1863</td>\n",
       "    </tr>\n",
       "    <tr>\n",
       "      <th>1</th>\n",
       "      <td>-49.9636</td>\n",
       "      <td>-142.8894</td>\n",
       "      <td>-226.2582</td>\n",
       "      <td>-211.3216</td>\n",
       "      <td>-137.6300</td>\n",
       "      <td>-99.0562</td>\n",
       "      <td>-95.9607</td>\n",
       "      <td>-103.6243</td>\n",
       "      <td>-137.4798</td>\n",
       "      <td>-162.0336</td>\n",
       "      <td>-137.9156</td>\n",
       "      <td>-135.5263</td>\n",
       "      <td>-196.0543</td>\n",
       "      <td>-229.3087</td>\n",
       "      <td>-192.2075</td>\n",
       "      <td>-138.2462</td>\n",
       "      <td>-79.0405</td>\n",
       "      <td>-35.7181</td>\n",
       "      <td>-78.2440</td>\n",
       "      <td>-148.8551</td>\n",
       "      <td>-125.0827</td>\n",
       "      <td>-79.0405</td>\n",
       "      <td>-132.5209</td>\n",
       "      <td>-200.4872</td>\n",
       "      <td>-189.6228</td>\n",
       "      <td>-175.6780</td>\n",
       "      <td>-193.2293</td>\n",
       "      <td>-180.4565</td>\n",
       "      <td>-154.9560</td>\n",
       "      <td>-151.1542</td>\n",
       "      <td>-125.8340</td>\n",
       "      <td>-96.6219</td>\n",
       "      <td>-116.6226</td>\n",
       "      <td>-109.9807</td>\n",
       "      <td>-29.6774</td>\n",
       "      <td>-10.0974</td>\n",
       "      <td>-101.3252</td>\n",
       "      <td>-148.6297</td>\n",
       "      <td>-108.3578</td>\n",
       "      <td>-119.2673</td>\n",
       "      <td>...</td>\n",
       "      <td>-155.8232</td>\n",
       "      <td>-180.9554</td>\n",
       "      <td>-200.1026</td>\n",
       "      <td>-195.2219</td>\n",
       "      <td>-162.2056</td>\n",
       "      <td>-152.5768</td>\n",
       "      <td>-161.2781</td>\n",
       "      <td>-116.7116</td>\n",
       "      <td>-26.8277</td>\n",
       "      <td>24.7838</td>\n",
       "      <td>13.3661</td>\n",
       "      <td>-30.4937</td>\n",
       "      <td>-88.0680</td>\n",
       "      <td>-134.0700</td>\n",
       "      <td>-143.2571</td>\n",
       "      <td>-127.7096</td>\n",
       "      <td>-98.1827</td>\n",
       "      <td>-58.3202</td>\n",
       "      <td>-56.6638</td>\n",
       "      <td>-115.3423</td>\n",
       "      <td>-150.0591</td>\n",
       "      <td>-108.8937</td>\n",
       "      <td>-74.2652</td>\n",
       "      <td>-95.0908</td>\n",
       "      <td>-93.1474</td>\n",
       "      <td>-40.5421</td>\n",
       "      <td>-26.0326</td>\n",
       "      <td>-74.9719</td>\n",
       "      <td>-98.6023</td>\n",
       "      <td>-62.0524</td>\n",
       "      <td>-34.8002</td>\n",
       "      <td>-54.7425</td>\n",
       "      <td>-79.1679</td>\n",
       "      <td>-83.1431</td>\n",
       "      <td>-92.9045</td>\n",
       "      <td>-115.0773</td>\n",
       "      <td>-132.7228</td>\n",
       "      <td>-155.8232</td>\n",
       "      <td>-182.6780</td>\n",
       "      <td>-164.2153</td>\n",
       "    </tr>\n",
       "    <tr>\n",
       "      <th>2</th>\n",
       "      <td>33.2980</td>\n",
       "      <td>-4.8167</td>\n",
       "      <td>-56.2879</td>\n",
       "      <td>-4.5970</td>\n",
       "      <td>89.8988</td>\n",
       "      <td>85.8677</td>\n",
       "      <td>32.8257</td>\n",
       "      <td>49.0272</td>\n",
       "      <td>69.6223</td>\n",
       "      <td>8.4081</td>\n",
       "      <td>-45.5016</td>\n",
       "      <td>-23.4566</td>\n",
       "      <td>3.3006</td>\n",
       "      <td>17.0087</td>\n",
       "      <td>61.7357</td>\n",
       "      <td>73.3898</td>\n",
       "      <td>1.8287</td>\n",
       "      <td>-33.3422</td>\n",
       "      <td>40.0312</td>\n",
       "      <td>101.0037</td>\n",
       "      <td>71.7971</td>\n",
       "      <td>24.8073</td>\n",
       "      <td>-8.5952</td>\n",
       "      <td>-62.2193</td>\n",
       "      <td>-102.5747</td>\n",
       "      <td>-89.6136</td>\n",
       "      <td>-58.9131</td>\n",
       "      <td>-24.7637</td>\n",
       "      <td>29.4865</td>\n",
       "      <td>51.0373</td>\n",
       "      <td>0.6973</td>\n",
       "      <td>-32.6502</td>\n",
       "      <td>29.7941</td>\n",
       "      <td>122.6313</td>\n",
       "      <td>152.4750</td>\n",
       "      <td>117.4798</td>\n",
       "      <td>65.3714</td>\n",
       "      <td>33.0783</td>\n",
       "      <td>22.0064</td>\n",
       "      <td>1.8507</td>\n",
       "      <td>...</td>\n",
       "      <td>8.5803</td>\n",
       "      <td>11.6654</td>\n",
       "      <td>-71.0705</td>\n",
       "      <td>-86.2310</td>\n",
       "      <td>-53.0902</td>\n",
       "      <td>-89.1835</td>\n",
       "      <td>-124.6797</td>\n",
       "      <td>-84.2737</td>\n",
       "      <td>-64.9167</td>\n",
       "      <td>-101.1759</td>\n",
       "      <td>-105.3061</td>\n",
       "      <td>-85.5841</td>\n",
       "      <td>-106.0359</td>\n",
       "      <td>-136.2076</td>\n",
       "      <td>-133.6864</td>\n",
       "      <td>-98.0907</td>\n",
       "      <td>-27.8282</td>\n",
       "      <td>16.2932</td>\n",
       "      <td>-40.7495</td>\n",
       "      <td>-112.8697</td>\n",
       "      <td>-83.9586</td>\n",
       "      <td>-34.7616</td>\n",
       "      <td>-68.1180</td>\n",
       "      <td>-116.4359</td>\n",
       "      <td>-117.3648</td>\n",
       "      <td>-106.4340</td>\n",
       "      <td>-84.9206</td>\n",
       "      <td>-55.8602</td>\n",
       "      <td>-85.0865</td>\n",
       "      <td>-151.3350</td>\n",
       "      <td>-152.9107</td>\n",
       "      <td>-110.5973</td>\n",
       "      <td>-112.1067</td>\n",
       "      <td>-137.3355</td>\n",
       "      <td>-148.4654</td>\n",
       "      <td>-179.5494</td>\n",
       "      <td>-220.3700</td>\n",
       "      <td>-218.5123</td>\n",
       "      <td>-207.7307</td>\n",
       "      <td>-245.4661</td>\n",
       "    </tr>\n",
       "    <tr>\n",
       "      <th>3</th>\n",
       "      <td>-71.7910</td>\n",
       "      <td>-66.8023</td>\n",
       "      <td>-74.1104</td>\n",
       "      <td>-59.1573</td>\n",
       "      <td>28.9549</td>\n",
       "      <td>83.8565</td>\n",
       "      <td>-22.1502</td>\n",
       "      <td>-199.5665</td>\n",
       "      <td>-256.4766</td>\n",
       "      <td>-176.8518</td>\n",
       "      <td>-102.2933</td>\n",
       "      <td>-101.1919</td>\n",
       "      <td>-121.7039</td>\n",
       "      <td>-132.3940</td>\n",
       "      <td>-145.6238</td>\n",
       "      <td>-127.3405</td>\n",
       "      <td>-47.8193</td>\n",
       "      <td>19.2885</td>\n",
       "      <td>8.8057</td>\n",
       "      <td>-18.5091</td>\n",
       "      <td>-16.9153</td>\n",
       "      <td>-53.7798</td>\n",
       "      <td>-145.2998</td>\n",
       "      <td>-199.8127</td>\n",
       "      <td>-195.0314</td>\n",
       "      <td>-198.8280</td>\n",
       "      <td>-216.7743</td>\n",
       "      <td>-202.7671</td>\n",
       "      <td>-157.8169</td>\n",
       "      <td>-109.0443</td>\n",
       "      <td>-83.1678</td>\n",
       "      <td>-102.4229</td>\n",
       "      <td>-123.4662</td>\n",
       "      <td>-82.5588</td>\n",
       "      <td>-29.2898</td>\n",
       "      <td>-39.2932</td>\n",
       "      <td>-58.4575</td>\n",
       "      <td>-30.6893</td>\n",
       "      <td>-16.9023</td>\n",
       "      <td>-38.2306</td>\n",
       "      <td>...</td>\n",
       "      <td>-4.3063</td>\n",
       "      <td>-63.1991</td>\n",
       "      <td>-47.4982</td>\n",
       "      <td>-31.2304</td>\n",
       "      <td>-61.6935</td>\n",
       "      <td>-72.2715</td>\n",
       "      <td>-42.8642</td>\n",
       "      <td>-18.6189</td>\n",
       "      <td>25.1010</td>\n",
       "      <td>113.1859</td>\n",
       "      <td>159.1935</td>\n",
       "      <td>100.1638</td>\n",
       "      <td>10.3778</td>\n",
       "      <td>-25.2668</td>\n",
       "      <td>-16.5658</td>\n",
       "      <td>1.7159</td>\n",
       "      <td>34.4081</td>\n",
       "      <td>78.5972</td>\n",
       "      <td>81.7256</td>\n",
       "      <td>18.5899</td>\n",
       "      <td>-34.1828</td>\n",
       "      <td>-11.0911</td>\n",
       "      <td>23.0088</td>\n",
       "      <td>6.0762</td>\n",
       "      <td>-3.5242</td>\n",
       "      <td>22.7938</td>\n",
       "      <td>25.1205</td>\n",
       "      <td>21.0731</td>\n",
       "      <td>73.0833</td>\n",
       "      <td>124.7611</td>\n",
       "      <td>119.5210</td>\n",
       "      <td>123.6075</td>\n",
       "      <td>151.4310</td>\n",
       "      <td>121.6914</td>\n",
       "      <td>48.2905</td>\n",
       "      <td>3.0651</td>\n",
       "      <td>-35.7470</td>\n",
       "      <td>-82.2825</td>\n",
       "      <td>-77.4921</td>\n",
       "      <td>-30.6242</td>\n",
       "    </tr>\n",
       "    <tr>\n",
       "      <th>4</th>\n",
       "      <td>159.5690</td>\n",
       "      <td>61.2882</td>\n",
       "      <td>4.1433</td>\n",
       "      <td>52.4750</td>\n",
       "      <td>139.9503</td>\n",
       "      <td>193.6496</td>\n",
       "      <td>202.4394</td>\n",
       "      <td>161.1277</td>\n",
       "      <td>80.2623</td>\n",
       "      <td>29.0592</td>\n",
       "      <td>55.0534</td>\n",
       "      <td>97.0096</td>\n",
       "      <td>73.6758</td>\n",
       "      <td>13.2846</td>\n",
       "      <td>2.0103</td>\n",
       "      <td>50.8577</td>\n",
       "      <td>102.7640</td>\n",
       "      <td>123.5429</td>\n",
       "      <td>114.7297</td>\n",
       "      <td>95.8494</td>\n",
       "      <td>111.0263</td>\n",
       "      <td>174.5349</td>\n",
       "      <td>210.3970</td>\n",
       "      <td>142.7865</td>\n",
       "      <td>23.7620</td>\n",
       "      <td>-21.0422</td>\n",
       "      <td>53.2251</td>\n",
       "      <td>172.8473</td>\n",
       "      <td>239.2976</td>\n",
       "      <td>225.6442</td>\n",
       "      <td>177.5703</td>\n",
       "      <td>140.9934</td>\n",
       "      <td>134.2429</td>\n",
       "      <td>175.3319</td>\n",
       "      <td>250.1031</td>\n",
       "      <td>273.7650</td>\n",
       "      <td>188.6688</td>\n",
       "      <td>64.3001</td>\n",
       "      <td>-0.5211</td>\n",
       "      <td>-11.3149</td>\n",
       "      <td>...</td>\n",
       "      <td>-24.1174</td>\n",
       "      <td>-68.4195</td>\n",
       "      <td>-86.9501</td>\n",
       "      <td>-72.3904</td>\n",
       "      <td>-105.2731</td>\n",
       "      <td>-174.2307</td>\n",
       "      <td>-166.6264</td>\n",
       "      <td>-77.6848</td>\n",
       "      <td>-7.9486</td>\n",
       "      <td>9.3622</td>\n",
       "      <td>-0.1107</td>\n",
       "      <td>-26.1937</td>\n",
       "      <td>-41.7656</td>\n",
       "      <td>-20.6657</td>\n",
       "      <td>17.2520</td>\n",
       "      <td>68.7172</td>\n",
       "      <td>142.2685</td>\n",
       "      <td>164.9516</td>\n",
       "      <td>78.6313</td>\n",
       "      <td>-16.8765</td>\n",
       "      <td>-14.6186</td>\n",
       "      <td>25.0120</td>\n",
       "      <td>14.5528</td>\n",
       "      <td>-15.6567</td>\n",
       "      <td>-16.6170</td>\n",
       "      <td>6.4814</td>\n",
       "      <td>48.3958</td>\n",
       "      <td>92.2048</td>\n",
       "      <td>86.3653</td>\n",
       "      <td>27.2439</td>\n",
       "      <td>-12.4385</td>\n",
       "      <td>10.9972</td>\n",
       "      <td>52.5224</td>\n",
       "      <td>47.1760</td>\n",
       "      <td>-6.4433</td>\n",
       "      <td>-49.8111</td>\n",
       "      <td>-48.8249</td>\n",
       "      <td>-39.9748</td>\n",
       "      <td>-57.5451</td>\n",
       "      <td>-66.6288</td>\n",
       "    </tr>\n",
       "  </tbody>\n",
       "</table>\n",
       "<p>5 rows × 17730 columns</p>\n",
       "</div>\n",
       "      <button class=\"colab-df-convert\" onclick=\"convertToInteractive('df-8fd86e40-0c2f-45cf-9e10-f24582900a37')\"\n",
       "              title=\"Convert this dataframe to an interactive table.\"\n",
       "              style=\"display:none;\">\n",
       "        \n",
       "  <svg xmlns=\"http://www.w3.org/2000/svg\" height=\"24px\"viewBox=\"0 0 24 24\"\n",
       "       width=\"24px\">\n",
       "    <path d=\"M0 0h24v24H0V0z\" fill=\"none\"/>\n",
       "    <path d=\"M18.56 5.44l.94 2.06.94-2.06 2.06-.94-2.06-.94-.94-2.06-.94 2.06-2.06.94zm-11 1L8.5 8.5l.94-2.06 2.06-.94-2.06-.94L8.5 2.5l-.94 2.06-2.06.94zm10 10l.94 2.06.94-2.06 2.06-.94-2.06-.94-.94-2.06-.94 2.06-2.06.94z\"/><path d=\"M17.41 7.96l-1.37-1.37c-.4-.4-.92-.59-1.43-.59-.52 0-1.04.2-1.43.59L10.3 9.45l-7.72 7.72c-.78.78-.78 2.05 0 2.83L4 21.41c.39.39.9.59 1.41.59.51 0 1.02-.2 1.41-.59l7.78-7.78 2.81-2.81c.8-.78.8-2.07 0-2.86zM5.41 20L4 18.59l7.72-7.72 1.47 1.35L5.41 20z\"/>\n",
       "  </svg>\n",
       "      </button>\n",
       "      \n",
       "  <style>\n",
       "    .colab-df-container {\n",
       "      display:flex;\n",
       "      flex-wrap:wrap;\n",
       "      gap: 12px;\n",
       "    }\n",
       "\n",
       "    .colab-df-convert {\n",
       "      background-color: #E8F0FE;\n",
       "      border: none;\n",
       "      border-radius: 50%;\n",
       "      cursor: pointer;\n",
       "      display: none;\n",
       "      fill: #1967D2;\n",
       "      height: 32px;\n",
       "      padding: 0 0 0 0;\n",
       "      width: 32px;\n",
       "    }\n",
       "\n",
       "    .colab-df-convert:hover {\n",
       "      background-color: #E2EBFA;\n",
       "      box-shadow: 0px 1px 2px rgba(60, 64, 67, 0.3), 0px 1px 3px 1px rgba(60, 64, 67, 0.15);\n",
       "      fill: #174EA6;\n",
       "    }\n",
       "\n",
       "    [theme=dark] .colab-df-convert {\n",
       "      background-color: #3B4455;\n",
       "      fill: #D2E3FC;\n",
       "    }\n",
       "\n",
       "    [theme=dark] .colab-df-convert:hover {\n",
       "      background-color: #434B5C;\n",
       "      box-shadow: 0px 1px 3px 1px rgba(0, 0, 0, 0.15);\n",
       "      filter: drop-shadow(0px 1px 2px rgba(0, 0, 0, 0.3));\n",
       "      fill: #FFFFFF;\n",
       "    }\n",
       "  </style>\n",
       "\n",
       "      <script>\n",
       "        const buttonEl =\n",
       "          document.querySelector('#df-8fd86e40-0c2f-45cf-9e10-f24582900a37 button.colab-df-convert');\n",
       "        buttonEl.style.display =\n",
       "          google.colab.kernel.accessAllowed ? 'block' : 'none';\n",
       "\n",
       "        async function convertToInteractive(key) {\n",
       "          const element = document.querySelector('#df-8fd86e40-0c2f-45cf-9e10-f24582900a37');\n",
       "          const dataTable =\n",
       "            await google.colab.kernel.invokeFunction('convertToInteractive',\n",
       "                                                     [key], {});\n",
       "          if (!dataTable) return;\n",
       "\n",
       "          const docLinkHtml = 'Like what you see? Visit the ' +\n",
       "            '<a target=\"_blank\" href=https://colab.research.google.com/notebooks/data_table.ipynb>data table notebook</a>'\n",
       "            + ' to learn more about interactive tables.';\n",
       "          element.innerHTML = '';\n",
       "          dataTable['output_type'] = 'display_data';\n",
       "          await google.colab.output.renderOutput(dataTable, element);\n",
       "          const docLink = document.createElement('div');\n",
       "          docLink.innerHTML = docLinkHtml;\n",
       "          element.appendChild(docLink);\n",
       "        }\n",
       "      </script>\n",
       "    </div>\n",
       "  </div>\n",
       "  "
      ],
      "text/plain": [
       "      0         1         2      ...     17727     17728     17729\n",
       "0  -48.1010    8.9292  -15.4601  ...  -49.5792  -21.2851   -5.1863\n",
       "1  -49.9636 -142.8894 -226.2582  ... -155.8232 -182.6780 -164.2153\n",
       "2   33.2980   -4.8167  -56.2879  ... -218.5123 -207.7307 -245.4661\n",
       "3  -71.7910  -66.8023  -74.1104  ...  -82.2825  -77.4921  -30.6242\n",
       "4  159.5690   61.2882    4.1433  ...  -39.9748  -57.5451  -66.6288\n",
       "\n",
       "[5 rows x 17730 columns]"
      ]
     },
     "execution_count": 93,
     "metadata": {},
     "output_type": "execute_result"
    }
   ],
   "source": [
    "meg.head()"
   ]
  },
  {
   "cell_type": "code",
   "execution_count": 94,
   "metadata": {
    "colab": {
     "base_uri": "https://localhost:8080/"
    },
    "executionInfo": {
     "elapsed": 8,
     "status": "ok",
     "timestamp": 1645016605723,
     "user": {
      "displayName": "saurabh verma",
      "photoUrl": "https://lh3.googleusercontent.com/a/default-user=s64",
      "userId": "12815769251055761787"
     },
     "user_tz": -330
    },
    "id": "pZ5Cuq0And7d",
    "outputId": "451b4737-bf3c-44b7-ca4b-2ccaa5593170"
   },
   "outputs": [
    {
     "data": {
      "text/plain": [
       "(122, 17730)"
      ]
     },
     "execution_count": 94,
     "metadata": {},
     "output_type": "execute_result"
    }
   ],
   "source": [
    "meg.shape"
   ]
  },
  {
   "cell_type": "code",
   "execution_count": 95,
   "metadata": {
    "executionInfo": {
     "elapsed": 5,
     "status": "ok",
     "timestamp": 1645016607183,
     "user": {
      "displayName": "saurabh verma",
      "photoUrl": "https://lh3.googleusercontent.com/a/default-user=s64",
      "userId": "12815769251055761787"
     },
     "user_tz": -330
    },
    "id": "NaJ-2pxBsj0d"
   },
   "outputs": [],
   "source": [
    "meg_data = meg.T\n",
    "scale = StandardScaler()\n",
    "meg_data = pd.DataFrame(scale.fit_transform(meg_data))"
   ]
  },
  {
   "cell_type": "code",
   "execution_count": 98,
   "metadata": {
    "colab": {
     "base_uri": "https://localhost:8080/"
    },
    "executionInfo": {
     "elapsed": 138454,
     "status": "ok",
     "timestamp": 1645016813212,
     "user": {
      "displayName": "saurabh verma",
      "photoUrl": "https://lh3.googleusercontent.com/a/default-user=s64",
      "userId": "12815769251055761787"
     },
     "user_tz": -330
    },
    "id": "72eL2iMc1CgW",
    "outputId": "038fab0f-8338-4368-cf50-91080c42a815"
   },
   "outputs": [
    {
     "name": "stdout",
     "output_type": "stream",
     "text": [
      "Total no. of iterations completed: 5\n"
     ]
    },
    {
     "data": {
      "text/plain": [
       "array([[-0.84654551, -1.1960477 , -1.17955566, ..., -0.7934657 ,\n",
       "        -0.6572942 , -1.15823327],\n",
       "       [-1.10189852, -0.39222131, -0.4727345 , ..., -1.3499575 ,\n",
       "        -0.49625538, -1.4268522 ],\n",
       "       [-0.57085434, -0.64611038, -0.6934463 , ..., -1.13082171,\n",
       "        -1.00344941, -0.89240676],\n",
       "       ...,\n",
       "       [-0.83809346, -0.55044769, -1.23472486, ..., -0.57268065,\n",
       "        -0.93750242, -0.61685897],\n",
       "       [-1.21999926, -0.72814961, -0.75885874, ..., -0.71641814,\n",
       "        -0.94441988, -0.80973056],\n",
       "       [-1.09077439, -0.50835388, -0.94342562, ..., -0.65629853,\n",
       "        -0.35842335, -1.3027661 ]])"
      ]
     },
     "execution_count": 98,
     "metadata": {},
     "output_type": "execute_result"
    }
   ],
   "source": [
    "weights = Independent_component_analysis(meg_data.values, 0.05, \n",
    "                                         max_iter = 5, \n",
    "                                         tolerance=0.01)\n",
    "weights"
   ]
  },
  {
   "cell_type": "code",
   "execution_count": 99,
   "metadata": {
    "executionInfo": {
     "elapsed": 422,
     "status": "ok",
     "timestamp": 1645016833713,
     "user": {
      "displayName": "saurabh verma",
      "photoUrl": "https://lh3.googleusercontent.com/a/default-user=s64",
      "userId": "12815769251055761787"
     },
     "user_tz": -330
    },
    "id": "0EhNlDAx1FFZ"
   },
   "outputs": [],
   "source": [
    "# Getting the source back: \n",
    "sources = meg_data.values@weights\n",
    "sources = pd.DataFrame(sources)"
   ]
  },
  {
   "cell_type": "code",
   "execution_count": 109,
   "metadata": {
    "colab": {
     "base_uri": "https://localhost:8080/",
     "height": 265
    },
    "executionInfo": {
     "elapsed": 1526,
     "status": "ok",
     "timestamp": 1645016965513,
     "user": {
      "displayName": "saurabh verma",
      "photoUrl": "https://lh3.googleusercontent.com/a/default-user=s64",
      "userId": "12815769251055761787"
     },
     "user_tz": -330
    },
    "id": "CxDmGZ4h0qvX",
    "outputId": "ebfad7ac-f116-4029-9e8a-79d5b285a66b"
   },
   "outputs": [
    {
     "data": {
      "image/png": "[encoded data removed]",
      "text/plain": [
       "<Figure size 432x288 with 1 Axes>"
      ]
     },
     "metadata": {
      "needs_background": "light"
     },
     "output_type": "display_data"
    }
   ],
   "source": [
    "n, m = meg.shape\n",
    "for i in range(n):\n",
    "  plt.plot(sources.iloc[:120,i])\n",
    "plt.show()"
   ]
  },
  {
   "cell_type": "code",
   "execution_count": 110,
   "metadata": {
    "colab": {
     "base_uri": "https://localhost:8080/"
    },
    "executionInfo": {
     "elapsed": 717,
     "status": "ok",
     "timestamp": 1645017052009,
     "user": {
      "displayName": "saurabh verma",
      "photoUrl": "https://lh3.googleusercontent.com/a/default-user=s64",
      "userId": "12815769251055761787"
     },
     "user_tz": -330
    },
    "id": "mUfJI4nGp8OO",
    "outputId": "e323a50c-3ccb-4fc6-a3ba-b90159435b91"
   },
   "outputs": [
    {
     "name": "stdout",
     "output_type": "stream",
     "text": [
      "Source signals are:\n",
      "              0          1          2    ...        119        120        121\n",
      "0      17.763155  16.908514  18.585309  ...  17.034996  15.154053  17.385194\n",
      "1       0.990901   6.300441   2.946824  ...  -4.495855   0.316022   5.596647\n",
      "2       0.162641   1.909477   0.368057  ...   3.022266   2.520539   1.628903\n",
      "3      14.033297  14.146359  12.951212  ...  12.701520  12.730833   9.208556\n",
      "4      -3.757106  -1.991945  -0.513732  ...  -9.364308  -5.447143  -7.689480\n",
      "...          ...        ...        ...  ...        ...        ...        ...\n",
      "17725   4.134934  -0.401092   0.202698  ...   1.785053  -1.700030   2.264204\n",
      "17726  14.105781  11.550173  10.188105  ...   5.405958   8.308935  11.317613\n",
      "17727  -3.084120  -2.733921   0.897077  ...  -5.838811  -1.958157   2.535582\n",
      "17728   0.754319  -3.560336   0.666416  ...  -2.936075   3.033552  -4.891209\n",
      "17729  27.751308  30.673676  29.604662  ...  28.051246  28.604758  30.648371\n",
      "\n",
      "[17730 rows x 122 columns]\n"
     ]
    }
   ],
   "source": [
    "print('Source signals are:\\n', sources)"
   ]
  }
 ],
 "metadata": {
  "colab": {
   "authorship_tag": "ABX9TyP09cB2Gpn/EBfNfb9kRgmf",
   "collapsed_sections": [
    "BcvOdbtJrjDd"
   ],
   "mount_file_id": "1rqg7kRI-qbAPtXDY-Tnvx1ZJrYh8pkMD",
   "name": "AML Assignment 1.ipynb",
   "provenance": []
  },
  "kernelspec": {
   "display_name": "Python 3 (ipykernel)",
   "language": "python",
   "name": "python3"
  },
  "language_info": {
   "codemirror_mode": {
    "name": "ipython",
    "version": 3
   },
   "file_extension": ".py",
   "mimetype": "text/x-python",
   "name": "python",
   "nbconvert_exporter": "python",
   "pygments_lexer": "ipython3",
   "version": "3.9.12"
  }
 },
 "nbformat": 4,
 "nbformat_minor": 1
}
