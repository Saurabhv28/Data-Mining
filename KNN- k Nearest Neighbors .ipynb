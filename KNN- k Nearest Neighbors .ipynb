{
 "cells": [
  {
   "cell_type": "code",
   "execution_count": 160,
   "id": "19015120",
   "metadata": {},
   "outputs": [],
   "source": [
    "import numpy as np\n",
    "import pandas as pd\n",
    "import matplotlib.pyplot as plt\n",
    "import matplotlib.colors as cma\n",
    "import seaborn as sns\n",
    "import scipy as sp\n",
    "import os\n",
    "from sklearn.model_selection import train_test_split\n",
    "from sklearn.model_selection import StratifiedKFold as kf\n",
    "from sklearn.metrics import confusion_matrix\n",
    "from sklearn.metrics import roc_curve\n",
    "from scipy.spatial.distance import cdist\n",
    "np.random.seed(0)"
   ]
  },
  {
   "cell_type": "code",
   "execution_count": 2,
   "id": "59431085",
   "metadata": {},
   "outputs": [],
   "source": [
    "# suppress warnings\n",
    "import warnings\n",
    "warnings.filterwarnings('ignore')"
   ]
  },
  {
   "cell_type": "code",
   "execution_count": 122,
   "id": "4713d8dc",
   "metadata": {},
   "outputs": [
    {
     "data": {
      "text/html": [
       "<div>\n",
       "<style scoped>\n",
       "    .dataframe tbody tr th:only-of-type {\n",
       "        vertical-align: middle;\n",
       "    }\n",
       "\n",
       "    .dataframe tbody tr th {\n",
       "        vertical-align: top;\n",
       "    }\n",
       "\n",
       "    .dataframe thead th {\n",
       "        text-align: right;\n",
       "    }\n",
       "</style>\n",
       "<table border=\"1\" class=\"dataframe\">\n",
       "  <thead>\n",
       "    <tr style=\"text-align: right;\">\n",
       "      <th></th>\n",
       "      <th>0</th>\n",
       "      <th>1</th>\n",
       "      <th>2</th>\n",
       "      <th>3</th>\n",
       "    </tr>\n",
       "  </thead>\n",
       "  <tbody>\n",
       "    <tr>\n",
       "      <th>0</th>\n",
       "      <td>-5.21460</td>\n",
       "      <td>7.0880</td>\n",
       "      <td>6.72920</td>\n",
       "      <td>1</td>\n",
       "    </tr>\n",
       "    <tr>\n",
       "      <th>1</th>\n",
       "      <td>-0.42176</td>\n",
       "      <td>8.4266</td>\n",
       "      <td>7.89610</td>\n",
       "      <td>1</td>\n",
       "    </tr>\n",
       "    <tr>\n",
       "      <th>2</th>\n",
       "      <td>-6.13460</td>\n",
       "      <td>5.6864</td>\n",
       "      <td>6.08860</td>\n",
       "      <td>1</td>\n",
       "    </tr>\n",
       "    <tr>\n",
       "      <th>3</th>\n",
       "      <td>6.21260</td>\n",
       "      <td>8.3078</td>\n",
       "      <td>2.36230</td>\n",
       "      <td>1</td>\n",
       "    </tr>\n",
       "    <tr>\n",
       "      <th>4</th>\n",
       "      <td>6.34460</td>\n",
       "      <td>7.6650</td>\n",
       "      <td>0.53239</td>\n",
       "      <td>1</td>\n",
       "    </tr>\n",
       "  </tbody>\n",
       "</table>\n",
       "</div>"
      ],
      "text/plain": [
       "         0       1        2  3\n",
       "0 -5.21460  7.0880  6.72920  1\n",
       "1 -0.42176  8.4266  7.89610  1\n",
       "2 -6.13460  5.6864  6.08860  1\n",
       "3  6.21260  8.3078  2.36230  1\n",
       "4  6.34460  7.6650  0.53239  1"
      ]
     },
     "execution_count": 122,
     "metadata": {},
     "output_type": "execute_result"
    }
   ],
   "source": [
    "dataset= pd.read_csv('data7.csv', header= None)\n",
    "dataset.head()"
   ]
  },
  {
   "cell_type": "code",
   "execution_count": 108,
   "id": "aedf10be",
   "metadata": {},
   "outputs": [
    {
     "data": {
      "text/plain": [
       "3\n",
       "0    200\n",
       "1    200\n",
       "dtype: int64"
      ]
     },
     "execution_count": 108,
     "metadata": {},
     "output_type": "execute_result"
    }
   ],
   "source": [
    "dataset.groupby([3]).size()"
   ]
  },
  {
   "cell_type": "code",
   "execution_count": 109,
   "id": "ec61ae7f",
   "metadata": {},
   "outputs": [
    {
     "data": {
      "text/plain": [
       "[]"
      ]
     },
     "execution_count": 109,
     "metadata": {},
     "output_type": "execute_result"
    },
    {
     "data": {
      "image/png": "[encoded data removed]",
      "text/plain": [
       "<Figure size 432x288 with 1 Axes>"
      ]
     },
     "metadata": {
      "needs_background": "light"
     },
     "output_type": "display_data"
    }
   ],
   "source": [
    "plt.scatter(dataset[0],dataset[1],dataset[2],c=dataset[3])\n",
    "plt.plot()"
   ]
  },
  {
   "cell_type": "code",
   "execution_count": 146,
   "id": "dfd69e44",
   "metadata": {},
   "outputs": [],
   "source": [
    "from sklearn.model_selection import train_test_split \n",
    "Xtrain, Xtest, Ytrain, Ytest = train_test_split(dataset[range(0,3)], dataset[3], test_size=0.20, random_state=0)"
   ]
  },
  {
   "cell_type": "code",
   "execution_count": 154,
   "id": "f4945fd7",
   "metadata": {},
   "outputs": [],
   "source": [
    "# With Euclidean distance\n",
    "\n",
    "centers_euc = kmeans(2, np.array(Xtrain),\"euclidean\")\n",
    "\n",
    "# With Mahalanobis distance\n",
    "\n",
    "centers_mhlb = kmeans(2, np.array(Xtrain),\"mahalanobis\")\n",
    "\n",
    "# With Manhattan distance\n",
    "\n",
    "centers_mnhtn = kmeans(2, np.array(Xtrain),\"cityblock\")"
   ]
  },
  {
   "cell_type": "code",
   "execution_count": 155,
   "id": "972f7474",
   "metadata": {},
   "outputs": [
    {
     "name": "stdout",
     "output_type": "stream",
     "text": [
      "[[ 7.87457635  7.516975   -3.44046586]\n",
      " [ 0.68662395  7.51374268  7.31637445]]\n",
      "[[6.93541469 7.99066409 3.25987648]\n",
      " [0.61676388 6.89634317 0.52615176]]\n",
      "[[ 7.41963012  7.53432331 -3.35078573]\n",
      " [ 0.8384747   7.49558726  7.7028714 ]]\n"
     ]
    }
   ],
   "source": [
    "print(centers_euc)\n",
    "print(centers_mhlb)\n",
    "print(centers_mnhtn)"
   ]
  },
  {
   "cell_type": "code",
   "execution_count": 156,
   "id": "98dd5d69",
   "metadata": {},
   "outputs": [
    {
     "name": "stdout",
     "output_type": "stream",
     "text": [
      "[[23 11]\n",
      " [ 5 41]]\n",
      "[[ 3 31]\n",
      " [ 8 38]]\n",
      "[[11 23]\n",
      " [41  5]]\n"
     ]
    }
   ],
   "source": [
    "from sklearn.metrics import confusion_matrix \n",
    "ypred = [np.argmin(i) for i in cdist(Xtest, centers_euc)]\n",
    "cm_euc = confusion_matrix(Ytest,ypred)\n",
    "print(cm_euc)\n",
    "ypred = [np.argmin(i) for i in cdist(Xtest, centers_mlb)]\n",
    "cm_mlb = confusion_matrix(Ytest,ypred)\n",
    "print(cm_mlb)\n",
    "ypred = [np.argmin(i) for i in cdist(Xtest, centers_mhtn)]\n",
    "cm_mhtn = confusion_matrix(Ytest,ypred)\n",
    "print(cm_mhtn)"
   ]
  },
  {
   "cell_type": "code",
   "execution_count": 157,
   "id": "e615638e",
   "metadata": {},
   "outputs": [
    {
     "data": {
      "image/png": "[encoded data removed]",
      "text/plain": [
       "<Figure size 432x288 with 1 Axes>"
      ]
     },
     "metadata": {
      "needs_background": "light"
     },
     "output_type": "display_data"
    }
   ],
   "source": [
    "fpr, tpr, thresholds = roc_curve(Ytest, ypred)\n",
    "plt.plot(fpr, tpr)\n",
    "plt.show()"
   ]
  },
  {
   "cell_type": "code",
   "execution_count": 162,
   "id": "cd6f9c49",
   "metadata": {},
   "outputs": [],
   "source": [
    "D_train, D_test = train_test_split(dataset, test_size=0.20, random_state=0)"
   ]
  },
  {
   "cell_type": "code",
   "execution_count": 163,
   "id": "00006626",
   "metadata": {},
   "outputs": [
    {
     "name": "stdout",
     "output_type": "stream",
     "text": [
      "k = 3: confusion matrix \n",
      "[[29  1]\n",
      " [ 0 34]]\n",
      "k = 4: confusion matrix \n",
      "[[30  0]\n",
      " [ 0 34]]\n",
      "k = 5: confusion matrix \n",
      "[[30  0]\n",
      " [ 0 34]]\n",
      "k = 6: confusion matrix \n",
      "[[30  0]\n",
      " [ 0 34]]\n",
      "k = 7: confusion matrix \n",
      "[[30  0]\n",
      " [ 0 34]]\n"
     ]
    }
   ],
   "source": [
    "k_values = range(3,8)\n",
    "X_train, X_test, y_train, y_test = train_test_split(np.array(D_train[range(0,3)]), np.array(D_train[3]), test_size=0.2, random_state=0)\n",
    "Euclidean_distance = cdist(X_test, X_train)\n",
    "cm = {}\n",
    "\n",
    "for i in k_values:\n",
    "    index = np.argpartition(Euclidean_distance, i)[:,:i]\n",
    "    y = sp.stats.mode(y_train[index], axis=1)[0]\n",
    "    cm[i] = confusion_matrix(y_test, y)\n",
    "    \n",
    "for i in cm.keys():\n",
    "    print(f\"k = {i}: confusion matrix: \\n{cm[i]}\")\n",
    "    \n",
    "# argpartition() function is used to create a indirect partitioned copy of input array with its elements rearranged in such a \n",
    "# way that the value of the element in k-th position is in the position it would be in a sorted array."
   ]
  },
  {
   "cell_type": "code",
   "execution_count": 171,
   "id": "f85fcae4",
   "metadata": {},
   "outputs": [
    {
     "name": "stdout",
     "output_type": "stream",
     "text": [
      "Confusion_matrix with Euclidean distance\n",
      " [[34  0]\n",
      " [ 0 46]]\n"
     ]
    }
   ],
   "source": [
    "X_train = np.array(D_train[range(0,3)])\n",
    "Y_train = np.array(D_train[3])\n",
    "X_test = np.array(D_test[range(0,3)])\n",
    "Y_test = np.array(D_test[3])\n",
    "k = 5 \n",
    "\n",
    "# Euclidean_distance\n",
    "Euclidean_distance = cdist(X_test,X_train)\n",
    "index = np.argpartition(Euclidean_distance,i)[:,:i]\n",
    "y = sp.stats.mode(Y_train[index],axis=1)[0]\n",
    "cm = confusion_matrix(Y_test,y)\n",
    "print(\"Confusion_matrix with Euclidean distance\\n\", cm)"
   ]
  },
  {
   "cell_type": "code",
   "execution_count": 173,
   "id": "b0413b8b",
   "metadata": {},
   "outputs": [
    {
     "name": "stdout",
     "output_type": "stream",
     "text": [
      "Confusion_matrix with Mahalanobis distance\n",
      " [[33  1]\n",
      " [ 1 45]]\n"
     ]
    }
   ],
   "source": [
    "# Mahalanobis_distance\n",
    "Mahalanobis_distance = cdist(X_test, X_train, \"mahalanobis\")\n",
    "index = np.argpartition(Mahalanobis_distance,i)[:,:i]\n",
    "y = sp.stats.mode(Y_train[index],axis=1)[0]\n",
    "cm = confusion_matrix(Y_test,y)\n",
    "print(\"Confusion_matrix with Mahalanobis distance\\n\", cm)"
   ]
  },
  {
   "cell_type": "code",
   "execution_count": 172,
   "id": "3ed9ce02",
   "metadata": {},
   "outputs": [
    {
     "name": "stdout",
     "output_type": "stream",
     "text": [
      "Confusion_matrix with Manhattan distance\n",
      " [[34  0]\n",
      " [ 0 46]]\n"
     ]
    }
   ],
   "source": [
    "# Manhattan_distance\n",
    "Manhattan_distance = cdist(X_test, X_train, \"cityblock\")\n",
    "index = np.argpartition(Manhattan_distance,i)[:,:i]\n",
    "y = sp.stats.mode(Y_train[index],axis=1)[0]\n",
    "cm = confusion_matrix(Y_test,y)\n",
    "print(\"Confusion_matrix with Manhattan distance\\n\", cm)"
   ]
  },
  {
   "cell_type": "code",
   "execution_count": 183,
   "id": "9beb64d3",
   "metadata": {},
   "outputs": [
    {
     "data": {
      "image/png": "[encoded data removed]",
      "text/plain": [
       "<Figure size 432x288 with 1 Axes>"
      ]
     },
     "metadata": {
      "needs_background": "light"
     },
     "output_type": "display_data"
    }
   ],
   "source": [
    "X = dataset.iloc[:, [0,1,2]].values\n",
    "\n",
    "from sklearn.cluster import KMeans\n",
    "\n",
    "\n",
    "# Elbow Method:\n",
    "# In the Elbow method, we are actually varying the number of clusters ( K ) from 1 – 10. For each value of K, we are calculating\n",
    "# WCSS ( Within-Cluster Sum of Square ). WCSS is the sum of squared distance between each point and the centroid in a cluster. \n",
    "\n",
    "wcss = [] \n",
    "for i in range(1, 11): \n",
    "    kmeans = KMeans(n_clusters = i, init = 'k-means++', random_state = 42)\n",
    "    kmeans.fit(X) \n",
    "    wcss.append(kmeans.inertia_)\n",
    "\n",
    "plt.plot(range(1, 11), wcss)\n",
    "plt.xlabel('Number of clusters')\n",
    "plt.ylabel('WCSS') \n",
    "plt.show()"
   ]
  },
  {
   "cell_type": "markdown",
   "id": "14b7b92d",
   "metadata": {},
   "source": [
    "## Practice"
   ]
  },
  {
   "cell_type": "code",
   "execution_count": 90,
   "id": "c128e22e",
   "metadata": {},
   "outputs": [],
   "source": [
    "from math import sqrt\n",
    "# Calculate the Euclidean distance between two vectors            \n",
    "def euclidean_distance(row1, row2):\n",
    "    distance = 0.0\n",
    "    for i in range(len(row1)-1):\n",
    "        distance += (row1[i] - row2[i])**2   \n",
    "    return sqrt(distance)"
   ]
  },
  {
   "cell_type": "code",
   "execution_count": 104,
   "id": "34630731",
   "metadata": {},
   "outputs": [],
   "source": [
    "# Locate the most similar neighbors\n",
    "def get_neighbors(train, test_row, num_neighbors):\n",
    "    distances = list()\n",
    "    for train_row in train:\n",
    "        dist = euclidean_distance(test_row, train_row)\n",
    "        distances.append((train_row, dist))   \n",
    "    distances.sort(key=lambda tup: tup[1])\n",
    "    neighbors = list()\n",
    "    for i in range(num_neighbors):\n",
    "        neighbors.append(distances[i][0])\n",
    "    return neighbors"
   ]
  },
  {
   "cell_type": "code",
   "execution_count": 105,
   "id": "a447b164",
   "metadata": {},
   "outputs": [],
   "source": [
    "# Make a prediction with neighbors\n",
    "def predict_classification(train, test_row, num_neighbors):\n",
    "    neighbors = get_neighbors(train, test_row, num_neighbors)\n",
    "    output_values = [row[-1] for row in neighbors]\n",
    "    prediction = max(set(output_values), key=output_values.count)\n",
    "    return prediction"
   ]
  },
  {
   "cell_type": "code",
   "execution_count": 53,
   "id": "07fd99e1",
   "metadata": {},
   "outputs": [
    {
     "data": {
      "text/html": [
       "<div>\n",
       "<style scoped>\n",
       "    .dataframe tbody tr th:only-of-type {\n",
       "        vertical-align: middle;\n",
       "    }\n",
       "\n",
       "    .dataframe tbody tr th {\n",
       "        vertical-align: top;\n",
       "    }\n",
       "\n",
       "    .dataframe thead th {\n",
       "        text-align: right;\n",
       "    }\n",
       "</style>\n",
       "<table border=\"1\" class=\"dataframe\">\n",
       "  <thead>\n",
       "    <tr style=\"text-align: right;\">\n",
       "      <th></th>\n",
       "      <th>0</th>\n",
       "      <th>1</th>\n",
       "      <th>2</th>\n",
       "      <th>3</th>\n",
       "    </tr>\n",
       "  </thead>\n",
       "  <tbody>\n",
       "    <tr>\n",
       "      <th>0</th>\n",
       "      <td>-5.21460</td>\n",
       "      <td>7.0880</td>\n",
       "      <td>6.72920</td>\n",
       "      <td>1</td>\n",
       "    </tr>\n",
       "    <tr>\n",
       "      <th>1</th>\n",
       "      <td>-0.42176</td>\n",
       "      <td>8.4266</td>\n",
       "      <td>7.89610</td>\n",
       "      <td>1</td>\n",
       "    </tr>\n",
       "    <tr>\n",
       "      <th>2</th>\n",
       "      <td>-6.13460</td>\n",
       "      <td>5.6864</td>\n",
       "      <td>6.08860</td>\n",
       "      <td>1</td>\n",
       "    </tr>\n",
       "    <tr>\n",
       "      <th>3</th>\n",
       "      <td>6.21260</td>\n",
       "      <td>8.3078</td>\n",
       "      <td>2.36230</td>\n",
       "      <td>1</td>\n",
       "    </tr>\n",
       "    <tr>\n",
       "      <th>4</th>\n",
       "      <td>6.34460</td>\n",
       "      <td>7.6650</td>\n",
       "      <td>0.53239</td>\n",
       "      <td>1</td>\n",
       "    </tr>\n",
       "  </tbody>\n",
       "</table>\n",
       "</div>"
      ],
      "text/plain": [
       "         0       1        2  3\n",
       "0 -5.21460  7.0880  6.72920  1\n",
       "1 -0.42176  8.4266  7.89610  1\n",
       "2 -6.13460  5.6864  6.08860  1\n",
       "3  6.21260  8.3078  2.36230  1\n",
       "4  6.34460  7.6650  0.53239  1"
      ]
     },
     "execution_count": 53,
     "metadata": {},
     "output_type": "execute_result"
    }
   ],
   "source": [
    "import os\n",
    "os.chdir(r\"E:\\M.Tech IIST\\Data Mining\\Assignment\\Assignment 5\\assign_5\")\n",
    "dataset= pd.read_csv('data7.csv', header= None)\n",
    "dataset.head()"
   ]
  },
  {
   "cell_type": "code",
   "execution_count": 54,
   "id": "8caf0fc8",
   "metadata": {},
   "outputs": [
    {
     "data": {
      "text/plain": [
       "3\n",
       "0    200\n",
       "1    200\n",
       "dtype: int64"
      ]
     },
     "execution_count": 54,
     "metadata": {},
     "output_type": "execute_result"
    }
   ],
   "source": [
    "dataset.groupby([3]).size()"
   ]
  },
  {
   "cell_type": "code",
   "execution_count": 55,
   "id": "4589b55e",
   "metadata": {},
   "outputs": [
    {
     "data": {
      "text/plain": [
       "[]"
      ]
     },
     "execution_count": 55,
     "metadata": {},
     "output_type": "execute_result"
    },
    {
     "data": {
      "image/png": "[encoded data removed]",
      "text/plain": [
       "<Figure size 432x288 with 1 Axes>"
      ]
     },
     "metadata": {
      "needs_background": "light"
     },
     "output_type": "display_data"
    }
   ],
   "source": [
    "plt.scatter(dataset[0],dataset[1],dataset[2],c=dataset[3])\n",
    "plt.plot()"
   ]
  },
  {
   "cell_type": "code",
   "execution_count": 57,
   "id": "d572c79a",
   "metadata": {},
   "outputs": [],
   "source": [
    "dataset = np.array(dataset)"
   ]
  },
  {
   "cell_type": "code",
   "execution_count": 106,
   "id": "4ab6969b",
   "metadata": {},
   "outputs": [
    {
     "name": "stdout",
     "output_type": "stream",
     "text": [
      "Expected 1, Got 1.\n"
     ]
    }
   ],
   "source": [
    "prediction = predict_classification(dataset, dataset[0], 3)\n",
    "print('Expected %d, Got %d.' % (dataset[0][-1], prediction))"
   ]
  },
  {
   "cell_type": "code",
   "execution_count": 66,
   "id": "699eaa9a",
   "metadata": {},
   "outputs": [
    {
     "data": {
      "text/plain": [
       "array([-6.1346,  5.6864,  6.0886,  1.    ])"
      ]
     },
     "execution_count": 66,
     "metadata": {},
     "output_type": "execute_result"
    }
   ],
   "source": [
    "dataset[2]"
   ]
  },
  {
   "cell_type": "code",
   "execution_count": 65,
   "id": "5901a67e",
   "metadata": {},
   "outputs": [
    {
     "data": {
      "text/plain": [
       "-6.1346"
      ]
     },
     "execution_count": 65,
     "metadata": {},
     "output_type": "execute_result"
    }
   ],
   "source": [
    "dataset[2][0]"
   ]
  },
  {
   "cell_type": "code",
   "execution_count": 69,
   "id": "2c9e037e",
   "metadata": {},
   "outputs": [
    {
     "name": "stdout",
     "output_type": "stream",
     "text": [
      "1.7947843658779739\n"
     ]
    }
   ],
   "source": [
    "print(euclidean_distance(dataset[2],dataset[0]))"
   ]
  },
  {
   "cell_type": "code",
   "execution_count": 70,
   "id": "63fbe28d",
   "metadata": {},
   "outputs": [
    {
     "name": "stdout",
     "output_type": "stream",
     "text": [
      "0.0\n"
     ]
    }
   ],
   "source": [
    "print(euclidean_distance(dataset[0],dataset[0]))"
   ]
  },
  {
   "cell_type": "code",
   "execution_count": 71,
   "id": "7fd1b88c",
   "metadata": {},
   "outputs": [
    {
     "name": "stdout",
     "output_type": "stream",
     "text": [
      "5.111244548600664\n"
     ]
    }
   ],
   "source": [
    "print(euclidean_distance(dataset[1],dataset[0]))"
   ]
  }
 ],
 "metadata": {
  "kernelspec": {
   "display_name": "Python 3 (ipykernel)",
   "language": "python",
   "name": "python3"
  },
  "language_info": {
   "codemirror_mode": {
    "name": "ipython",
    "version": 3
   },
   "file_extension": ".py",
   "mimetype": "text/x-python",
   "name": "python",
   "nbconvert_exporter": "python",
   "pygments_lexer": "ipython3",
   "version": "3.9.7"
  }
 },
 "nbformat": 4,
 "nbformat_minor": 5
}
