{
 "cells": [
  {
   "cell_type": "code",
   "execution_count": 140,
   "metadata": {},
   "outputs": [],
   "source": [
    "import os\n",
    "import numpy as np\n",
    "import pandas as pd\n",
    "import matplotlib.pyplot as plt\n",
    "import timeit\n",
    "from sklearn.model_selection import KFold \n",
    "from sklearn.linear_model import LogisticRegression\n",
    "from sklearn.metrics import accuracy_score"
   ]
  },
  {
   "cell_type": "code",
   "execution_count": 141,
   "metadata": {},
   "outputs": [],
   "source": [
    "# to get the input from the given data:\n",
    "def input_data (data):\n",
    "    data = np.array(data)\n",
    "    n = len(data[0])\n",
    "    # x is from row 0 to m and column 0 to (n-1):\n",
    "    x = data[:,:n-1]\n",
    "    # y is the row 0 to m and last column of given data:\n",
    "    y = data[:,n-1]\n",
    "    return x,y"
   ]
  },
  {
   "cell_type": "markdown",
   "metadata": {},
   "source": [
    "## Holdout method:"
   ]
  },
  {
   "cell_type": "code",
   "execution_count": 143,
   "metadata": {},
   "outputs": [],
   "source": [
    "# if testing size is 30%, use test_size= 0.3\n",
    "def holdout_method(x,y,test_size):\n",
    "    # total data sets:\n",
    "    n = len(y)\n",
    "    \n",
    "    # training size= total data sets (1- testing size):\n",
    "    train_index = int(n*(1-test_size))\n",
    "   \n",
    "    # training data set is from index 0 to train_index\n",
    "    x_for_training = x[:train_index,:]\n",
    "    # testing data set is from index (train_index) to len(y) i.e. n\n",
    "    x_for_testing = x[train_index:,:]\n",
    "    \n",
    "    # similarly for the y:\n",
    "    y_for_training = y[:train_index]\n",
    "    y_for_testing = y[train_index:]\n",
    "    \n",
    "    return x_for_training, y_for_training, x_for_testing , y_for_testing"
   ]
  },
  {
   "cell_type": "markdown",
   "metadata": {},
   "source": [
    "## K-fold method:"
   ]
  },
  {
   "cell_type": "code",
   "execution_count": null,
   "metadata": {},
   "outputs": [],
   "source": [
    "def i_of_k_fold(x, i, k):\n",
    "    n = len(x)\n",
    "    l = list(range(n))\n",
    "    train_index = l[0:n*(i-1)//k] + l[(n*i)//k:n]\n",
    "    test_index = l[n*(i-1)//k : (n*i)//k ]\n",
    "    return train_index, test_index"
   ]
  },
  {
   "cell_type": "code",
   "execution_count": 144,
   "metadata": {},
   "outputs": [],
   "source": [
    "def k_fold(x_train,y_train,k):\n",
    "    learning_rate_range = [10**i for i in range(-5,3)]\n",
    "    mean_error_coresponding_to_Learning_Rate = dict()\n",
    "    for lr in learning_rate_range:\n",
    "        each_fold_error = [ ]\n",
    "        for i in range(1, k+1):\n",
    "            train_index , test_index = i_of_k_fold(x_train, i, k)\n",
    "            w, w0= gradient_decent(x_train[train_index], y_train[train_index], lr, iteration = 30)\n",
    "            each_fold_error.append(mean_error(x_train[test_index], y_train[test_index], w, w0))\n",
    "\n",
    "    mean_error_coresponding_to_Learning_Rate[lr] = sum(each_fold_error)/len(each_fold_error)\n",
    "    return mean_error_coresponding_to_Learning_Rate, each_fold_error"
   ]
  },
  {
   "cell_type": "markdown",
   "metadata": {},
   "source": [
    "## Min-Max Normalisation:"
   ]
  },
  {
   "cell_type": "code",
   "execution_count": 145,
   "metadata": {},
   "outputs": [],
   "source": [
    "def normalise(data):\n",
    "    data = (data - data.min()) / (data.max() - data.min())\n",
    "    return data"
   ]
  },
  {
   "cell_type": "code",
   "execution_count": 147,
   "metadata": {},
   "outputs": [],
   "source": [
    "def error_in_data(x_test, y_test, w, w0):\n",
    "    m= len(x_test)\n",
    "    hx = np.dot(x_test,w) + w0\n",
    "    error = (1/m)*np.sum(np.square(hx - y_test))\n",
    "    return error"
   ]
  },
  {
   "cell_type": "markdown",
   "metadata": {},
   "source": [
    "## Linear Regression:"
   ]
  },
  {
   "cell_type": "code",
   "execution_count": null,
   "metadata": {},
   "outputs": [],
   "source": [
    "def linear_reg(x, y, iteration, step_size):\n",
    "    n= len(x[0])\n",
    "    m = len(x)\n",
    "    w = [0]*n\n",
    "    w0 = 0\n",
    "    cost = [ ]\n",
    "    w_list = [ ]\n",
    "    for i in range(iteration):\n",
    "        # equation of predicted line y_predicted i.e. h(x)= w0.x0 + w1.x1 + w2.x2 + ...... + wn.xn:\n",
    "        hx = w0 + np.dot(x,w)\n",
    "        \n",
    "        # J(w)= (1/2m)(Sigma(from i=1 to m)(h(x(i)) - y(i))^2) \n",
    "        Jw = (1/(2*m))*(np.sum(np.square(y - hx)))\n",
    "        cost.append(Jw)\n",
    "        \n",
    "        err = hx - y\n",
    "        dw0 = np.sum(err)\n",
    "        dw = (1/m)*np.dot(err,x)\n",
    "        \n",
    "        w = w - step_size*dw\n",
    "        w0 = w0 - step_size*dw0\n",
    "        w_list.append(list(w) + [w0])\n",
    "        \n",
    "        if Jw <10**-10:\n",
    "            break\n",
    "            \n",
    "    return cost, w_list, w, w0, Jw"
   ]
  },
  {
   "cell_type": "markdown",
   "metadata": {},
   "source": [
    "## Gradient Decent:"
   ]
  },
  {
   "cell_type": "code",
   "execution_count": 149,
   "metadata": {},
   "outputs": [],
   "source": [
    "def gradient_decent(x, y, step_size, iteration):\n",
    "    n= len(x[0])\n",
    "    w = [0]*n\n",
    "    w0 = 0\n",
    "    m = len(x)\n",
    "    w_list = [ ]\n",
    "    \n",
    "    for i in range(iteration):\n",
    "        \n",
    "        # equation of predicted line y_predicted i.e. h(x)= w0 + w1.x + w2.x2 + ...... + wn.xn\n",
    "        hx = w0 + np.dot(x,w)\n",
    "        \n",
    "        # (h(x)-y)\n",
    "        dy = hx - y\n",
    "        \n",
    "        # sigma (from i=1 to m) (dy)\n",
    "        dw0 = np.sum(dy)\n",
    "        \n",
    "        # (1/m)(gradient of J wrt w(i) * (x(i)) )\n",
    "        dw = (1/m)*np.dot(dy,x)\n",
    "        \n",
    "        # updating the parameters w0,wi...\n",
    "        w = w - step_size*dw\n",
    "        w0 = w0 - step_size*dw0\n",
    "        \n",
    "    return w,w0"
   ]
  },
  {
   "cell_type": "markdown",
   "metadata": {},
   "source": [
    "## Input all data:"
   ]
  },
  {
   "cell_type": "code",
   "execution_count": 150,
   "metadata": {},
   "outputs": [],
   "source": [
    "# reading the data:\n",
    "data1= pd.read_csv('data1.csv', header= None)\n",
    "data2= pd.read_csv('data2.csv', header= None)\n",
    "data3= pd.read_csv('data3.csv', header= None)\n",
    "data4= pd.read_csv('data4.csv', header= None)\n",
    "data5= pd.read_csv('machine.data', header=None)"
   ]
  },
  {
   "cell_type": "markdown",
   "metadata": {},
   "source": [
    "## Data 1:"
   ]
  },
  {
   "cell_type": "markdown",
   "metadata": {},
   "source": [
    "Holdout method is used to split the testing and training data. (Testing data is taken 30% and training data is taken 70%).\n",
    "Linear regression is used in which all the columns except last one is taken a input i.e. X and last column value of both \n",
    "data1 and data2 is taken as output Y.\n",
    "First a y_predicted is calculated from parameters w0 and w (intially taken as 0) and then cost function is calculated. Using\n",
    "which we modified the parameter with each iteration. And when we get near perfect value of cost function we terminate the \n",
    "function and get the final regression line. To check the performance we calculate the square mean error. "
   ]
  },
  {
   "cell_type": "code",
   "execution_count": 151,
   "metadata": {},
   "outputs": [
    {
     "data": {
      "text/html": [
       "<div>\n",
       "<style scoped>\n",
       "    .dataframe tbody tr th:only-of-type {\n",
       "        vertical-align: middle;\n",
       "    }\n",
       "\n",
       "    .dataframe tbody tr th {\n",
       "        vertical-align: top;\n",
       "    }\n",
       "\n",
       "    .dataframe thead th {\n",
       "        text-align: right;\n",
       "    }\n",
       "</style>\n",
       "<table border=\"1\" class=\"dataframe\">\n",
       "  <thead>\n",
       "    <tr style=\"text-align: right;\">\n",
       "      <th></th>\n",
       "      <th>0</th>\n",
       "      <th>1</th>\n",
       "    </tr>\n",
       "  </thead>\n",
       "  <tbody>\n",
       "    <tr>\n",
       "      <th>0</th>\n",
       "      <td>0.45478</td>\n",
       "      <td>3.18270</td>\n",
       "    </tr>\n",
       "    <tr>\n",
       "      <th>1</th>\n",
       "      <td>-0.31160</td>\n",
       "      <td>0.34708</td>\n",
       "    </tr>\n",
       "    <tr>\n",
       "      <th>2</th>\n",
       "      <td>0.94642</td>\n",
       "      <td>5.00180</td>\n",
       "    </tr>\n",
       "    <tr>\n",
       "      <th>3</th>\n",
       "      <td>0.33790</td>\n",
       "      <td>2.75020</td>\n",
       "    </tr>\n",
       "    <tr>\n",
       "      <th>4</th>\n",
       "      <td>0.23853</td>\n",
       "      <td>2.38260</td>\n",
       "    </tr>\n",
       "  </tbody>\n",
       "</table>\n",
       "</div>"
      ],
      "text/plain": [
       "         0        1\n",
       "0  0.45478  3.18270\n",
       "1 -0.31160  0.34708\n",
       "2  0.94642  5.00180\n",
       "3  0.33790  2.75020\n",
       "4  0.23853  2.38260"
      ]
     },
     "execution_count": 151,
     "metadata": {},
     "output_type": "execute_result"
    }
   ],
   "source": [
    "data1.head()"
   ]
  },
  {
   "cell_type": "code",
   "execution_count": 153,
   "metadata": {},
   "outputs": [
    {
     "data": {
      "image/png": "[encoded data removed]",
      "text/plain": [
       "<matplotlib.figure.Figure at 0x4394e797b8>"
      ]
     },
     "metadata": {
      "needs_background": "light"
     },
     "output_type": "display_data"
    }
   ],
   "source": [
    "x1, y1= input_data(data1)\n",
    "fig= plt.figure(figsize= (4,2))\n",
    "plt.scatter(x,y)\n",
    "plt.xlabel('x-axis:')\n",
    "plt.ylabel('y-axis:')\n",
    "plt.show()"
   ]
  },
  {
   "cell_type": "code",
   "execution_count": 154,
   "metadata": {},
   "outputs": [],
   "source": [
    "# separating the data sets for training and testing purpose:\n",
    "x_train, y_train, x_test, y_test = holdout_method(x1, y1, 0.3) "
   ]
  },
  {
   "cell_type": "code",
   "execution_count": 155,
   "metadata": {},
   "outputs": [
    {
     "name": "stdout",
     "output_type": "stream",
     "text": [
      "[3.69954076]\n",
      "1.5000355447001341\n"
     ]
    }
   ],
   "source": [
    "# doing linear regression:\n",
    "cost_data1, w_list_data1, w_data1, w0_data1, final_cost_data1 = linear_reg(x_train, y_train, 1000, 0.01)\n",
    "print(w_data1)\n",
    "print(w0_data1)"
   ]
  },
  {
   "cell_type": "code",
   "execution_count": 156,
   "metadata": {},
   "outputs": [
    {
     "name": "stdout",
     "output_type": "stream",
     "text": [
      "Mean error in data1:\t 2.2266224956172895e-07\n"
     ]
    }
   ],
   "source": [
    "# calculating the error in data1:\n",
    "error = error_in_data(x_test, y_test, w_data1, w0_data1)\n",
    "print(\"Mean error in data1:\\t\", error)"
   ]
  },
  {
   "cell_type": "code",
   "execution_count": 157,
   "metadata": {},
   "outputs": [
    {
     "data": {
      "image/png": "[encoded data removed]",
      "text/plain": [
       "<matplotlib.figure.Figure at 0x43960ed668>"
      ]
     },
     "metadata": {
      "needs_background": "light"
     },
     "output_type": "display_data"
    },
    {
     "name": "stdout",
     "output_type": "stream",
     "text": [
      "Wall time: 1.58 s\n"
     ]
    }
   ],
   "source": [
    "%%time \n",
    "\n",
    "# J(w) vs iteration for data1:\n",
    "fig= plt.figure(figsize=(5,3))\n",
    "i = list(range(len(cost_data1)))\n",
    "plt.xlabel('iteration', color= 'red')\n",
    "plt.ylabel('J(w)', color= 'red')\n",
    "plt.title('J(w) vs iteration', color= 'blue')\n",
    "plt.plot(i, cost_data1)\n",
    "plt.show()"
   ]
  },
  {
   "cell_type": "code",
   "execution_count": 159,
   "metadata": {},
   "outputs": [
    {
     "data": {
      "image/png": "[encoded data removed]",
      "text/plain": [
       "<matplotlib.figure.Figure at 0x43961b0630>"
      ]
     },
     "metadata": {
      "needs_background": "light"
     },
     "output_type": "display_data"
    }
   ],
   "source": [
    "# j(w) vs w for data1:\n",
    "fig= plt.figure(figsize= (5,3))\n",
    "plt.xlabel(\"w\", color= 'green')\n",
    "plt.ylabel(\"J(w)\", color= 'green')\n",
    "plt.title('j(w) vs w', color= 'blue')\n",
    "w0_d1 = np.array(w_list_data1)[:,0]\n",
    "w_d1 = np.array(w_list_data1)[:,1]\n",
    "plt.scatter(w0_d1, cost_data1, s=10, label='w0')\n",
    "plt.scatter(w_d1, cost_data1, s=10, marker=\"*\", label='w1')\n",
    "plt.plot(w0_d1, cost_data1)\n",
    "plt.plot(w_d1, cost_data1)\n",
    "plt.legend()\n",
    "plt.show()"
   ]
  },
  {
   "cell_type": "code",
   "execution_count": 160,
   "metadata": {},
   "outputs": [
    {
     "data": {
      "image/png": "[encoded data removed]",
      "text/plain": [
       "<matplotlib.figure.Figure at 0x43964a2358>"
      ]
     },
     "metadata": {
      "needs_background": "light"
     },
     "output_type": "display_data"
    }
   ],
   "source": [
    "# hyperplane:\n",
    "eq_hyp = w0_data1 + data1[0]*w_data1\n",
    "fig= plt.figure(figsize=(5,3))\n",
    "plt.plot(data1[0], eq_hyp, label=\"Hyper Plane\")\n",
    "plt.legend()\n",
    "plt.xlabel('x')\n",
    "plt.ylabel('h(x)')\n",
    "plt.show()"
   ]
  },
  {
   "cell_type": "code",
   "execution_count": 161,
   "metadata": {},
   "outputs": [
    {
     "name": "stdout",
     "output_type": "stream",
     "text": [
      "The parameters of the model are:\t w= [3.69954076] \t w0= 1.5000355447001341 \t cost= 1.0015960553542546e-07\n",
      "\n",
      "The parameters of the model\n",
      "y= 1.5000355447001341 + [3.69954076] w1\n"
     ]
    }
   ],
   "source": [
    "print(f\"The parameters of the model are:\\t w= {w_data1} \\t w0= {w0_data1} \\t cost= {final_cost_data1}\")\n",
    "\n",
    "# Parameters of the Model:\n",
    "print(\"\\nThe parameters of the model\")\n",
    "print(\"y= {} + {} w1\".format(str(w0_data1), str(w_data1)))"
   ]
  },
  {
   "cell_type": "markdown",
   "metadata": {},
   "source": [
    "## Data 2:"
   ]
  },
  {
   "cell_type": "code",
   "execution_count": 162,
   "metadata": {},
   "outputs": [
    {
     "data": {
      "text/html": [
       "<div>\n",
       "<style scoped>\n",
       "    .dataframe tbody tr th:only-of-type {\n",
       "        vertical-align: middle;\n",
       "    }\n",
       "\n",
       "    .dataframe tbody tr th {\n",
       "        vertical-align: top;\n",
       "    }\n",
       "\n",
       "    .dataframe thead th {\n",
       "        text-align: right;\n",
       "    }\n",
       "</style>\n",
       "<table border=\"1\" class=\"dataframe\">\n",
       "  <thead>\n",
       "    <tr style=\"text-align: right;\">\n",
       "      <th></th>\n",
       "      <th>0</th>\n",
       "      <th>1</th>\n",
       "      <th>2</th>\n",
       "    </tr>\n",
       "  </thead>\n",
       "  <tbody>\n",
       "    <tr>\n",
       "      <th>0</th>\n",
       "      <td>607</td>\n",
       "      <td>379</td>\n",
       "      <td>-1318.4</td>\n",
       "    </tr>\n",
       "    <tr>\n",
       "      <th>1</th>\n",
       "      <td>402</td>\n",
       "      <td>746</td>\n",
       "      <td>-867.4</td>\n",
       "    </tr>\n",
       "    <tr>\n",
       "      <th>2</th>\n",
       "      <td>935</td>\n",
       "      <td>175</td>\n",
       "      <td>-2040.0</td>\n",
       "    </tr>\n",
       "    <tr>\n",
       "      <th>3</th>\n",
       "      <td>963</td>\n",
       "      <td>809</td>\n",
       "      <td>-2101.6</td>\n",
       "    </tr>\n",
       "    <tr>\n",
       "      <th>4</th>\n",
       "      <td>486</td>\n",
       "      <td>17</td>\n",
       "      <td>-1052.2</td>\n",
       "    </tr>\n",
       "  </tbody>\n",
       "</table>\n",
       "</div>"
      ],
      "text/plain": [
       "     0    1       2\n",
       "0  607  379 -1318.4\n",
       "1  402  746  -867.4\n",
       "2  935  175 -2040.0\n",
       "3  963  809 -2101.6\n",
       "4  486   17 -1052.2"
      ]
     },
     "execution_count": 162,
     "metadata": {},
     "output_type": "execute_result"
    }
   ],
   "source": [
    "data2.head()"
   ]
  },
  {
   "cell_type": "code",
   "execution_count": 163,
   "metadata": {},
   "outputs": [],
   "source": [
    "x2, y2= input_data(data2)"
   ]
  },
  {
   "cell_type": "code",
   "execution_count": 166,
   "metadata": {},
   "outputs": [],
   "source": [
    "x_train, y_train, x_test, y_test = holdout_method(x2, y2, 0.3) "
   ]
  },
  {
   "cell_type": "code",
   "execution_count": 172,
   "metadata": {},
   "outputs": [],
   "source": [
    "normal_data2 = normalise(data2)\n",
    "x2_norm, y2_norm = input_data(normal_data2) \n",
    "x_train, y_train ,x_test , y_test = holdout_method(x2_norm, y2_norm, 0.3)"
   ]
  },
  {
   "cell_type": "code",
   "execution_count": 173,
   "metadata": {},
   "outputs": [],
   "source": [
    "cost_data2, w_list_data2, w_data2, w0_data2, final_cost_data2 = linear_reg(x_train, y_train, 1000, 0.001)"
   ]
  },
  {
   "cell_type": "code",
   "execution_count": 174,
   "metadata": {},
   "outputs": [
    {
     "data": {
      "image/png": "[encoded data removed]",
      "text/plain": [
       "<matplotlib.figure.Figure at 0x4397d615f8>"
      ]
     },
     "metadata": {
      "needs_background": "light"
     },
     "output_type": "display_data"
    }
   ],
   "source": [
    "# J(w) vs iteration for data2:\n",
    "\n",
    "fig= plt.figure(figsize=(5,3))\n",
    "i = list(range(len(cost_data2)))\n",
    "plt.xlabel('iteration', color= 'red')\n",
    "plt.ylabel('J(w)', color= 'red')\n",
    "plt.title('J(w) vs iteration', color= 'blue')\n",
    "plt.plot(i, cost_data2)\n",
    "plt.show()"
   ]
  },
  {
   "cell_type": "code",
   "execution_count": 175,
   "metadata": {},
   "outputs": [
    {
     "data": {
      "image/png": "[encoded data removed]",
      "text/plain": [
       "<matplotlib.figure.Figure at 0x4397d49438>"
      ]
     },
     "metadata": {
      "needs_background": "light"
     },
     "output_type": "display_data"
    }
   ],
   "source": [
    "# j(w) vs w for data2:\n",
    "\n",
    "fig= plt.figure(figsize= (5,3))\n",
    "plt.xlabel(\"w\", color= 'green')\n",
    "plt.ylabel(\"J(w)\", color= 'green')\n",
    "plt.title(\"j(w) vs w\", color= 'blue')\n",
    "w0_d2 = np.array(w_list_data2)[:,0]\n",
    "w1_d2 = np.array(w_list_data2)[:,1]\n",
    "plt.scatter(w0_d2, cost_data2, label='w0')\n",
    "plt.scatter(w1_d2, cost_data2, marker=\"*\", label='w1')\n",
    "plt.plot(w0_d2, cost_data2)\n",
    "plt.plot(w1_d2, cost_data2)\n",
    "plt.legend()\n",
    "plt.show()"
   ]
  },
  {
   "cell_type": "code",
   "execution_count": 176,
   "metadata": {},
   "outputs": [
    {
     "name": "stdout",
     "output_type": "stream",
     "text": [
      "The parameters of the model are:\t w= [-0.08606712 -0.00053352] \t w0= 0.5659311658661651 \t cost= 0.03839420699336668\n"
     ]
    }
   ],
   "source": [
    "print(f\"The parameters of the model are:\\t w= {w_data2} \\t w0= {w0_data2} \\t cost= {final_cost_data2}\")"
   ]
  },
  {
   "cell_type": "markdown",
   "metadata": {},
   "source": [
    "## Data3:"
   ]
  },
  {
   "cell_type": "code",
   "execution_count": 192,
   "metadata": {},
   "outputs": [],
   "source": [
    "x3, y3= input_data(data3)"
   ]
  },
  {
   "cell_type": "code",
   "execution_count": 193,
   "metadata": {},
   "outputs": [
    {
     "data": {
      "text/html": [
       "<div>\n",
       "<style scoped>\n",
       "    .dataframe tbody tr th:only-of-type {\n",
       "        vertical-align: middle;\n",
       "    }\n",
       "\n",
       "    .dataframe tbody tr th {\n",
       "        vertical-align: top;\n",
       "    }\n",
       "\n",
       "    .dataframe thead th {\n",
       "        text-align: right;\n",
       "    }\n",
       "</style>\n",
       "<table border=\"1\" class=\"dataframe\">\n",
       "  <thead>\n",
       "    <tr style=\"text-align: right;\">\n",
       "      <th></th>\n",
       "      <th>0</th>\n",
       "      <th>1</th>\n",
       "      <th>2</th>\n",
       "      <th>3</th>\n",
       "      <th>4</th>\n",
       "      <th>5</th>\n",
       "      <th>6</th>\n",
       "      <th>7</th>\n",
       "      <th>8</th>\n",
       "      <th>9</th>\n",
       "      <th>...</th>\n",
       "      <th>41</th>\n",
       "      <th>42</th>\n",
       "      <th>43</th>\n",
       "      <th>44</th>\n",
       "      <th>45</th>\n",
       "      <th>46</th>\n",
       "      <th>47</th>\n",
       "      <th>48</th>\n",
       "      <th>49</th>\n",
       "      <th>50</th>\n",
       "    </tr>\n",
       "  </thead>\n",
       "  <tbody>\n",
       "    <tr>\n",
       "      <th>0</th>\n",
       "      <td>-0.20194</td>\n",
       "      <td>1.20030</td>\n",
       "      <td>1.58980</td>\n",
       "      <td>-1.598800</td>\n",
       "      <td>-0.16687</td>\n",
       "      <td>0.18943</td>\n",
       "      <td>-1.20490</td>\n",
       "      <td>0.33534</td>\n",
       "      <td>-0.69619</td>\n",
       "      <td>2.16430</td>\n",
       "      <td>...</td>\n",
       "      <td>-1.42180</td>\n",
       "      <td>0.78505</td>\n",
       "      <td>0.70262</td>\n",
       "      <td>-2.353700</td>\n",
       "      <td>1.394700</td>\n",
       "      <td>0.350110</td>\n",
       "      <td>2.084900</td>\n",
       "      <td>-1.487400</td>\n",
       "      <td>-0.62893</td>\n",
       "      <td>52.000</td>\n",
       "    </tr>\n",
       "    <tr>\n",
       "      <th>1</th>\n",
       "      <td>0.86107</td>\n",
       "      <td>-0.10728</td>\n",
       "      <td>-2.03180</td>\n",
       "      <td>-0.846320</td>\n",
       "      <td>0.14752</td>\n",
       "      <td>0.11857</td>\n",
       "      <td>0.85306</td>\n",
       "      <td>-0.59189</td>\n",
       "      <td>-0.26797</td>\n",
       "      <td>1.65540</td>\n",
       "      <td>...</td>\n",
       "      <td>0.48337</td>\n",
       "      <td>0.91948</td>\n",
       "      <td>0.68379</td>\n",
       "      <td>-0.253330</td>\n",
       "      <td>0.032124</td>\n",
       "      <td>1.173800</td>\n",
       "      <td>1.550900</td>\n",
       "      <td>-0.411230</td>\n",
       "      <td>0.23187</td>\n",
       "      <td>10.378</td>\n",
       "    </tr>\n",
       "    <tr>\n",
       "      <th>2</th>\n",
       "      <td>1.55820</td>\n",
       "      <td>0.61950</td>\n",
       "      <td>2.35520</td>\n",
       "      <td>0.044202</td>\n",
       "      <td>-1.07630</td>\n",
       "      <td>2.44090</td>\n",
       "      <td>-0.30732</td>\n",
       "      <td>0.62645</td>\n",
       "      <td>-0.33881</td>\n",
       "      <td>0.06896</td>\n",
       "      <td>...</td>\n",
       "      <td>0.21967</td>\n",
       "      <td>-0.23811</td>\n",
       "      <td>0.70586</td>\n",
       "      <td>2.390900</td>\n",
       "      <td>0.729670</td>\n",
       "      <td>-0.448490</td>\n",
       "      <td>0.940510</td>\n",
       "      <td>0.005634</td>\n",
       "      <td>-0.19214</td>\n",
       "      <td>183.330</td>\n",
       "    </tr>\n",
       "    <tr>\n",
       "      <th>3</th>\n",
       "      <td>-0.12968</td>\n",
       "      <td>1.09100</td>\n",
       "      <td>0.76404</td>\n",
       "      <td>-0.057685</td>\n",
       "      <td>-0.10341</td>\n",
       "      <td>0.67060</td>\n",
       "      <td>0.24801</td>\n",
       "      <td>-0.69294</td>\n",
       "      <td>1.32640</td>\n",
       "      <td>-1.00900</td>\n",
       "      <td>...</td>\n",
       "      <td>1.11410</td>\n",
       "      <td>0.99151</td>\n",
       "      <td>0.17876</td>\n",
       "      <td>0.027139</td>\n",
       "      <td>0.510250</td>\n",
       "      <td>-0.628680</td>\n",
       "      <td>-0.179560</td>\n",
       "      <td>0.615190</td>\n",
       "      <td>-0.46937</td>\n",
       "      <td>-37.408</td>\n",
       "    </tr>\n",
       "    <tr>\n",
       "      <th>4</th>\n",
       "      <td>-0.81777</td>\n",
       "      <td>-0.44203</td>\n",
       "      <td>-2.11470</td>\n",
       "      <td>-0.122620</td>\n",
       "      <td>-0.31536</td>\n",
       "      <td>-0.67953</td>\n",
       "      <td>0.60266</td>\n",
       "      <td>-0.83188</td>\n",
       "      <td>-0.44757</td>\n",
       "      <td>-0.58308</td>\n",
       "      <td>...</td>\n",
       "      <td>0.52212</td>\n",
       "      <td>-0.19912</td>\n",
       "      <td>0.29868</td>\n",
       "      <td>-0.556280</td>\n",
       "      <td>1.257500</td>\n",
       "      <td>-0.097418</td>\n",
       "      <td>0.051225</td>\n",
       "      <td>0.962500</td>\n",
       "      <td>1.47100</td>\n",
       "      <td>-49.237</td>\n",
       "    </tr>\n",
       "  </tbody>\n",
       "</table>\n",
       "<p>5 rows × 51 columns</p>\n",
       "</div>"
      ],
      "text/plain": [
       "        0        1        2         3        4        5        6        7   \\\n",
       "0 -0.20194  1.20030  1.58980 -1.598800 -0.16687  0.18943 -1.20490  0.33534   \n",
       "1  0.86107 -0.10728 -2.03180 -0.846320  0.14752  0.11857  0.85306 -0.59189   \n",
       "2  1.55820  0.61950  2.35520  0.044202 -1.07630  2.44090 -0.30732  0.62645   \n",
       "3 -0.12968  1.09100  0.76404 -0.057685 -0.10341  0.67060  0.24801 -0.69294   \n",
       "4 -0.81777 -0.44203 -2.11470 -0.122620 -0.31536 -0.67953  0.60266 -0.83188   \n",
       "\n",
       "        8        9    ...          41       42       43        44        45  \\\n",
       "0 -0.69619  2.16430   ...    -1.42180  0.78505  0.70262 -2.353700  1.394700   \n",
       "1 -0.26797  1.65540   ...     0.48337  0.91948  0.68379 -0.253330  0.032124   \n",
       "2 -0.33881  0.06896   ...     0.21967 -0.23811  0.70586  2.390900  0.729670   \n",
       "3  1.32640 -1.00900   ...     1.11410  0.99151  0.17876  0.027139  0.510250   \n",
       "4 -0.44757 -0.58308   ...     0.52212 -0.19912  0.29868 -0.556280  1.257500   \n",
       "\n",
       "         46        47        48       49       50  \n",
       "0  0.350110  2.084900 -1.487400 -0.62893   52.000  \n",
       "1  1.173800  1.550900 -0.411230  0.23187   10.378  \n",
       "2 -0.448490  0.940510  0.005634 -0.19214  183.330  \n",
       "3 -0.628680 -0.179560  0.615190 -0.46937  -37.408  \n",
       "4 -0.097418  0.051225  0.962500  1.47100  -49.237  \n",
       "\n",
       "[5 rows x 51 columns]"
      ]
     },
     "execution_count": 193,
     "metadata": {},
     "output_type": "execute_result"
    }
   ],
   "source": [
    "data3.head()"
   ]
  },
  {
   "cell_type": "code",
   "execution_count": 200,
   "metadata": {},
   "outputs": [],
   "source": [
    "x_train, y_train ,x_test , y_test = holdout_method(x3, y3, 0.3)"
   ]
  },
  {
   "cell_type": "code",
   "execution_count": 201,
   "metadata": {},
   "outputs": [
    {
     "name": "stdout",
     "output_type": "stream",
     "text": [
      "Wall time: 1.62 s\n"
     ]
    }
   ],
   "source": [
    "%%time\n",
    "\n",
    "# Finding parameters through indirect method:\n",
    "cost_data3, w_list_data3, w_data3, w0_data3, final_cost_data3 = linear_reg(x_train, y_train, 1000, 0.001)"
   ]
  },
  {
   "cell_type": "code",
   "execution_count": 202,
   "metadata": {},
   "outputs": [
    {
     "data": {
      "image/png": "[encoded data removed]",
      "text/plain": [
       "<matplotlib.figure.Figure at 0x4397dfacc0>"
      ]
     },
     "metadata": {
      "needs_background": "light"
     },
     "output_type": "display_data"
    }
   ],
   "source": [
    "# j(w) vs w for data3:\n",
    "\n",
    "fig= plt.figure(figsize= (5,3))\n",
    "plt.xlabel(\"w\", color= 'green')\n",
    "plt.ylabel(\"J(w)\", color= 'green')\n",
    "plt.title('j(w) vs w', color= 'blue')\n",
    "w0_d3 = np.array(w_list_data3)[:,0]\n",
    "w1_d3 = np.array(w_list_data3)[:,1]\n",
    "plt.scatter(w0_d3, cost_data3, label='w0')\n",
    "plt.scatter(w1_d3, cost_data3, marker=\"*\", label='w1')\n",
    "plt.plot(w0_d3, cost_data3)\n",
    "plt.plot(w1_d3, cost_data3)\n",
    "plt.legend()\n",
    "plt.show()"
   ]
  },
  {
   "cell_type": "code",
   "execution_count": 207,
   "metadata": {},
   "outputs": [
    {
     "name": "stdout",
     "output_type": "stream",
     "text": [
      "[ 3.00019791 13.00021757  4.0001188   7.99959176 10.99989549 18.00003055\n",
      " 14.00013291 15.99977353  2.99999798 11.0002322  18.0001851   2.99997789\n",
      " 12.99988306  1.99995409  8.99993559 15.00000357  2.99987375 17.00005632\n",
      " 12.99994408 17.9997249  12.9999241   9.00015804 13.00002745 10.00030561\n",
      "  2.00012271 13.000131   19.99979324 10.00032546 13.00005014 12.00008945\n",
      "  5.00013459 14.00053619  4.00022157 16.00023235  5.00006319  4.00007846\n",
      " 14.9998768   5.99995668  4.00015016 12.99966581  6.00003604  6.00002903\n",
      " 16.99962062  7.99960157  3.0003108   3.99985089  8.00017733 18.00021662\n",
      " 11.99998713  6.00000405]\n",
      "Wall time: 56 ms\n"
     ]
    }
   ],
   "source": [
    "%%time\n",
    "\n",
    "# Finding parameters through direct method:\n",
    "theta_cap = np.linalg.inv((x_train.T).dot(x_train)).dot(x_train.T).dot(y_train)\n",
    "print(theta_cap)"
   ]
  },
  {
   "cell_type": "markdown",
   "metadata": {},
   "source": [
    "Through direct method the time taken is in 'ms' and through indirect method the time taken is in 'sec'."
   ]
  },
  {
   "cell_type": "code",
   "execution_count": 189,
   "metadata": {},
   "outputs": [
    {
     "name": "stdout",
     "output_type": "stream",
     "text": [
      "The parameters of the model are:\t w= [ 4.48309763  6.21025969  3.98486775  5.56651607  4.15894196 11.36342958\n",
      "  5.65981305  8.47190488  4.11760715  6.91629567  6.47473     1.19067321\n",
      "  8.52430225  1.08410993  7.50274788  5.379818    4.75344954 11.55297624\n",
      "  6.30706223 15.4739259   6.97705928  7.24404251  1.90008477  1.00191665\n",
      "  2.31716697  6.9536263  11.84774646  3.36292104  8.59686051  5.82549845\n",
      "  3.75082722  6.85070112  1.29577255 10.9684056   6.5944612   0.99391271\n",
      "  7.33365581  6.8724735  -2.64766185  8.51172817 -1.29663233  2.50777837\n",
      "  8.84556519 11.03453644  3.75839761  4.40678981  3.32117047  6.43056795\n",
      "  7.75582074 -1.5996411 ] \t w0= 2.318493806802443 \t cost= 399.3477258307547\n"
     ]
    }
   ],
   "source": [
    "print(f\"The parameters of the model are:\\t w= {w_data3} \\t w0= {w0_data3} \\t cost= {final_cost_data3}\")"
   ]
  },
  {
   "cell_type": "markdown",
   "metadata": {},
   "source": [
    "## Data 4:"
   ]
  },
  {
   "cell_type": "code",
   "execution_count": 190,
   "metadata": {},
   "outputs": [
    {
     "data": {
      "text/html": [
       "<div>\n",
       "<style scoped>\n",
       "    .dataframe tbody tr th:only-of-type {\n",
       "        vertical-align: middle;\n",
       "    }\n",
       "\n",
       "    .dataframe tbody tr th {\n",
       "        vertical-align: top;\n",
       "    }\n",
       "\n",
       "    .dataframe thead th {\n",
       "        text-align: right;\n",
       "    }\n",
       "</style>\n",
       "<table border=\"1\" class=\"dataframe\">\n",
       "  <thead>\n",
       "    <tr style=\"text-align: right;\">\n",
       "      <th></th>\n",
       "      <th>0</th>\n",
       "      <th>1</th>\n",
       "      <th>2</th>\n",
       "      <th>3</th>\n",
       "      <th>4</th>\n",
       "      <th>5</th>\n",
       "      <th>6</th>\n",
       "      <th>7</th>\n",
       "      <th>8</th>\n",
       "      <th>9</th>\n",
       "      <th>...</th>\n",
       "      <th>191</th>\n",
       "      <th>192</th>\n",
       "      <th>193</th>\n",
       "      <th>194</th>\n",
       "      <th>195</th>\n",
       "      <th>196</th>\n",
       "      <th>197</th>\n",
       "      <th>198</th>\n",
       "      <th>199</th>\n",
       "      <th>200</th>\n",
       "    </tr>\n",
       "  </thead>\n",
       "  <tbody>\n",
       "    <tr>\n",
       "      <th>0</th>\n",
       "      <td>-0.003780</td>\n",
       "      <td>0.031027</td>\n",
       "      <td>-0.388220</td>\n",
       "      <td>1.42080</td>\n",
       "      <td>-0.78641</td>\n",
       "      <td>0.984240</td>\n",
       "      <td>0.75169</td>\n",
       "      <td>-1.158100</td>\n",
       "      <td>-0.55794</td>\n",
       "      <td>-0.658210</td>\n",
       "      <td>...</td>\n",
       "      <td>-0.62419</td>\n",
       "      <td>-0.84155</td>\n",
       "      <td>-0.79758</td>\n",
       "      <td>1.87690</td>\n",
       "      <td>-2.00010</td>\n",
       "      <td>-0.19268</td>\n",
       "      <td>1.63860</td>\n",
       "      <td>-0.59015</td>\n",
       "      <td>-0.42054</td>\n",
       "      <td>-839.430</td>\n",
       "    </tr>\n",
       "    <tr>\n",
       "      <th>1</th>\n",
       "      <td>-0.036043</td>\n",
       "      <td>-1.159100</td>\n",
       "      <td>0.219710</td>\n",
       "      <td>-0.95231</td>\n",
       "      <td>-0.50804</td>\n",
       "      <td>0.067726</td>\n",
       "      <td>1.12300</td>\n",
       "      <td>1.269000</td>\n",
       "      <td>2.18280</td>\n",
       "      <td>0.172510</td>\n",
       "      <td>...</td>\n",
       "      <td>0.77773</td>\n",
       "      <td>-1.75710</td>\n",
       "      <td>1.14450</td>\n",
       "      <td>1.01170</td>\n",
       "      <td>-0.31249</td>\n",
       "      <td>0.40022</td>\n",
       "      <td>-1.05920</td>\n",
       "      <td>-0.45485</td>\n",
       "      <td>-0.34847</td>\n",
       "      <td>62.063</td>\n",
       "    </tr>\n",
       "    <tr>\n",
       "      <th>2</th>\n",
       "      <td>-0.438100</td>\n",
       "      <td>-0.733720</td>\n",
       "      <td>-0.089075</td>\n",
       "      <td>1.22010</td>\n",
       "      <td>-1.40850</td>\n",
       "      <td>0.971640</td>\n",
       "      <td>1.13360</td>\n",
       "      <td>-0.406290</td>\n",
       "      <td>-0.64220</td>\n",
       "      <td>0.145740</td>\n",
       "      <td>...</td>\n",
       "      <td>-1.12920</td>\n",
       "      <td>-0.69191</td>\n",
       "      <td>-1.89440</td>\n",
       "      <td>-0.42760</td>\n",
       "      <td>0.33931</td>\n",
       "      <td>-0.72165</td>\n",
       "      <td>0.22623</td>\n",
       "      <td>0.26848</td>\n",
       "      <td>0.24492</td>\n",
       "      <td>115.990</td>\n",
       "    </tr>\n",
       "    <tr>\n",
       "      <th>3</th>\n",
       "      <td>-0.572800</td>\n",
       "      <td>-0.251010</td>\n",
       "      <td>-1.052400</td>\n",
       "      <td>0.37794</td>\n",
       "      <td>1.46930</td>\n",
       "      <td>-0.099663</td>\n",
       "      <td>2.48980</td>\n",
       "      <td>-0.041293</td>\n",
       "      <td>0.99387</td>\n",
       "      <td>-0.040381</td>\n",
       "      <td>...</td>\n",
       "      <td>0.24356</td>\n",
       "      <td>-1.07830</td>\n",
       "      <td>-1.69030</td>\n",
       "      <td>0.79401</td>\n",
       "      <td>0.32061</td>\n",
       "      <td>-0.35921</td>\n",
       "      <td>0.33322</td>\n",
       "      <td>1.39690</td>\n",
       "      <td>0.86721</td>\n",
       "      <td>101.340</td>\n",
       "    </tr>\n",
       "    <tr>\n",
       "      <th>4</th>\n",
       "      <td>-0.129100</td>\n",
       "      <td>1.506500</td>\n",
       "      <td>0.532350</td>\n",
       "      <td>-0.76057</td>\n",
       "      <td>-1.67030</td>\n",
       "      <td>-0.714710</td>\n",
       "      <td>1.87340</td>\n",
       "      <td>-0.842890</td>\n",
       "      <td>0.33552</td>\n",
       "      <td>-0.884650</td>\n",
       "      <td>...</td>\n",
       "      <td>-0.66104</td>\n",
       "      <td>0.94924</td>\n",
       "      <td>1.88560</td>\n",
       "      <td>-1.78200</td>\n",
       "      <td>0.76805</td>\n",
       "      <td>1.90530</td>\n",
       "      <td>1.01890</td>\n",
       "      <td>-0.85400</td>\n",
       "      <td>-0.17766</td>\n",
       "      <td>171.260</td>\n",
       "    </tr>\n",
       "  </tbody>\n",
       "</table>\n",
       "<p>5 rows × 201 columns</p>\n",
       "</div>"
      ],
      "text/plain": [
       "        0         1         2        3        4         5        6    \\\n",
       "0 -0.003780  0.031027 -0.388220  1.42080 -0.78641  0.984240  0.75169   \n",
       "1 -0.036043 -1.159100  0.219710 -0.95231 -0.50804  0.067726  1.12300   \n",
       "2 -0.438100 -0.733720 -0.089075  1.22010 -1.40850  0.971640  1.13360   \n",
       "3 -0.572800 -0.251010 -1.052400  0.37794  1.46930 -0.099663  2.48980   \n",
       "4 -0.129100  1.506500  0.532350 -0.76057 -1.67030 -0.714710  1.87340   \n",
       "\n",
       "        7        8         9     ...         191      192      193      194  \\\n",
       "0 -1.158100 -0.55794 -0.658210   ...    -0.62419 -0.84155 -0.79758  1.87690   \n",
       "1  1.269000  2.18280  0.172510   ...     0.77773 -1.75710  1.14450  1.01170   \n",
       "2 -0.406290 -0.64220  0.145740   ...    -1.12920 -0.69191 -1.89440 -0.42760   \n",
       "3 -0.041293  0.99387 -0.040381   ...     0.24356 -1.07830 -1.69030  0.79401   \n",
       "4 -0.842890  0.33552 -0.884650   ...    -0.66104  0.94924  1.88560 -1.78200   \n",
       "\n",
       "       195      196      197      198      199      200  \n",
       "0 -2.00010 -0.19268  1.63860 -0.59015 -0.42054 -839.430  \n",
       "1 -0.31249  0.40022 -1.05920 -0.45485 -0.34847   62.063  \n",
       "2  0.33931 -0.72165  0.22623  0.26848  0.24492  115.990  \n",
       "3  0.32061 -0.35921  0.33322  1.39690  0.86721  101.340  \n",
       "4  0.76805  1.90530  1.01890 -0.85400 -0.17766  171.260  \n",
       "\n",
       "[5 rows x 201 columns]"
      ]
     },
     "execution_count": 190,
     "metadata": {},
     "output_type": "execute_result"
    }
   ],
   "source": [
    "data4.head()"
   ]
  },
  {
   "cell_type": "code",
   "execution_count": 213,
   "metadata": {},
   "outputs": [
    {
     "name": "stdout",
     "output_type": "stream",
     "text": [
      "\n",
      "The parameters are:\n",
      " [ -0.69423434  -0.69423434  -0.69423434  -0.69423434  -0.69423434\n",
      "  25.09552282  10.95018287  -4.14190897  30.90771347  15.60218703\n",
      "   9.99849711   9.77204926   9.77724609   5.30375483  14.14298231\n",
      "  15.84891517  14.01841142  35.0791399    4.72829388   5.06022563\n",
      "  -4.12481268  -7.0302878    3.65740705  -5.27623519  10.48288239\n",
      "  15.45701925 -25.17755789  15.69616817  16.92760432  23.25070271\n",
      "  -7.58931606 -10.72814545  -2.80859348 -11.38047887  11.83501807\n",
      "   8.59000785 -11.73466815  28.57767458  34.1354139   21.54898369\n",
      "  -2.38378129  22.44798176   6.39701746  10.28853233  33.88363963\n",
      "  24.36090784  17.38893051  23.07242506   4.27148309  42.12367356\n",
      "  28.25960912   2.46600009   7.29294581  10.50169584  16.65733056\n",
      "  -5.48250124 -15.42066557  35.13785455   7.85559945  22.15797757\n",
      " -13.35807589   1.69356104   2.98349807  -5.63295515  25.05294286\n",
      "  27.92775973  14.71509676   6.92095029   1.39986051 -28.92786296\n",
      " -11.3651293   -0.49993679  16.15625477  21.90663941   3.08429646\n",
      "  18.91588893  20.54885728  11.43536115   2.71073691  -5.30141425\n",
      "  36.5114351    4.4631153  -14.43503061  24.55238937   2.96145014\n",
      "  21.31260403  13.65996722  -0.86155863  19.98808616   6.95014402\n",
      " -26.12766092  12.11175335   8.70609515  -5.20908164 -19.11479326\n",
      "  -8.45424821  15.42842957 -17.67986731   6.28890115  24.48823794\n",
      "  17.3984698    6.72524478   2.35406674   6.47964049 -11.5610243\n",
      "  55.23922693 -10.20786258  28.68579892  -4.24378005  -7.53360425\n",
      "   4.46594597   7.2626046   10.30781098   9.59712417 -13.63311617\n",
      " -15.44207759   9.94083584  21.00820262  20.21353377  19.81081706\n",
      "  37.09823643  -0.25158982  25.64613747  -0.40685871  33.56685266\n",
      "  13.88024915  17.6347023   10.64564666  21.01034757  26.49095393\n",
      "  25.84096398  26.29759362  15.20953346  38.90405548  14.34287207\n",
      "  18.53422349  18.25219998  33.68225036  50.41528943   1.09435343\n",
      "   8.35012894   3.09906653  17.35412465  19.91243006  17.61045403\n",
      "  19.12701152  40.24380382 -30.33372342   4.64722072   0.50279102\n",
      "   4.72653413  -7.95259007  21.01486395  -0.59588916   9.35034363\n",
      "   6.1544234   -8.66230475   1.62442509   4.6389108   28.9824119\n",
      "  -8.93531871  27.06377732  19.02234593   7.61147125   7.8615395\n",
      "  33.11619514   4.02652237  26.31926281  -2.06198356  -5.40610193\n",
      "  12.32082046  14.09117743  28.2072534    3.14128216   8.94840762\n",
      "  10.28187134  40.27956099  27.01513382   8.91709589  38.1738648\n",
      "   3.09841702 -10.08973857  14.04470297  24.47375707 -14.93363139\n",
      "  19.55807297  23.07192511   7.00884458  12.43199075  31.20788314\n",
      "  -4.24599611   7.34175646  38.5771408   -4.1446661   -8.74184962\n",
      "   3.88304346  25.4638232   17.79331088   7.15033934  10.87750538\n",
      "  -2.5005525  -10.22026992  19.65525853  22.12408744 -18.00457041]\n",
      "\n",
      "Mean sqaure error is: \t 96016.39879005565\n",
      "Wall time: 132 ms\n"
     ]
    }
   ],
   "source": [
    "%%time\n",
    "\n",
    "from numpy import linalg as LA\n",
    "from sklearn.model_selection import train_test_split\n",
    "\n",
    "n, m = data4.shape[0], data4.shape[1]\n",
    "\n",
    "# Assigning Labels to the data:\n",
    "titles= []\n",
    "for i in range(1,m):\n",
    "    titles.append('x'+str(i))\n",
    "titles.append('Y')\n",
    "data4.columns = titles\n",
    "\n",
    "# Adding the bias column\n",
    "data4.insert(0, 'x0', 1)\n",
    "\n",
    "# X and Y:\n",
    "X_final= data4[data4.columns[0:m]]\n",
    "Y_final= data4[data4.columns[m]]\n",
    "\n",
    "X, x_test, Y, y_test = train_test_split(X_final, Y_final, test_size= 0.3)\n",
    "\n",
    "# Parameters for the model:\n",
    "a= LA.inv(np.dot(X,X.T))\n",
    "b= np.dot(a,Y)\n",
    "W= np.dot(X.T,b)\n",
    "print(\"\\nThe parameters are:\\n\",W)\n",
    "          \n",
    "# Mean square error:\n",
    "y_tp=np.dot(x_test,W)\n",
    "sqr_err=(y_tp - y_test)**2\n",
    "mean_sqr_err=1/(len(y_test)) * np.sum(sqr_err)\n",
    "print(\"\\nMean sqaure error is: \\t\", mean_sqr_err)"
   ]
  },
  {
   "cell_type": "markdown",
   "metadata": {},
   "source": [
    "## Data 5:"
   ]
  },
  {
   "cell_type": "code",
   "execution_count": 217,
   "metadata": {},
   "outputs": [],
   "source": [
    "N,n= data5.shape[0], data5.shape[1]\n",
    "\n",
    "# Label the data\n",
    "names=['Vendor Name', 'Model name', 'MYCT', 'MMIN','MMAX','CACH','CHMIN','CHMAX','PRP','ERP']\n",
    "data5.columns = names\n",
    "\n",
    "# Augmented matrix XY\n",
    "XY_full= data5[['MYCT','MMIN','MMAX','CACH','CHMIN','CHMAX','PRP']]\n",
    "\n",
    "# Splitting into testing and training data\n",
    "XY, xy_test = train_test_split (XY_full, test_size = 0.3)\n",
    "  \n",
    "# Normalisation:\n",
    "def normalisation(data):\n",
    "    for column in data.columns:\n",
    "        data[column] = (data[column] - data[column].min()) / (data[column].max() - data[column].min())    \n",
    "    return data\n",
    "\n",
    "# Iterative Gradient descent algorithm\n",
    "def gradient_des(X, Y, W, alpha):\n",
    "    Y_predicted= np.dot(X,W)\n",
    "    del_Jw= np.dot(X.T,(Y_predicted - Y))\n",
    "    w_new= W-alpha * del_Jw\n",
    "    eps= w_new-W\n",
    "    norm= LA.norm(eps)\n",
    "    return w_new, norm\n",
    "\n",
    "# Normalising the training data:\n",
    "XY_norm = normalisation(XY.copy())\n",
    "\n",
    "# Normalising the testing data:\n",
    "xyt_norm = normalisation(xy_test.copy())"
   ]
  },
  {
   "cell_type": "markdown",
   "metadata": {},
   "source": [
    "## Holdout Method:"
   ]
  },
  {
   "cell_type": "code",
   "execution_count": 218,
   "metadata": {},
   "outputs": [
    {
     "name": "stdout",
     "output_type": "stream",
     "text": [
      "\n",
      " Result of Holdout method\n",
      "\n",
      " The parameter obtained using holdout method is [-0.05177863  0.06203106  0.36788305  0.31892182  0.11505194  0.09514787\n",
      "  0.19173334]\n",
      "\n",
      " The mean sqaure error for the model is 0.007925735838747219\n"
     ]
    }
   ],
   "source": [
    "# Separating out the X,Y matrices\n",
    "X_norm= XY_norm[['MYCT','MMIN','MMAX','CACH','CHMIN','CHMAX']]\n",
    "Y_norm= XY_norm[XY_norm.columns[6]]\n",
    "\n",
    "Xt_norm= xyt_norm[['MYCT','MMIN','MMAX','CACH','CHMIN','CHMAX']]\n",
    "Yt_norm= xyt_norm[xyt_norm.columns[6]]\n",
    "\n",
    "# Bias column:\n",
    "X_norm.insert(0, 'x0', 1)\n",
    "Xt_norm.insert(0, 'xt 0', 1)\n",
    "\n",
    "# Holdout Method\n",
    "w= []\n",
    "alpha= np.linspace(0.001,0.009,30)\n",
    "for j in alpha:\n",
    "    i, W, norm= 0, np.zeros(7), 10\n",
    "    while (norm > 0.001 and i < 500):\n",
    "        w_new, norm = gradient_des(X_norm, Y_norm, W, j)\n",
    "        w.append(w_new)\n",
    "        W=w_new\n",
    "        i+=1\n",
    "\n",
    "    # Performance measure (mean-square error)\n",
    "    y_tp=np.dot(Xt_norm,w_new)\n",
    "    sqr_err=(y_tp-Yt_norm)**2\n",
    "    mse=1/(len(Yt_norm)) * np.sum(sqr_err)\n",
    "\n",
    "print('\\n Result of Holdout method')\n",
    "print(\"\\n The parameter obtained using holdout method is\", w_new)\n",
    "print(\"\\n The mean sqaure error for the model is\", mse)"
   ]
  },
  {
   "cell_type": "markdown",
   "metadata": {},
   "source": [
    "## Monte-Carlo Cross validation"
   ]
  },
  {
   "cell_type": "code",
   "execution_count": 220,
   "metadata": {},
   "outputs": [
    {
     "name": "stdout",
     "output_type": "stream",
     "text": [
      "\n",
      "Monte-Carlo Cross Validation\n",
      "\n",
      "MSE for the model is [0.0638482476789106, 0.03763602786509305, 0.03575905627439685, 0.040821749023370456, 0.02577425190008567, 0.04030134639952651, 0.029355719156378808, 0.0214501138588395, 0.025157639610108345, 0.049101585191213624, 0.037117867939490325, 0.02556868108837667, 0.013578726140082296, 0.018852752304682228, 0.013977483123633753, 0.019671493085423826, 0.017926459321924867, 0.01826372259283241, 0.014181661058195886, 0.050391782490708546, 0.019905979218590875, 0.024894469982867658, 0.017313728875000912, 0.023031267552825224, 0.046033877889404, 0.04306974525584187, 0.01501752269786171, 0.019055610003790475, 0.025680665474250543, 0.03923669722852294, 0.03437808883578167, 0.020613720994327372, 0.02960794408473223, 0.01652854599588627, 0.021695610468221466, 0.03709072560485785, 0.0162052941814655, 0.03708869650502209, 0.018708648784144168, 0.020554122546795294, 0.015557940468900914, 0.04181002478823692, 0.012034052095001226, 0.019053585401504827, 0.013069789861740184, 0.015589513865736265, 0.017269314280996213, 0.014051284289586574, 0.010744520922643845, 0.009998475162569322, 0.012914674972114742, 0.008975221636490742, 0.011919033049470961, 0.037850150442792926, 0.018438708956178617, 0.018593854742917647, 0.01196467455029747, 0.023972130849866446, 0.014704706904923735, 0.015361982911513342, 0.050047794254379566, 0.05512928671442373, 0.05773506432926977, 0.027257948455482916, 0.02503171165757489, 0.04394868485668793, 0.02744490895333898, 0.02001551288703831, 0.03549182778315836, 0.024688272570521322, 0.013963176869913172, 0.02720694760064921, 0.009174536085488535, 0.019732918219128783, 0.0230618781206648, 0.014131395848105422, 0.007401644720232966, 0.013036626984660465, 0.006270159809952032, 0.0075698449187448945, 0.009830605980437137, 0.009360775484964943, 0.008193594470062762, 0.006909378630236751, 0.0070033649695005785, 0.010670077392986373, 0.006276647499131842, 0.006474722086496537, 0.008050339032062547, 0.011560977973448126, 0.03385375475776922, 0.02278224670076998, 0.06624750819976517, 0.014125344107670022, 0.018315532764189676, 0.013835301423132504, 0.017760658429504885, 0.015615566099175946, 0.048174611499913235, 0.019446791775530166, 0.010693814354474846, 0.03094183892645542, 0.011240849095963307, 0.007448895123335488, 0.008545409616007325, 0.009688082708929997, 0.022862875444338186, 0.010318000010862293, 0.007964548233343745, 0.0057538664071833875, 0.0197314232994295, 0.019432679643058098, 0.0060366411120486374, 0.006640454611819134, 0.0070169638214611025, 0.007204022210174158, 0.005861272719525679, 0.008872713489606426, 0.00859813543077736, 0.005088402143079693, 0.024478986892466137, 0.024441012222798694, 0.030181484664746093, 0.031005483807993298, 0.026655174842907074, 0.017538537419021765, 0.017300603392258612, 0.016154400876207477, 0.01852424034018329, 0.0206289320088222, 0.019955044927645382, 0.02668113197768089, 0.009043010760060517, 0.017975587202420807, 0.011813907668127234, 0.007220994605261973, 0.006619780062832612, 0.015386479164963041, 0.010064089247410193, 0.019819326388625207, 0.007860800165289158, 0.004552903087416293, 0.006107097514905597, 0.005356869566034965, 0.01299531915906565, 0.005557938430314129, 0.011187622980332199, 0.017822251985743567, 0.005068310199276973, 0.016325217058184963, 0.01869236960669884, 0.018175350674571197, 0.013330089183407594, 0.020886933338990454, 0.017544507914212505, 0.037211803702903216, 0.01078900266603873, 0.01654620760806256, 0.024030451366535508, 0.01181264296128566, 0.009014774953984825, 0.007235052434957417, 0.008421310544632705, 0.016750556209429186, 0.011551613750480052, 0.005390765711332876, 0.00867327230363666, 0.006891888804995621, 0.00613080172237845, 0.005128163695919063, 0.006898392644952383, 0.004752914832636671, 0.019667674998138124, 0.015973002666282158, 0.005204951160102312, 0.007406394134724882, 0.012986765854584581, 0.0034953435950090036, 0.007181957025679753, 0.006005952454930321, 0.030558732936579108, 0.019969293648979595, 0.016532007663851055, 0.014808147019965677, 0.04103660424320965, 0.009351739282385942, 0.02801396892041709, 0.009325079316679336, 0.0144251272398244, 0.00853678656791742, 0.006242832354158516, 0.009000687098070831, 0.01666894488654824, 0.019722850398395195, 0.007321615246743279, 0.00478482917714225, 0.008355481524693857, 0.013104317942751884, 0.006164369067952754, 0.006117707487866575, 0.005709485047011959, 0.009472762427704671, 0.005801323190864091, 0.005219674634967906, 0.00793942646953246, 0.005000252046783639, 0.0055614399570246675, 0.007360581421324681, 0.0035680708717615453, 0.004846933705610531, 0.02352064478428755, 0.019948450418517217, 0.053085319153832786, 0.015230731241856999, 0.01207079631361742, 0.02576963334913811, 0.009556823638085637, 0.022215279707186113, 0.007401577189836272, 0.00856296549412223, 0.02553154376790129, 0.006279831552169335, 0.014753730342297627, 0.004505882430305121, 0.006125690550549913, 0.015180983777406912, 0.012575736771760715, 0.007721896179775092, 0.008154794650089078, 0.004908186493499858, 0.009397775313537375, 0.0044981750411383975, 0.006349437183096406, 0.004471630879434197, 0.0062415223802731725, 0.005601447169660054, 0.0038611786452770807, 0.006400317440521285, 0.007365433147716937, 0.0069265386758793745, 0.01798913513894077, 0.024325013738014836, 0.015436970441435223, 0.034287558930875275, 0.016365801350376942, 0.025114735233606036, 0.023810384293349966, 0.01173598651069226, 0.006410573322911369, 0.012117977017499936, 0.018106283277224414, 0.006574405899729793, 0.007444206158409472, 0.006093791883886936, 0.008967524050979295, 0.006669341495791689, 0.013261940145721279, 0.0044812121819655555, 0.005134153132245659, 0.013677798035174962, 0.005147928014970022, 0.00681150246353014, 0.006662268419332028, 0.008371109287339555, 0.005808759176723611, 0.006119036537168262, 0.004112818447160608, 0.005159631900341388, 0.006797376407561539, 0.0057385092526305685, 0.04607946169622345, 0.015112461783779176, 0.011171980811645577, 0.009944397834984997, 0.024991638619050627, 0.01102022402783139, 0.022880088125069926, 0.008880780916134602, 0.007585487831808928, 0.004291775924014881, 0.0077315749441648806, 0.00709721364942454, 0.015425315465647849, 0.006918667072927856, 0.005454676808429393, 0.0062885063971938335, 0.004751062388323024, 0.005868205051559531, 0.009728234452006027, 0.008019903185724351, 0.0074032366937479294, 0.0038321497685835887, 0.005966689253754487, 0.01073624222415614, 0.0033793331295060435, 0.008664454696252002, 0.005097206760520704, 0.007410767204463808, 0.005237824403383521, 0.003960154619525232]\n",
      "\n",
      "The average MSE: 0.01577863906086797\n"
     ]
    }
   ],
   "source": [
    "w, mse_full= [], []\n",
    "alpha= np.linspace(0.001, 0.009, 10)\n",
    "for j in alpha:\n",
    "    W=np.zeros(7)\n",
    "    for i in range(30):\n",
    "        # Splitting into testing and training data\n",
    "        XY, xy_test = train_test_split(XY_full,test_size = 0.3, shuffle=True)\n",
    "\n",
    "        # Normalising the training and testing data\n",
    "        XY_norm = normalisation(XY.copy())\n",
    "        xyt_norm = normalisation(xy_test.copy())\n",
    "\n",
    "        # Separating out the X,Y matrices\n",
    "        X_norm=XY_norm[['MYCT','MMIN','MMAX','CACH','CHMIN','CHMAX']]\n",
    "        Y_norm=XY_norm[XY_norm.columns[6]]\n",
    "        Xt_norm=xyt_norm[['MYCT','MMIN','MMAX','CACH','CHMIN','CHMAX']]\n",
    "        Yt_norm=xyt_norm[xyt_norm.columns[6]]\n",
    "\n",
    "        # Inserting the Bias column\n",
    "        X_norm.insert(0, 'Bias', 1)\n",
    "        Xt_norm.insert(0, 'Bias', 1)\n",
    "        \n",
    "        w_new,norm = gradient_descent(X_norm, Y_norm, W, j)\n",
    "        w.append(w_new)\n",
    "        W=w_new\n",
    "\n",
    "        # Computing the performance measure using mean-square error\n",
    "        y_tp=np.dot(Xt_norm,w_new)\n",
    "        sqr_err=(y_tp-Yt_norm)**2\n",
    "        mse=1/(len(Yt_norm)) * np.sum(sqr_err)\n",
    "        mse_full.append(mse)\n",
    "\n",
    "print(\"\\nMonte-Carlo Cross Validation\")\n",
    "print(\"\\nMSE for the model is\", mse_full)\n",
    "print(\"\\nThe average MSE:\", np.sum(mse_full)/len(mse_full))"
   ]
  },
  {
   "cell_type": "markdown",
   "metadata": {},
   "source": [
    "## K-fold cross validation:"
   ]
  },
  {
   "cell_type": "code",
   "execution_count": 221,
   "metadata": {},
   "outputs": [
    {
     "name": "stdout",
     "output_type": "stream",
     "text": [
      "\n",
      "K-fold method:\n",
      "\n",
      "Accuracy of per fold - [0.5714285714285714, 0.5476190476190477, 0.6190476190476191, 0.5476190476190477, 0.4878048780487805]\n",
      "\n",
      "Average accuracy : 0.5547038327526133\n"
     ]
    }
   ],
   "source": [
    "X= data5[['MYCT','MMIN','MMAX','CACH','CHMIN','CHMAX']]\n",
    "y = data5[data5.columns[6]] \n",
    "k = 5\n",
    "kf = KFold (n_splits= k, random_state= None)\n",
    "model = LogisticRegression(solver= 'liblinear')\n",
    " \n",
    "acc_score= []\n",
    " \n",
    "for train_index , test_index in kf.split(X):\n",
    "    X_train , X_test = X.iloc[train_index,:],X.iloc[test_index,:]\n",
    "    y_train , y_test = y[train_index] , y[test_index]\n",
    "     \n",
    "    model.fit(X_train,y_train)\n",
    "    pred_values = model.predict(X_test)\n",
    "     \n",
    "    acc = accuracy_score(pred_values , y_test)\n",
    "    acc_score.append(acc)\n",
    "     \n",
    "avg_acc_score = sum(acc_score)/k\n",
    "print('\\nK-fold method:') \n",
    "print('\\nAccuracy of per fold - {}'.format(acc_score))\n",
    "print('\\nAverage accuracy : {}'.format(avg_acc_score))"
   ]
  },
  {
   "cell_type": "code",
   "execution_count": null,
   "metadata": {},
   "outputs": [],
   "source": []
  }
 ],
 "metadata": {
  "kernelspec": {
   "display_name": "Python 3 (ipykernel)",
   "language": "python",
   "name": "python3"
  },
  "language_info": {
   "codemirror_mode": {
    "name": "ipython",
    "version": 3
   },
   "file_extension": ".py",
   "mimetype": "text/x-python",
   "name": "python",
   "nbconvert_exporter": "python",
   "pygments_lexer": "ipython3",
   "version": "3.9.7"
  }
 },
 "nbformat": 4,
 "nbformat_minor": 2
}
